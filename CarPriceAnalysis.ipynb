{
 "cells": [
  {
   "cell_type": "markdown",
   "metadata": {},
   "source": [
    "# What sells a car?\n",
    "\n",
    "You're an analyst at Crankshaft List. Hundreds of free advertisements for vehicles are published on your site every day. You need to study data collected over the last few years and determine which factors influence the price of a vehicle."
   ]
  },
  {
   "cell_type": "markdown",
   "metadata": {},
   "source": [
    "## Initialization"
   ]
  },
  {
   "cell_type": "code",
   "execution_count": 1,
   "metadata": {},
   "outputs": [],
   "source": [
    "# Loading all the libraries\n",
    "import pandas as pd\n",
    "import numpy as np\n",
    "\n",
    "import matplotlib.pyplot as plt\n",
    "import seaborn as sns"
   ]
  },
  {
   "cell_type": "markdown",
   "metadata": {},
   "source": [
    "### Load data"
   ]
  },
  {
   "cell_type": "code",
   "execution_count": 2,
   "metadata": {},
   "outputs": [
    {
     "data": {
      "text/html": [
       "<div>\n",
       "<style scoped>\n",
       "    .dataframe tbody tr th:only-of-type {\n",
       "        vertical-align: middle;\n",
       "    }\n",
       "\n",
       "    .dataframe tbody tr th {\n",
       "        vertical-align: top;\n",
       "    }\n",
       "\n",
       "    .dataframe thead th {\n",
       "        text-align: right;\n",
       "    }\n",
       "</style>\n",
       "<table border=\"1\" class=\"dataframe\">\n",
       "  <thead>\n",
       "    <tr style=\"text-align: right;\">\n",
       "      <th></th>\n",
       "      <th>price</th>\n",
       "      <th>model_year</th>\n",
       "      <th>model</th>\n",
       "      <th>condition</th>\n",
       "      <th>cylinders</th>\n",
       "      <th>fuel</th>\n",
       "      <th>odometer</th>\n",
       "      <th>transmission</th>\n",
       "      <th>type</th>\n",
       "      <th>paint_color</th>\n",
       "      <th>is_4wd</th>\n",
       "      <th>date_posted</th>\n",
       "      <th>days_listed</th>\n",
       "    </tr>\n",
       "  </thead>\n",
       "  <tbody>\n",
       "    <tr>\n",
       "      <td>0</td>\n",
       "      <td>9400</td>\n",
       "      <td>2011.0</td>\n",
       "      <td>bmw x5</td>\n",
       "      <td>good</td>\n",
       "      <td>6.0</td>\n",
       "      <td>gas</td>\n",
       "      <td>145000.0</td>\n",
       "      <td>automatic</td>\n",
       "      <td>SUV</td>\n",
       "      <td>NaN</td>\n",
       "      <td>1.0</td>\n",
       "      <td>2018-06-23</td>\n",
       "      <td>19</td>\n",
       "    </tr>\n",
       "    <tr>\n",
       "      <td>1</td>\n",
       "      <td>25500</td>\n",
       "      <td>NaN</td>\n",
       "      <td>ford f-150</td>\n",
       "      <td>good</td>\n",
       "      <td>6.0</td>\n",
       "      <td>gas</td>\n",
       "      <td>88705.0</td>\n",
       "      <td>automatic</td>\n",
       "      <td>pickup</td>\n",
       "      <td>white</td>\n",
       "      <td>1.0</td>\n",
       "      <td>2018-10-19</td>\n",
       "      <td>50</td>\n",
       "    </tr>\n",
       "    <tr>\n",
       "      <td>2</td>\n",
       "      <td>5500</td>\n",
       "      <td>2013.0</td>\n",
       "      <td>hyundai sonata</td>\n",
       "      <td>like new</td>\n",
       "      <td>4.0</td>\n",
       "      <td>gas</td>\n",
       "      <td>110000.0</td>\n",
       "      <td>automatic</td>\n",
       "      <td>sedan</td>\n",
       "      <td>red</td>\n",
       "      <td>NaN</td>\n",
       "      <td>2019-02-07</td>\n",
       "      <td>79</td>\n",
       "    </tr>\n",
       "    <tr>\n",
       "      <td>3</td>\n",
       "      <td>1500</td>\n",
       "      <td>2003.0</td>\n",
       "      <td>ford f-150</td>\n",
       "      <td>fair</td>\n",
       "      <td>8.0</td>\n",
       "      <td>gas</td>\n",
       "      <td>NaN</td>\n",
       "      <td>automatic</td>\n",
       "      <td>pickup</td>\n",
       "      <td>NaN</td>\n",
       "      <td>NaN</td>\n",
       "      <td>2019-03-22</td>\n",
       "      <td>9</td>\n",
       "    </tr>\n",
       "    <tr>\n",
       "      <td>4</td>\n",
       "      <td>14900</td>\n",
       "      <td>2017.0</td>\n",
       "      <td>chrysler 200</td>\n",
       "      <td>excellent</td>\n",
       "      <td>4.0</td>\n",
       "      <td>gas</td>\n",
       "      <td>80903.0</td>\n",
       "      <td>automatic</td>\n",
       "      <td>sedan</td>\n",
       "      <td>black</td>\n",
       "      <td>NaN</td>\n",
       "      <td>2019-04-02</td>\n",
       "      <td>28</td>\n",
       "    </tr>\n",
       "    <tr>\n",
       "      <td>5</td>\n",
       "      <td>14990</td>\n",
       "      <td>2014.0</td>\n",
       "      <td>chrysler 300</td>\n",
       "      <td>excellent</td>\n",
       "      <td>6.0</td>\n",
       "      <td>gas</td>\n",
       "      <td>57954.0</td>\n",
       "      <td>automatic</td>\n",
       "      <td>sedan</td>\n",
       "      <td>black</td>\n",
       "      <td>1.0</td>\n",
       "      <td>2018-06-20</td>\n",
       "      <td>15</td>\n",
       "    </tr>\n",
       "    <tr>\n",
       "      <td>6</td>\n",
       "      <td>12990</td>\n",
       "      <td>2015.0</td>\n",
       "      <td>toyota camry</td>\n",
       "      <td>excellent</td>\n",
       "      <td>4.0</td>\n",
       "      <td>gas</td>\n",
       "      <td>79212.0</td>\n",
       "      <td>automatic</td>\n",
       "      <td>sedan</td>\n",
       "      <td>white</td>\n",
       "      <td>NaN</td>\n",
       "      <td>2018-12-27</td>\n",
       "      <td>73</td>\n",
       "    </tr>\n",
       "    <tr>\n",
       "      <td>7</td>\n",
       "      <td>15990</td>\n",
       "      <td>2013.0</td>\n",
       "      <td>honda pilot</td>\n",
       "      <td>excellent</td>\n",
       "      <td>6.0</td>\n",
       "      <td>gas</td>\n",
       "      <td>109473.0</td>\n",
       "      <td>automatic</td>\n",
       "      <td>SUV</td>\n",
       "      <td>black</td>\n",
       "      <td>1.0</td>\n",
       "      <td>2019-01-07</td>\n",
       "      <td>68</td>\n",
       "    </tr>\n",
       "    <tr>\n",
       "      <td>8</td>\n",
       "      <td>11500</td>\n",
       "      <td>2012.0</td>\n",
       "      <td>kia sorento</td>\n",
       "      <td>excellent</td>\n",
       "      <td>4.0</td>\n",
       "      <td>gas</td>\n",
       "      <td>104174.0</td>\n",
       "      <td>automatic</td>\n",
       "      <td>SUV</td>\n",
       "      <td>NaN</td>\n",
       "      <td>1.0</td>\n",
       "      <td>2018-07-16</td>\n",
       "      <td>19</td>\n",
       "    </tr>\n",
       "    <tr>\n",
       "      <td>9</td>\n",
       "      <td>9200</td>\n",
       "      <td>2008.0</td>\n",
       "      <td>honda pilot</td>\n",
       "      <td>excellent</td>\n",
       "      <td>NaN</td>\n",
       "      <td>gas</td>\n",
       "      <td>147191.0</td>\n",
       "      <td>automatic</td>\n",
       "      <td>SUV</td>\n",
       "      <td>blue</td>\n",
       "      <td>1.0</td>\n",
       "      <td>2019-02-15</td>\n",
       "      <td>17</td>\n",
       "    </tr>\n",
       "  </tbody>\n",
       "</table>\n",
       "</div>"
      ],
      "text/plain": [
       "   price  model_year           model  condition  cylinders fuel  odometer  \\\n",
       "0   9400      2011.0          bmw x5       good        6.0  gas  145000.0   \n",
       "1  25500         NaN      ford f-150       good        6.0  gas   88705.0   \n",
       "2   5500      2013.0  hyundai sonata   like new        4.0  gas  110000.0   \n",
       "3   1500      2003.0      ford f-150       fair        8.0  gas       NaN   \n",
       "4  14900      2017.0    chrysler 200  excellent        4.0  gas   80903.0   \n",
       "5  14990      2014.0    chrysler 300  excellent        6.0  gas   57954.0   \n",
       "6  12990      2015.0    toyota camry  excellent        4.0  gas   79212.0   \n",
       "7  15990      2013.0     honda pilot  excellent        6.0  gas  109473.0   \n",
       "8  11500      2012.0     kia sorento  excellent        4.0  gas  104174.0   \n",
       "9   9200      2008.0     honda pilot  excellent        NaN  gas  147191.0   \n",
       "\n",
       "  transmission    type paint_color  is_4wd date_posted  days_listed  \n",
       "0    automatic     SUV         NaN     1.0  2018-06-23           19  \n",
       "1    automatic  pickup       white     1.0  2018-10-19           50  \n",
       "2    automatic   sedan         red     NaN  2019-02-07           79  \n",
       "3    automatic  pickup         NaN     NaN  2019-03-22            9  \n",
       "4    automatic   sedan       black     NaN  2019-04-02           28  \n",
       "5    automatic   sedan       black     1.0  2018-06-20           15  \n",
       "6    automatic   sedan       white     NaN  2018-12-27           73  \n",
       "7    automatic     SUV       black     1.0  2019-01-07           68  \n",
       "8    automatic     SUV         NaN     1.0  2018-07-16           19  \n",
       "9    automatic     SUV        blue     1.0  2019-02-15           17  "
      ]
     },
     "metadata": {},
     "output_type": "display_data"
    },
    {
     "data": {
      "text/plain": [
       "(51525, 13)"
      ]
     },
     "execution_count": 2,
     "metadata": {},
     "output_type": "execute_result"
    }
   ],
   "source": [
    "# Load the data file into a DataFrame\n",
    "try:\n",
    "    df = pd.read_csv('vehicles_us.csv')\n",
    "except:\n",
    "    df = pd.read_csv('/data/vehicles_us.csv')\n",
    "    \n",
    "display(df.head(10))\n",
    "df.shape"
   ]
  },
  {
   "cell_type": "markdown",
   "metadata": {},
   "source": [
    "### Explore initial data"
   ]
  },
  {
   "cell_type": "markdown",
   "metadata": {},
   "source": [
    "The dataset contains the following fields:\n",
    "- `price`\n",
    "- `model_year`\n",
    "- `model`\n",
    "- `condition`\n",
    "- `cylinders`\n",
    "- `fuel` — gas, diesel, etc.\n",
    "- `odometer` — the vehicle's mileage when the ad was published\n",
    "- `transmission`\n",
    "- `paint_color`\n",
    "- `is_4wd` — whether the vehicle has 4-wheel drive (Boolean type)\n",
    "- `date_posted` — the date the ad was published\n",
    "- `days_listed` — from publication to removal"
   ]
  },
  {
   "cell_type": "code",
   "execution_count": 3,
   "metadata": {},
   "outputs": [
    {
     "name": "stdout",
     "output_type": "stream",
     "text": [
      "<class 'pandas.core.frame.DataFrame'>\n",
      "RangeIndex: 51525 entries, 0 to 51524\n",
      "Data columns (total 13 columns):\n",
      "price           51525 non-null int64\n",
      "model_year      47906 non-null float64\n",
      "model           51525 non-null object\n",
      "condition       51525 non-null object\n",
      "cylinders       46265 non-null float64\n",
      "fuel            51525 non-null object\n",
      "odometer        43633 non-null float64\n",
      "transmission    51525 non-null object\n",
      "type            51525 non-null object\n",
      "paint_color     42258 non-null object\n",
      "is_4wd          25572 non-null float64\n",
      "date_posted     51525 non-null object\n",
      "days_listed     51525 non-null int64\n",
      "dtypes: float64(4), int64(2), object(7)\n",
      "memory usage: 5.1+ MB\n"
     ]
    }
   ],
   "source": [
    "# print the general/summary information about the DataFrame\n",
    "\n",
    "df.info()"
   ]
  },
  {
   "cell_type": "code",
   "execution_count": 4,
   "metadata": {},
   "outputs": [
    {
     "data": {
      "text/html": [
       "<div>\n",
       "<style scoped>\n",
       "    .dataframe tbody tr th:only-of-type {\n",
       "        vertical-align: middle;\n",
       "    }\n",
       "\n",
       "    .dataframe tbody tr th {\n",
       "        vertical-align: top;\n",
       "    }\n",
       "\n",
       "    .dataframe thead th {\n",
       "        text-align: right;\n",
       "    }\n",
       "</style>\n",
       "<table border=\"1\" class=\"dataframe\">\n",
       "  <thead>\n",
       "    <tr style=\"text-align: right;\">\n",
       "      <th></th>\n",
       "      <th>price</th>\n",
       "      <th>model_year</th>\n",
       "      <th>model</th>\n",
       "      <th>condition</th>\n",
       "      <th>cylinders</th>\n",
       "      <th>fuel</th>\n",
       "      <th>odometer</th>\n",
       "      <th>transmission</th>\n",
       "      <th>type</th>\n",
       "      <th>paint_color</th>\n",
       "      <th>is_4wd</th>\n",
       "      <th>date_posted</th>\n",
       "      <th>days_listed</th>\n",
       "    </tr>\n",
       "  </thead>\n",
       "  <tbody>\n",
       "    <tr>\n",
       "      <td>count</td>\n",
       "      <td>51525.000000</td>\n",
       "      <td>47906.000000</td>\n",
       "      <td>51525</td>\n",
       "      <td>51525</td>\n",
       "      <td>46265.000000</td>\n",
       "      <td>51525</td>\n",
       "      <td>43633.000000</td>\n",
       "      <td>51525</td>\n",
       "      <td>51525</td>\n",
       "      <td>42258</td>\n",
       "      <td>25572.0</td>\n",
       "      <td>51525</td>\n",
       "      <td>51525.00000</td>\n",
       "    </tr>\n",
       "    <tr>\n",
       "      <td>unique</td>\n",
       "      <td>NaN</td>\n",
       "      <td>NaN</td>\n",
       "      <td>100</td>\n",
       "      <td>6</td>\n",
       "      <td>NaN</td>\n",
       "      <td>5</td>\n",
       "      <td>NaN</td>\n",
       "      <td>3</td>\n",
       "      <td>13</td>\n",
       "      <td>12</td>\n",
       "      <td>NaN</td>\n",
       "      <td>354</td>\n",
       "      <td>NaN</td>\n",
       "    </tr>\n",
       "    <tr>\n",
       "      <td>top</td>\n",
       "      <td>NaN</td>\n",
       "      <td>NaN</td>\n",
       "      <td>ford f-150</td>\n",
       "      <td>excellent</td>\n",
       "      <td>NaN</td>\n",
       "      <td>gas</td>\n",
       "      <td>NaN</td>\n",
       "      <td>automatic</td>\n",
       "      <td>SUV</td>\n",
       "      <td>white</td>\n",
       "      <td>NaN</td>\n",
       "      <td>2019-03-17</td>\n",
       "      <td>NaN</td>\n",
       "    </tr>\n",
       "    <tr>\n",
       "      <td>freq</td>\n",
       "      <td>NaN</td>\n",
       "      <td>NaN</td>\n",
       "      <td>2796</td>\n",
       "      <td>24773</td>\n",
       "      <td>NaN</td>\n",
       "      <td>47288</td>\n",
       "      <td>NaN</td>\n",
       "      <td>46902</td>\n",
       "      <td>12405</td>\n",
       "      <td>10029</td>\n",
       "      <td>NaN</td>\n",
       "      <td>186</td>\n",
       "      <td>NaN</td>\n",
       "    </tr>\n",
       "    <tr>\n",
       "      <td>mean</td>\n",
       "      <td>12132.464920</td>\n",
       "      <td>2009.750470</td>\n",
       "      <td>NaN</td>\n",
       "      <td>NaN</td>\n",
       "      <td>6.125235</td>\n",
       "      <td>NaN</td>\n",
       "      <td>115553.461738</td>\n",
       "      <td>NaN</td>\n",
       "      <td>NaN</td>\n",
       "      <td>NaN</td>\n",
       "      <td>1.0</td>\n",
       "      <td>NaN</td>\n",
       "      <td>39.55476</td>\n",
       "    </tr>\n",
       "    <tr>\n",
       "      <td>std</td>\n",
       "      <td>10040.803015</td>\n",
       "      <td>6.282065</td>\n",
       "      <td>NaN</td>\n",
       "      <td>NaN</td>\n",
       "      <td>1.660360</td>\n",
       "      <td>NaN</td>\n",
       "      <td>65094.611341</td>\n",
       "      <td>NaN</td>\n",
       "      <td>NaN</td>\n",
       "      <td>NaN</td>\n",
       "      <td>0.0</td>\n",
       "      <td>NaN</td>\n",
       "      <td>28.20427</td>\n",
       "    </tr>\n",
       "    <tr>\n",
       "      <td>min</td>\n",
       "      <td>1.000000</td>\n",
       "      <td>1908.000000</td>\n",
       "      <td>NaN</td>\n",
       "      <td>NaN</td>\n",
       "      <td>3.000000</td>\n",
       "      <td>NaN</td>\n",
       "      <td>0.000000</td>\n",
       "      <td>NaN</td>\n",
       "      <td>NaN</td>\n",
       "      <td>NaN</td>\n",
       "      <td>1.0</td>\n",
       "      <td>NaN</td>\n",
       "      <td>0.00000</td>\n",
       "    </tr>\n",
       "    <tr>\n",
       "      <td>25%</td>\n",
       "      <td>5000.000000</td>\n",
       "      <td>2006.000000</td>\n",
       "      <td>NaN</td>\n",
       "      <td>NaN</td>\n",
       "      <td>4.000000</td>\n",
       "      <td>NaN</td>\n",
       "      <td>70000.000000</td>\n",
       "      <td>NaN</td>\n",
       "      <td>NaN</td>\n",
       "      <td>NaN</td>\n",
       "      <td>1.0</td>\n",
       "      <td>NaN</td>\n",
       "      <td>19.00000</td>\n",
       "    </tr>\n",
       "    <tr>\n",
       "      <td>50%</td>\n",
       "      <td>9000.000000</td>\n",
       "      <td>2011.000000</td>\n",
       "      <td>NaN</td>\n",
       "      <td>NaN</td>\n",
       "      <td>6.000000</td>\n",
       "      <td>NaN</td>\n",
       "      <td>113000.000000</td>\n",
       "      <td>NaN</td>\n",
       "      <td>NaN</td>\n",
       "      <td>NaN</td>\n",
       "      <td>1.0</td>\n",
       "      <td>NaN</td>\n",
       "      <td>33.00000</td>\n",
       "    </tr>\n",
       "    <tr>\n",
       "      <td>75%</td>\n",
       "      <td>16839.000000</td>\n",
       "      <td>2014.000000</td>\n",
       "      <td>NaN</td>\n",
       "      <td>NaN</td>\n",
       "      <td>8.000000</td>\n",
       "      <td>NaN</td>\n",
       "      <td>155000.000000</td>\n",
       "      <td>NaN</td>\n",
       "      <td>NaN</td>\n",
       "      <td>NaN</td>\n",
       "      <td>1.0</td>\n",
       "      <td>NaN</td>\n",
       "      <td>53.00000</td>\n",
       "    </tr>\n",
       "    <tr>\n",
       "      <td>max</td>\n",
       "      <td>375000.000000</td>\n",
       "      <td>2019.000000</td>\n",
       "      <td>NaN</td>\n",
       "      <td>NaN</td>\n",
       "      <td>12.000000</td>\n",
       "      <td>NaN</td>\n",
       "      <td>990000.000000</td>\n",
       "      <td>NaN</td>\n",
       "      <td>NaN</td>\n",
       "      <td>NaN</td>\n",
       "      <td>1.0</td>\n",
       "      <td>NaN</td>\n",
       "      <td>271.00000</td>\n",
       "    </tr>\n",
       "  </tbody>\n",
       "</table>\n",
       "</div>"
      ],
      "text/plain": [
       "                price    model_year       model  condition     cylinders  \\\n",
       "count    51525.000000  47906.000000       51525      51525  46265.000000   \n",
       "unique            NaN           NaN         100          6           NaN   \n",
       "top               NaN           NaN  ford f-150  excellent           NaN   \n",
       "freq              NaN           NaN        2796      24773           NaN   \n",
       "mean     12132.464920   2009.750470         NaN        NaN      6.125235   \n",
       "std      10040.803015      6.282065         NaN        NaN      1.660360   \n",
       "min          1.000000   1908.000000         NaN        NaN      3.000000   \n",
       "25%       5000.000000   2006.000000         NaN        NaN      4.000000   \n",
       "50%       9000.000000   2011.000000         NaN        NaN      6.000000   \n",
       "75%      16839.000000   2014.000000         NaN        NaN      8.000000   \n",
       "max     375000.000000   2019.000000         NaN        NaN     12.000000   \n",
       "\n",
       "         fuel       odometer transmission   type paint_color   is_4wd  \\\n",
       "count   51525   43633.000000        51525  51525       42258  25572.0   \n",
       "unique      5            NaN            3     13          12      NaN   \n",
       "top       gas            NaN    automatic    SUV       white      NaN   \n",
       "freq    47288            NaN        46902  12405       10029      NaN   \n",
       "mean      NaN  115553.461738          NaN    NaN         NaN      1.0   \n",
       "std       NaN   65094.611341          NaN    NaN         NaN      0.0   \n",
       "min       NaN       0.000000          NaN    NaN         NaN      1.0   \n",
       "25%       NaN   70000.000000          NaN    NaN         NaN      1.0   \n",
       "50%       NaN  113000.000000          NaN    NaN         NaN      1.0   \n",
       "75%       NaN  155000.000000          NaN    NaN         NaN      1.0   \n",
       "max       NaN  990000.000000          NaN    NaN         NaN      1.0   \n",
       "\n",
       "       date_posted  days_listed  \n",
       "count        51525  51525.00000  \n",
       "unique         354          NaN  \n",
       "top     2019-03-17          NaN  \n",
       "freq           186          NaN  \n",
       "mean           NaN     39.55476  \n",
       "std            NaN     28.20427  \n",
       "min            NaN      0.00000  \n",
       "25%            NaN     19.00000  \n",
       "50%            NaN     33.00000  \n",
       "75%            NaN     53.00000  \n",
       "max            NaN    271.00000  "
      ]
     },
     "execution_count": 4,
     "metadata": {},
     "output_type": "execute_result"
    }
   ],
   "source": [
    "# print a sample of data\n",
    "\n",
    "df.describe(include='all')"
   ]
  },
  {
   "cell_type": "markdown",
   "metadata": {},
   "source": [
    "Notes:\n",
    "* There are a considerable amount of NaN values in some of the columns like model_year, cylinders, odometer, paint_color.\n",
    "* This may be a problem, as a large part of a car's price is determined by it's year and mileage\n",
    "<br><br>\n",
    "* The date-based columns are not in datetime format\n",
    "* Model year shouldn't be a float\n",
    "* Odometer should be an integer\n",
    "* The \"is_4wd\" column is a flag column that has NaN's instead of 0's, should be an integer column\n",
    "<br><br>\n",
    "* The \"is_4wd\" column is a flag column that has NaN's instead of 0's, should be an integer column. \n",
    "* 1 represents the car having 4wd, and 0 should be no 4wd, but there are only NaN and 1 in the column\n",
    "* This leads me to believe that the NaN's should be 0's\n",
    "* In the columns that do have missing values, there are only about 3-4K each"
   ]
  },
  {
   "cell_type": "markdown",
   "metadata": {},
   "source": [
    "### Conclusions and further steps"
   ]
  },
  {
   "cell_type": "markdown",
   "metadata": {},
   "source": [
    "* The NaN values in the 4wd column should be cast as 0's\n",
    "* We should drop the NaN values for now, we can undo the drop if it impedes our analysis\n",
    "* Change the dtypes of the variables"
   ]
  },
  {
   "cell_type": "markdown",
   "metadata": {},
   "source": [
    "## Treat missing values (if any)"
   ]
  },
  {
   "cell_type": "code",
   "execution_count": 5,
   "metadata": {},
   "outputs": [
    {
     "data": {
      "text/plain": [
       "model_year      ~7%\n",
       "cylinders      ~10%\n",
       "odometer       ~15%\n",
       "paint_color    ~18%\n",
       "is_4wd         ~50%\n",
       "dtype: object"
      ]
     },
     "execution_count": 5,
     "metadata": {},
     "output_type": "execute_result"
    }
   ],
   "source": [
    "# percentage of na per column\n",
    "(df.isna().mean() * 100)[(df.isna().mean() * 100) != 0].apply(lambda x: '~' + str(int(round(x, 0))) + '%')"
   ]
  },
  {
   "cell_type": "code",
   "execution_count": 6,
   "metadata": {},
   "outputs": [
    {
     "data": {
      "text/html": [
       "<div>\n",
       "<style scoped>\n",
       "    .dataframe tbody tr th:only-of-type {\n",
       "        vertical-align: middle;\n",
       "    }\n",
       "\n",
       "    .dataframe tbody tr th {\n",
       "        vertical-align: top;\n",
       "    }\n",
       "\n",
       "    .dataframe thead th {\n",
       "        text-align: right;\n",
       "    }\n",
       "</style>\n",
       "<table border=\"1\" class=\"dataframe\">\n",
       "  <thead>\n",
       "    <tr style=\"text-align: right;\">\n",
       "      <th></th>\n",
       "      <th>odometer</th>\n",
       "    </tr>\n",
       "    <tr>\n",
       "      <th>condition</th>\n",
       "      <th></th>\n",
       "    </tr>\n",
       "  </thead>\n",
       "  <tbody>\n",
       "    <tr>\n",
       "      <td>excellent</td>\n",
       "      <td>104230.0</td>\n",
       "    </tr>\n",
       "    <tr>\n",
       "      <td>fair</td>\n",
       "      <td>181613.0</td>\n",
       "    </tr>\n",
       "    <tr>\n",
       "      <td>good</td>\n",
       "      <td>129000.0</td>\n",
       "    </tr>\n",
       "    <tr>\n",
       "      <td>like new</td>\n",
       "      <td>72982.5</td>\n",
       "    </tr>\n",
       "    <tr>\n",
       "      <td>new</td>\n",
       "      <td>8002.0</td>\n",
       "    </tr>\n",
       "    <tr>\n",
       "      <td>salvage</td>\n",
       "      <td>142673.5</td>\n",
       "    </tr>\n",
       "  </tbody>\n",
       "</table>\n",
       "</div>"
      ],
      "text/plain": [
       "           odometer\n",
       "condition          \n",
       "excellent  104230.0\n",
       "fair       181613.0\n",
       "good       129000.0\n",
       "like new    72982.5\n",
       "new          8002.0\n",
       "salvage    142673.5"
      ]
     },
     "metadata": {},
     "output_type": "display_data"
    },
    {
     "data": {
      "text/html": [
       "<div>\n",
       "<style scoped>\n",
       "    .dataframe tbody tr th:only-of-type {\n",
       "        vertical-align: middle;\n",
       "    }\n",
       "\n",
       "    .dataframe tbody tr th {\n",
       "        vertical-align: top;\n",
       "    }\n",
       "\n",
       "    .dataframe thead th {\n",
       "        text-align: right;\n",
       "    }\n",
       "</style>\n",
       "<table border=\"1\" class=\"dataframe\">\n",
       "  <thead>\n",
       "    <tr style=\"text-align: right;\">\n",
       "      <th></th>\n",
       "      <th>model_year</th>\n",
       "      <th>cylinders</th>\n",
       "    </tr>\n",
       "    <tr>\n",
       "      <th>model</th>\n",
       "      <th></th>\n",
       "      <th></th>\n",
       "    </tr>\n",
       "  </thead>\n",
       "  <tbody>\n",
       "    <tr>\n",
       "      <td>acura tl</td>\n",
       "      <td>2007.0</td>\n",
       "      <td>6.0</td>\n",
       "    </tr>\n",
       "    <tr>\n",
       "      <td>bmw x5</td>\n",
       "      <td>2010.0</td>\n",
       "      <td>6.0</td>\n",
       "    </tr>\n",
       "    <tr>\n",
       "      <td>buick enclave</td>\n",
       "      <td>2012.0</td>\n",
       "      <td>6.0</td>\n",
       "    </tr>\n",
       "    <tr>\n",
       "      <td>cadillac escalade</td>\n",
       "      <td>2009.0</td>\n",
       "      <td>8.0</td>\n",
       "    </tr>\n",
       "    <tr>\n",
       "      <td>chevrolet camaro</td>\n",
       "      <td>2013.0</td>\n",
       "      <td>6.0</td>\n",
       "    </tr>\n",
       "    <tr>\n",
       "      <td>...</td>\n",
       "      <td>...</td>\n",
       "      <td>...</td>\n",
       "    </tr>\n",
       "    <tr>\n",
       "      <td>toyota sienna</td>\n",
       "      <td>2008.0</td>\n",
       "      <td>6.0</td>\n",
       "    </tr>\n",
       "    <tr>\n",
       "      <td>toyota tacoma</td>\n",
       "      <td>2010.0</td>\n",
       "      <td>6.0</td>\n",
       "    </tr>\n",
       "    <tr>\n",
       "      <td>toyota tundra</td>\n",
       "      <td>2009.0</td>\n",
       "      <td>8.0</td>\n",
       "    </tr>\n",
       "    <tr>\n",
       "      <td>volkswagen jetta</td>\n",
       "      <td>2012.0</td>\n",
       "      <td>4.0</td>\n",
       "    </tr>\n",
       "    <tr>\n",
       "      <td>volkswagen passat</td>\n",
       "      <td>2013.0</td>\n",
       "      <td>4.0</td>\n",
       "    </tr>\n",
       "  </tbody>\n",
       "</table>\n",
       "<p>100 rows × 2 columns</p>\n",
       "</div>"
      ],
      "text/plain": [
       "                   model_year  cylinders\n",
       "model                                   \n",
       "acura tl               2007.0        6.0\n",
       "bmw x5                 2010.0        6.0\n",
       "buick enclave          2012.0        6.0\n",
       "cadillac escalade      2009.0        8.0\n",
       "chevrolet camaro       2013.0        6.0\n",
       "...                       ...        ...\n",
       "toyota sienna          2008.0        6.0\n",
       "toyota tacoma          2010.0        6.0\n",
       "toyota tundra          2009.0        8.0\n",
       "volkswagen jetta       2012.0        4.0\n",
       "volkswagen passat      2013.0        4.0\n",
       "\n",
       "[100 rows x 2 columns]"
      ]
     },
     "metadata": {},
     "output_type": "display_data"
    }
   ],
   "source": [
    "condition_medians = df.groupby('condition').agg({'odometer': 'median'})\n",
    "model_medians = df.groupby('model').agg({'model_year': 'median', 'cylinders': 'median'})\n",
    "display(condition_medians)\n",
    "display(model_medians)"
   ]
  },
  {
   "cell_type": "code",
   "execution_count": 7,
   "metadata": {},
   "outputs": [
    {
     "data": {
      "text/html": [
       "<div>\n",
       "<style scoped>\n",
       "    .dataframe tbody tr th:only-of-type {\n",
       "        vertical-align: middle;\n",
       "    }\n",
       "\n",
       "    .dataframe tbody tr th {\n",
       "        vertical-align: top;\n",
       "    }\n",
       "\n",
       "    .dataframe thead th {\n",
       "        text-align: right;\n",
       "    }\n",
       "</style>\n",
       "<table border=\"1\" class=\"dataframe\">\n",
       "  <thead>\n",
       "    <tr style=\"text-align: right;\">\n",
       "      <th></th>\n",
       "      <th>price</th>\n",
       "      <th>model_year</th>\n",
       "      <th>model</th>\n",
       "      <th>condition</th>\n",
       "      <th>cylinders</th>\n",
       "      <th>fuel</th>\n",
       "      <th>odometer</th>\n",
       "      <th>transmission</th>\n",
       "      <th>type</th>\n",
       "      <th>paint_color</th>\n",
       "      <th>is_4wd</th>\n",
       "      <th>date_posted</th>\n",
       "      <th>days_listed</th>\n",
       "    </tr>\n",
       "  </thead>\n",
       "  <tbody>\n",
       "    <tr>\n",
       "      <td>0</td>\n",
       "      <td>9400</td>\n",
       "      <td>2011.0</td>\n",
       "      <td>bmw x5</td>\n",
       "      <td>good</td>\n",
       "      <td>6.0</td>\n",
       "      <td>gas</td>\n",
       "      <td>145000.0</td>\n",
       "      <td>automatic</td>\n",
       "      <td>SUV</td>\n",
       "      <td>unknown</td>\n",
       "      <td>1.0</td>\n",
       "      <td>2018-06-23</td>\n",
       "      <td>19</td>\n",
       "    </tr>\n",
       "    <tr>\n",
       "      <td>1</td>\n",
       "      <td>25500</td>\n",
       "      <td>2011.0</td>\n",
       "      <td>ford f-150</td>\n",
       "      <td>good</td>\n",
       "      <td>6.0</td>\n",
       "      <td>gas</td>\n",
       "      <td>88705.0</td>\n",
       "      <td>automatic</td>\n",
       "      <td>pickup</td>\n",
       "      <td>white</td>\n",
       "      <td>1.0</td>\n",
       "      <td>2018-10-19</td>\n",
       "      <td>50</td>\n",
       "    </tr>\n",
       "    <tr>\n",
       "      <td>2</td>\n",
       "      <td>5500</td>\n",
       "      <td>2013.0</td>\n",
       "      <td>hyundai sonata</td>\n",
       "      <td>like new</td>\n",
       "      <td>4.0</td>\n",
       "      <td>gas</td>\n",
       "      <td>110000.0</td>\n",
       "      <td>automatic</td>\n",
       "      <td>sedan</td>\n",
       "      <td>red</td>\n",
       "      <td>0.0</td>\n",
       "      <td>2019-02-07</td>\n",
       "      <td>79</td>\n",
       "    </tr>\n",
       "    <tr>\n",
       "      <td>3</td>\n",
       "      <td>1500</td>\n",
       "      <td>2003.0</td>\n",
       "      <td>ford f-150</td>\n",
       "      <td>fair</td>\n",
       "      <td>8.0</td>\n",
       "      <td>gas</td>\n",
       "      <td>181613.0</td>\n",
       "      <td>automatic</td>\n",
       "      <td>pickup</td>\n",
       "      <td>unknown</td>\n",
       "      <td>0.0</td>\n",
       "      <td>2019-03-22</td>\n",
       "      <td>9</td>\n",
       "    </tr>\n",
       "    <tr>\n",
       "      <td>4</td>\n",
       "      <td>14900</td>\n",
       "      <td>2017.0</td>\n",
       "      <td>chrysler 200</td>\n",
       "      <td>excellent</td>\n",
       "      <td>4.0</td>\n",
       "      <td>gas</td>\n",
       "      <td>80903.0</td>\n",
       "      <td>automatic</td>\n",
       "      <td>sedan</td>\n",
       "      <td>black</td>\n",
       "      <td>0.0</td>\n",
       "      <td>2019-04-02</td>\n",
       "      <td>28</td>\n",
       "    </tr>\n",
       "    <tr>\n",
       "      <td>...</td>\n",
       "      <td>...</td>\n",
       "      <td>...</td>\n",
       "      <td>...</td>\n",
       "      <td>...</td>\n",
       "      <td>...</td>\n",
       "      <td>...</td>\n",
       "      <td>...</td>\n",
       "      <td>...</td>\n",
       "      <td>...</td>\n",
       "      <td>...</td>\n",
       "      <td>...</td>\n",
       "      <td>...</td>\n",
       "      <td>...</td>\n",
       "    </tr>\n",
       "    <tr>\n",
       "      <td>51520</td>\n",
       "      <td>9249</td>\n",
       "      <td>2013.0</td>\n",
       "      <td>nissan maxima</td>\n",
       "      <td>like new</td>\n",
       "      <td>6.0</td>\n",
       "      <td>gas</td>\n",
       "      <td>88136.0</td>\n",
       "      <td>automatic</td>\n",
       "      <td>sedan</td>\n",
       "      <td>black</td>\n",
       "      <td>0.0</td>\n",
       "      <td>2018-10-03</td>\n",
       "      <td>37</td>\n",
       "    </tr>\n",
       "    <tr>\n",
       "      <td>51521</td>\n",
       "      <td>2700</td>\n",
       "      <td>2002.0</td>\n",
       "      <td>honda civic</td>\n",
       "      <td>salvage</td>\n",
       "      <td>4.0</td>\n",
       "      <td>gas</td>\n",
       "      <td>181500.0</td>\n",
       "      <td>automatic</td>\n",
       "      <td>sedan</td>\n",
       "      <td>white</td>\n",
       "      <td>0.0</td>\n",
       "      <td>2018-11-14</td>\n",
       "      <td>22</td>\n",
       "    </tr>\n",
       "    <tr>\n",
       "      <td>51522</td>\n",
       "      <td>3950</td>\n",
       "      <td>2009.0</td>\n",
       "      <td>hyundai sonata</td>\n",
       "      <td>excellent</td>\n",
       "      <td>4.0</td>\n",
       "      <td>gas</td>\n",
       "      <td>128000.0</td>\n",
       "      <td>automatic</td>\n",
       "      <td>sedan</td>\n",
       "      <td>blue</td>\n",
       "      <td>0.0</td>\n",
       "      <td>2018-11-15</td>\n",
       "      <td>32</td>\n",
       "    </tr>\n",
       "    <tr>\n",
       "      <td>51523</td>\n",
       "      <td>7455</td>\n",
       "      <td>2013.0</td>\n",
       "      <td>toyota corolla</td>\n",
       "      <td>good</td>\n",
       "      <td>4.0</td>\n",
       "      <td>gas</td>\n",
       "      <td>139573.0</td>\n",
       "      <td>automatic</td>\n",
       "      <td>sedan</td>\n",
       "      <td>black</td>\n",
       "      <td>0.0</td>\n",
       "      <td>2018-07-02</td>\n",
       "      <td>71</td>\n",
       "    </tr>\n",
       "    <tr>\n",
       "      <td>51524</td>\n",
       "      <td>6300</td>\n",
       "      <td>2014.0</td>\n",
       "      <td>nissan altima</td>\n",
       "      <td>good</td>\n",
       "      <td>4.0</td>\n",
       "      <td>gas</td>\n",
       "      <td>129000.0</td>\n",
       "      <td>automatic</td>\n",
       "      <td>sedan</td>\n",
       "      <td>unknown</td>\n",
       "      <td>0.0</td>\n",
       "      <td>2018-06-05</td>\n",
       "      <td>10</td>\n",
       "    </tr>\n",
       "  </tbody>\n",
       "</table>\n",
       "<p>51525 rows × 13 columns</p>\n",
       "</div>"
      ],
      "text/plain": [
       "       price  model_year           model  condition  cylinders fuel  odometer  \\\n",
       "0       9400      2011.0          bmw x5       good        6.0  gas  145000.0   \n",
       "1      25500      2011.0      ford f-150       good        6.0  gas   88705.0   \n",
       "2       5500      2013.0  hyundai sonata   like new        4.0  gas  110000.0   \n",
       "3       1500      2003.0      ford f-150       fair        8.0  gas  181613.0   \n",
       "4      14900      2017.0    chrysler 200  excellent        4.0  gas   80903.0   \n",
       "...      ...         ...             ...        ...        ...  ...       ...   \n",
       "51520   9249      2013.0   nissan maxima   like new        6.0  gas   88136.0   \n",
       "51521   2700      2002.0     honda civic    salvage        4.0  gas  181500.0   \n",
       "51522   3950      2009.0  hyundai sonata  excellent        4.0  gas  128000.0   \n",
       "51523   7455      2013.0  toyota corolla       good        4.0  gas  139573.0   \n",
       "51524   6300      2014.0   nissan altima       good        4.0  gas  129000.0   \n",
       "\n",
       "      transmission    type paint_color  is_4wd date_posted  days_listed  \n",
       "0        automatic     SUV     unknown     1.0  2018-06-23           19  \n",
       "1        automatic  pickup       white     1.0  2018-10-19           50  \n",
       "2        automatic   sedan         red     0.0  2019-02-07           79  \n",
       "3        automatic  pickup     unknown     0.0  2019-03-22            9  \n",
       "4        automatic   sedan       black     0.0  2019-04-02           28  \n",
       "...            ...     ...         ...     ...         ...          ...  \n",
       "51520    automatic   sedan       black     0.0  2018-10-03           37  \n",
       "51521    automatic   sedan       white     0.0  2018-11-14           22  \n",
       "51522    automatic   sedan        blue     0.0  2018-11-15           32  \n",
       "51523    automatic   sedan       black     0.0  2018-07-02           71  \n",
       "51524    automatic   sedan     unknown     0.0  2018-06-05           10  \n",
       "\n",
       "[51525 rows x 13 columns]"
      ]
     },
     "metadata": {},
     "output_type": "display_data"
    },
    {
     "data": {
      "text/plain": [
       "price           0.0\n",
       "model_year      0.0\n",
       "model           0.0\n",
       "condition       0.0\n",
       "cylinders       0.0\n",
       "fuel            0.0\n",
       "odometer        0.0\n",
       "transmission    0.0\n",
       "type            0.0\n",
       "paint_color     0.0\n",
       "is_4wd          0.0\n",
       "date_posted     0.0\n",
       "days_listed     0.0\n",
       "dtype: float64"
      ]
     },
     "execution_count": 7,
     "metadata": {},
     "output_type": "execute_result"
    }
   ],
   "source": [
    "df['is_4wd'] = df['is_4wd'].fillna(0)\n",
    "\n",
    "for condition in condition_medians.index:\n",
    "    df.loc[df['condition'] == condition, 'odometer'] = df.loc[df['condition'] == condition, 'odometer'].fillna(\n",
    "        df[df['condition'] == condition]['odometer'].median()\n",
    "    )\n",
    "\n",
    "for model in model_medians.index:\n",
    "    df.loc[df['model'] == model, 'model_year'] = df.loc[df['model'] == model, 'model_year'].fillna(\n",
    "        df[df['model'] == model]['model_year'].median()\n",
    "    )\n",
    "    df.loc[df['model'] == model, 'cylinders'] = df.loc[df['model'] == model, 'cylinders'].fillna(\n",
    "        df[df['model'] == model]['cylinders'].median()\n",
    "    )\n",
    "\n",
    "df['paint_color'] = df['paint_color'].fillna('unknown')\n",
    "\n",
    "display(df)\n",
    "df.isna().mean()"
   ]
  },
  {
   "cell_type": "markdown",
   "metadata": {},
   "source": [
    "## Fix data types"
   ]
  },
  {
   "cell_type": "code",
   "execution_count": 8,
   "metadata": {},
   "outputs": [
    {
     "data": {
      "text/html": [
       "<div>\n",
       "<style scoped>\n",
       "    .dataframe tbody tr th:only-of-type {\n",
       "        vertical-align: middle;\n",
       "    }\n",
       "\n",
       "    .dataframe tbody tr th {\n",
       "        vertical-align: top;\n",
       "    }\n",
       "\n",
       "    .dataframe thead th {\n",
       "        text-align: right;\n",
       "    }\n",
       "</style>\n",
       "<table border=\"1\" class=\"dataframe\">\n",
       "  <thead>\n",
       "    <tr style=\"text-align: right;\">\n",
       "      <th></th>\n",
       "      <th>price</th>\n",
       "      <th>model_year</th>\n",
       "      <th>model</th>\n",
       "      <th>condition</th>\n",
       "      <th>cylinders</th>\n",
       "      <th>fuel</th>\n",
       "      <th>odometer</th>\n",
       "      <th>transmission</th>\n",
       "      <th>type</th>\n",
       "      <th>paint_color</th>\n",
       "      <th>is_4wd</th>\n",
       "      <th>date_posted</th>\n",
       "      <th>days_listed</th>\n",
       "    </tr>\n",
       "  </thead>\n",
       "  <tbody>\n",
       "    <tr>\n",
       "      <td>0</td>\n",
       "      <td>9400</td>\n",
       "      <td>2011</td>\n",
       "      <td>bmw x5</td>\n",
       "      <td>good</td>\n",
       "      <td>6</td>\n",
       "      <td>gas</td>\n",
       "      <td>145000</td>\n",
       "      <td>automatic</td>\n",
       "      <td>SUV</td>\n",
       "      <td>unknown</td>\n",
       "      <td>True</td>\n",
       "      <td>2018-06-23</td>\n",
       "      <td>19</td>\n",
       "    </tr>\n",
       "    <tr>\n",
       "      <td>1</td>\n",
       "      <td>25500</td>\n",
       "      <td>2011</td>\n",
       "      <td>ford f-150</td>\n",
       "      <td>good</td>\n",
       "      <td>6</td>\n",
       "      <td>gas</td>\n",
       "      <td>88705</td>\n",
       "      <td>automatic</td>\n",
       "      <td>pickup</td>\n",
       "      <td>white</td>\n",
       "      <td>True</td>\n",
       "      <td>2018-10-19</td>\n",
       "      <td>50</td>\n",
       "    </tr>\n",
       "    <tr>\n",
       "      <td>2</td>\n",
       "      <td>5500</td>\n",
       "      <td>2013</td>\n",
       "      <td>hyundai sonata</td>\n",
       "      <td>like new</td>\n",
       "      <td>4</td>\n",
       "      <td>gas</td>\n",
       "      <td>110000</td>\n",
       "      <td>automatic</td>\n",
       "      <td>sedan</td>\n",
       "      <td>red</td>\n",
       "      <td>False</td>\n",
       "      <td>2019-02-07</td>\n",
       "      <td>79</td>\n",
       "    </tr>\n",
       "    <tr>\n",
       "      <td>3</td>\n",
       "      <td>1500</td>\n",
       "      <td>2003</td>\n",
       "      <td>ford f-150</td>\n",
       "      <td>fair</td>\n",
       "      <td>8</td>\n",
       "      <td>gas</td>\n",
       "      <td>181613</td>\n",
       "      <td>automatic</td>\n",
       "      <td>pickup</td>\n",
       "      <td>unknown</td>\n",
       "      <td>False</td>\n",
       "      <td>2019-03-22</td>\n",
       "      <td>9</td>\n",
       "    </tr>\n",
       "    <tr>\n",
       "      <td>4</td>\n",
       "      <td>14900</td>\n",
       "      <td>2017</td>\n",
       "      <td>chrysler 200</td>\n",
       "      <td>excellent</td>\n",
       "      <td>4</td>\n",
       "      <td>gas</td>\n",
       "      <td>80903</td>\n",
       "      <td>automatic</td>\n",
       "      <td>sedan</td>\n",
       "      <td>black</td>\n",
       "      <td>False</td>\n",
       "      <td>2019-04-02</td>\n",
       "      <td>28</td>\n",
       "    </tr>\n",
       "    <tr>\n",
       "      <td>...</td>\n",
       "      <td>...</td>\n",
       "      <td>...</td>\n",
       "      <td>...</td>\n",
       "      <td>...</td>\n",
       "      <td>...</td>\n",
       "      <td>...</td>\n",
       "      <td>...</td>\n",
       "      <td>...</td>\n",
       "      <td>...</td>\n",
       "      <td>...</td>\n",
       "      <td>...</td>\n",
       "      <td>...</td>\n",
       "      <td>...</td>\n",
       "    </tr>\n",
       "    <tr>\n",
       "      <td>51520</td>\n",
       "      <td>9249</td>\n",
       "      <td>2013</td>\n",
       "      <td>nissan maxima</td>\n",
       "      <td>like new</td>\n",
       "      <td>6</td>\n",
       "      <td>gas</td>\n",
       "      <td>88136</td>\n",
       "      <td>automatic</td>\n",
       "      <td>sedan</td>\n",
       "      <td>black</td>\n",
       "      <td>False</td>\n",
       "      <td>2018-10-03</td>\n",
       "      <td>37</td>\n",
       "    </tr>\n",
       "    <tr>\n",
       "      <td>51521</td>\n",
       "      <td>2700</td>\n",
       "      <td>2002</td>\n",
       "      <td>honda civic</td>\n",
       "      <td>salvage</td>\n",
       "      <td>4</td>\n",
       "      <td>gas</td>\n",
       "      <td>181500</td>\n",
       "      <td>automatic</td>\n",
       "      <td>sedan</td>\n",
       "      <td>white</td>\n",
       "      <td>False</td>\n",
       "      <td>2018-11-14</td>\n",
       "      <td>22</td>\n",
       "    </tr>\n",
       "    <tr>\n",
       "      <td>51522</td>\n",
       "      <td>3950</td>\n",
       "      <td>2009</td>\n",
       "      <td>hyundai sonata</td>\n",
       "      <td>excellent</td>\n",
       "      <td>4</td>\n",
       "      <td>gas</td>\n",
       "      <td>128000</td>\n",
       "      <td>automatic</td>\n",
       "      <td>sedan</td>\n",
       "      <td>blue</td>\n",
       "      <td>False</td>\n",
       "      <td>2018-11-15</td>\n",
       "      <td>32</td>\n",
       "    </tr>\n",
       "    <tr>\n",
       "      <td>51523</td>\n",
       "      <td>7455</td>\n",
       "      <td>2013</td>\n",
       "      <td>toyota corolla</td>\n",
       "      <td>good</td>\n",
       "      <td>4</td>\n",
       "      <td>gas</td>\n",
       "      <td>139573</td>\n",
       "      <td>automatic</td>\n",
       "      <td>sedan</td>\n",
       "      <td>black</td>\n",
       "      <td>False</td>\n",
       "      <td>2018-07-02</td>\n",
       "      <td>71</td>\n",
       "    </tr>\n",
       "    <tr>\n",
       "      <td>51524</td>\n",
       "      <td>6300</td>\n",
       "      <td>2014</td>\n",
       "      <td>nissan altima</td>\n",
       "      <td>good</td>\n",
       "      <td>4</td>\n",
       "      <td>gas</td>\n",
       "      <td>129000</td>\n",
       "      <td>automatic</td>\n",
       "      <td>sedan</td>\n",
       "      <td>unknown</td>\n",
       "      <td>False</td>\n",
       "      <td>2018-06-05</td>\n",
       "      <td>10</td>\n",
       "    </tr>\n",
       "  </tbody>\n",
       "</table>\n",
       "<p>51525 rows × 13 columns</p>\n",
       "</div>"
      ],
      "text/plain": [
       "       price  model_year           model  condition  cylinders fuel  odometer  \\\n",
       "0       9400        2011          bmw x5       good          6  gas    145000   \n",
       "1      25500        2011      ford f-150       good          6  gas     88705   \n",
       "2       5500        2013  hyundai sonata   like new          4  gas    110000   \n",
       "3       1500        2003      ford f-150       fair          8  gas    181613   \n",
       "4      14900        2017    chrysler 200  excellent          4  gas     80903   \n",
       "...      ...         ...             ...        ...        ...  ...       ...   \n",
       "51520   9249        2013   nissan maxima   like new          6  gas     88136   \n",
       "51521   2700        2002     honda civic    salvage          4  gas    181500   \n",
       "51522   3950        2009  hyundai sonata  excellent          4  gas    128000   \n",
       "51523   7455        2013  toyota corolla       good          4  gas    139573   \n",
       "51524   6300        2014   nissan altima       good          4  gas    129000   \n",
       "\n",
       "      transmission    type paint_color  is_4wd date_posted  days_listed  \n",
       "0        automatic     SUV     unknown    True  2018-06-23           19  \n",
       "1        automatic  pickup       white    True  2018-10-19           50  \n",
       "2        automatic   sedan         red   False  2019-02-07           79  \n",
       "3        automatic  pickup     unknown   False  2019-03-22            9  \n",
       "4        automatic   sedan       black   False  2019-04-02           28  \n",
       "...            ...     ...         ...     ...         ...          ...  \n",
       "51520    automatic   sedan       black   False  2018-10-03           37  \n",
       "51521    automatic   sedan       white   False  2018-11-14           22  \n",
       "51522    automatic   sedan        blue   False  2018-11-15           32  \n",
       "51523    automatic   sedan       black   False  2018-07-02           71  \n",
       "51524    automatic   sedan     unknown   False  2018-06-05           10  \n",
       "\n",
       "[51525 rows x 13 columns]"
      ]
     },
     "execution_count": 8,
     "metadata": {},
     "output_type": "execute_result"
    }
   ],
   "source": [
    "df['model_year'] = df['model_year'].astype(int)\n",
    "df['cylinders'] = df['cylinders'].astype(int)\n",
    "df['odometer'] = df['odometer'].astype(int)\n",
    "df['is_4wd'] = df['is_4wd'].astype(bool)\n",
    "df['date_posted'] = pd.to_datetime(df['date_posted'])\n",
    "df"
   ]
  },
  {
   "cell_type": "markdown",
   "metadata": {},
   "source": [
    "## Enrich data"
   ]
  },
  {
   "cell_type": "code",
   "execution_count": 9,
   "metadata": {},
   "outputs": [],
   "source": [
    "# Add datetime values for when the ad was placed\n",
    "\n",
    "# completed in the cell above"
   ]
  },
  {
   "cell_type": "code",
   "execution_count": 10,
   "metadata": {},
   "outputs": [],
   "source": [
    "# Add the vehicle's age when the ad was placed\n",
    "\n",
    "df['car_age'] = df['date_posted'].dt.year - df['model_year']"
   ]
  },
  {
   "cell_type": "code",
   "execution_count": 11,
   "metadata": {},
   "outputs": [],
   "source": [
    "# Add the vehicle's average mileage per year\n",
    "\n",
    "df['mileage_per_year'] = df['odometer'] / (df['car_age'] + 1)"
   ]
  },
  {
   "cell_type": "code",
   "execution_count": 12,
   "metadata": {},
   "outputs": [
    {
     "data": {
      "text/plain": [
       "0       2018-06-23\n",
       "1       2018-10-19\n",
       "2       2019-02-07\n",
       "3       2019-03-22\n",
       "4       2019-04-02\n",
       "           ...    \n",
       "51520   2018-10-03\n",
       "51521   2018-11-14\n",
       "51522   2018-11-15\n",
       "51523   2018-07-02\n",
       "51524   2018-06-05\n",
       "Name: date_posted, Length: 51525, dtype: datetime64[ns]"
      ]
     },
     "execution_count": 12,
     "metadata": {},
     "output_type": "execute_result"
    }
   ],
   "source": [
    "pd.to_datetime(df['date_posted'])"
   ]
  },
  {
   "cell_type": "code",
   "execution_count": 13,
   "metadata": {},
   "outputs": [],
   "source": [
    "condition_dict= {\n",
    "    'new': 5,\n",
    "    'like new': 4,\n",
    "    'excellent': 3,\n",
    "    'good': 2,\n",
    "    'fair': 1,\n",
    "    'salvage': 0\n",
    "}\n",
    "\n",
    "df['condition_cat'] = df['condition'].map(condition_dict)\n",
    "df['week_posted'] = df['date_posted'].dt.week\n",
    "df['month_posted'] = df['date_posted'].dt.month_name()\n",
    "df['year_posted'] = df['date_posted'].dt.year"
   ]
  },
  {
   "cell_type": "code",
   "execution_count": 14,
   "metadata": {},
   "outputs": [
    {
     "data": {
      "text/html": [
       "<div>\n",
       "<style scoped>\n",
       "    .dataframe tbody tr th:only-of-type {\n",
       "        vertical-align: middle;\n",
       "    }\n",
       "\n",
       "    .dataframe tbody tr th {\n",
       "        vertical-align: top;\n",
       "    }\n",
       "\n",
       "    .dataframe thead th {\n",
       "        text-align: right;\n",
       "    }\n",
       "</style>\n",
       "<table border=\"1\" class=\"dataframe\">\n",
       "  <thead>\n",
       "    <tr style=\"text-align: right;\">\n",
       "      <th></th>\n",
       "      <th>price</th>\n",
       "      <th>model_year</th>\n",
       "      <th>model</th>\n",
       "      <th>condition</th>\n",
       "      <th>cylinders</th>\n",
       "      <th>fuel</th>\n",
       "      <th>odometer</th>\n",
       "      <th>transmission</th>\n",
       "      <th>type</th>\n",
       "      <th>paint_color</th>\n",
       "      <th>is_4wd</th>\n",
       "      <th>date_posted</th>\n",
       "      <th>days_listed</th>\n",
       "      <th>car_age</th>\n",
       "      <th>mileage_per_year</th>\n",
       "      <th>condition_cat</th>\n",
       "      <th>week_posted</th>\n",
       "      <th>month_posted</th>\n",
       "      <th>year_posted</th>\n",
       "    </tr>\n",
       "  </thead>\n",
       "  <tbody>\n",
       "    <tr>\n",
       "      <td>0</td>\n",
       "      <td>9400</td>\n",
       "      <td>2011</td>\n",
       "      <td>bmw x5</td>\n",
       "      <td>good</td>\n",
       "      <td>6</td>\n",
       "      <td>gas</td>\n",
       "      <td>145000</td>\n",
       "      <td>automatic</td>\n",
       "      <td>SUV</td>\n",
       "      <td>unknown</td>\n",
       "      <td>True</td>\n",
       "      <td>2018-06-23</td>\n",
       "      <td>19</td>\n",
       "      <td>7</td>\n",
       "      <td>18125.000000</td>\n",
       "      <td>2</td>\n",
       "      <td>25</td>\n",
       "      <td>June</td>\n",
       "      <td>2018</td>\n",
       "    </tr>\n",
       "    <tr>\n",
       "      <td>1</td>\n",
       "      <td>25500</td>\n",
       "      <td>2011</td>\n",
       "      <td>ford f-150</td>\n",
       "      <td>good</td>\n",
       "      <td>6</td>\n",
       "      <td>gas</td>\n",
       "      <td>88705</td>\n",
       "      <td>automatic</td>\n",
       "      <td>pickup</td>\n",
       "      <td>white</td>\n",
       "      <td>True</td>\n",
       "      <td>2018-10-19</td>\n",
       "      <td>50</td>\n",
       "      <td>7</td>\n",
       "      <td>11088.125000</td>\n",
       "      <td>2</td>\n",
       "      <td>42</td>\n",
       "      <td>October</td>\n",
       "      <td>2018</td>\n",
       "    </tr>\n",
       "    <tr>\n",
       "      <td>2</td>\n",
       "      <td>5500</td>\n",
       "      <td>2013</td>\n",
       "      <td>hyundai sonata</td>\n",
       "      <td>like new</td>\n",
       "      <td>4</td>\n",
       "      <td>gas</td>\n",
       "      <td>110000</td>\n",
       "      <td>automatic</td>\n",
       "      <td>sedan</td>\n",
       "      <td>red</td>\n",
       "      <td>False</td>\n",
       "      <td>2019-02-07</td>\n",
       "      <td>79</td>\n",
       "      <td>6</td>\n",
       "      <td>15714.285714</td>\n",
       "      <td>4</td>\n",
       "      <td>6</td>\n",
       "      <td>February</td>\n",
       "      <td>2019</td>\n",
       "    </tr>\n",
       "    <tr>\n",
       "      <td>3</td>\n",
       "      <td>1500</td>\n",
       "      <td>2003</td>\n",
       "      <td>ford f-150</td>\n",
       "      <td>fair</td>\n",
       "      <td>8</td>\n",
       "      <td>gas</td>\n",
       "      <td>181613</td>\n",
       "      <td>automatic</td>\n",
       "      <td>pickup</td>\n",
       "      <td>unknown</td>\n",
       "      <td>False</td>\n",
       "      <td>2019-03-22</td>\n",
       "      <td>9</td>\n",
       "      <td>16</td>\n",
       "      <td>10683.117647</td>\n",
       "      <td>1</td>\n",
       "      <td>12</td>\n",
       "      <td>March</td>\n",
       "      <td>2019</td>\n",
       "    </tr>\n",
       "    <tr>\n",
       "      <td>4</td>\n",
       "      <td>14900</td>\n",
       "      <td>2017</td>\n",
       "      <td>chrysler 200</td>\n",
       "      <td>excellent</td>\n",
       "      <td>4</td>\n",
       "      <td>gas</td>\n",
       "      <td>80903</td>\n",
       "      <td>automatic</td>\n",
       "      <td>sedan</td>\n",
       "      <td>black</td>\n",
       "      <td>False</td>\n",
       "      <td>2019-04-02</td>\n",
       "      <td>28</td>\n",
       "      <td>2</td>\n",
       "      <td>26967.666667</td>\n",
       "      <td>3</td>\n",
       "      <td>14</td>\n",
       "      <td>April</td>\n",
       "      <td>2019</td>\n",
       "    </tr>\n",
       "    <tr>\n",
       "      <td>...</td>\n",
       "      <td>...</td>\n",
       "      <td>...</td>\n",
       "      <td>...</td>\n",
       "      <td>...</td>\n",
       "      <td>...</td>\n",
       "      <td>...</td>\n",
       "      <td>...</td>\n",
       "      <td>...</td>\n",
       "      <td>...</td>\n",
       "      <td>...</td>\n",
       "      <td>...</td>\n",
       "      <td>...</td>\n",
       "      <td>...</td>\n",
       "      <td>...</td>\n",
       "      <td>...</td>\n",
       "      <td>...</td>\n",
       "      <td>...</td>\n",
       "      <td>...</td>\n",
       "      <td>...</td>\n",
       "    </tr>\n",
       "    <tr>\n",
       "      <td>51520</td>\n",
       "      <td>9249</td>\n",
       "      <td>2013</td>\n",
       "      <td>nissan maxima</td>\n",
       "      <td>like new</td>\n",
       "      <td>6</td>\n",
       "      <td>gas</td>\n",
       "      <td>88136</td>\n",
       "      <td>automatic</td>\n",
       "      <td>sedan</td>\n",
       "      <td>black</td>\n",
       "      <td>False</td>\n",
       "      <td>2018-10-03</td>\n",
       "      <td>37</td>\n",
       "      <td>5</td>\n",
       "      <td>14689.333333</td>\n",
       "      <td>4</td>\n",
       "      <td>40</td>\n",
       "      <td>October</td>\n",
       "      <td>2018</td>\n",
       "    </tr>\n",
       "    <tr>\n",
       "      <td>51521</td>\n",
       "      <td>2700</td>\n",
       "      <td>2002</td>\n",
       "      <td>honda civic</td>\n",
       "      <td>salvage</td>\n",
       "      <td>4</td>\n",
       "      <td>gas</td>\n",
       "      <td>181500</td>\n",
       "      <td>automatic</td>\n",
       "      <td>sedan</td>\n",
       "      <td>white</td>\n",
       "      <td>False</td>\n",
       "      <td>2018-11-14</td>\n",
       "      <td>22</td>\n",
       "      <td>16</td>\n",
       "      <td>10676.470588</td>\n",
       "      <td>0</td>\n",
       "      <td>46</td>\n",
       "      <td>November</td>\n",
       "      <td>2018</td>\n",
       "    </tr>\n",
       "    <tr>\n",
       "      <td>51522</td>\n",
       "      <td>3950</td>\n",
       "      <td>2009</td>\n",
       "      <td>hyundai sonata</td>\n",
       "      <td>excellent</td>\n",
       "      <td>4</td>\n",
       "      <td>gas</td>\n",
       "      <td>128000</td>\n",
       "      <td>automatic</td>\n",
       "      <td>sedan</td>\n",
       "      <td>blue</td>\n",
       "      <td>False</td>\n",
       "      <td>2018-11-15</td>\n",
       "      <td>32</td>\n",
       "      <td>9</td>\n",
       "      <td>12800.000000</td>\n",
       "      <td>3</td>\n",
       "      <td>46</td>\n",
       "      <td>November</td>\n",
       "      <td>2018</td>\n",
       "    </tr>\n",
       "    <tr>\n",
       "      <td>51523</td>\n",
       "      <td>7455</td>\n",
       "      <td>2013</td>\n",
       "      <td>toyota corolla</td>\n",
       "      <td>good</td>\n",
       "      <td>4</td>\n",
       "      <td>gas</td>\n",
       "      <td>139573</td>\n",
       "      <td>automatic</td>\n",
       "      <td>sedan</td>\n",
       "      <td>black</td>\n",
       "      <td>False</td>\n",
       "      <td>2018-07-02</td>\n",
       "      <td>71</td>\n",
       "      <td>5</td>\n",
       "      <td>23262.166667</td>\n",
       "      <td>2</td>\n",
       "      <td>27</td>\n",
       "      <td>July</td>\n",
       "      <td>2018</td>\n",
       "    </tr>\n",
       "    <tr>\n",
       "      <td>51524</td>\n",
       "      <td>6300</td>\n",
       "      <td>2014</td>\n",
       "      <td>nissan altima</td>\n",
       "      <td>good</td>\n",
       "      <td>4</td>\n",
       "      <td>gas</td>\n",
       "      <td>129000</td>\n",
       "      <td>automatic</td>\n",
       "      <td>sedan</td>\n",
       "      <td>unknown</td>\n",
       "      <td>False</td>\n",
       "      <td>2018-06-05</td>\n",
       "      <td>10</td>\n",
       "      <td>4</td>\n",
       "      <td>25800.000000</td>\n",
       "      <td>2</td>\n",
       "      <td>23</td>\n",
       "      <td>June</td>\n",
       "      <td>2018</td>\n",
       "    </tr>\n",
       "  </tbody>\n",
       "</table>\n",
       "<p>51525 rows × 19 columns</p>\n",
       "</div>"
      ],
      "text/plain": [
       "       price  model_year           model  condition  cylinders fuel  odometer  \\\n",
       "0       9400        2011          bmw x5       good          6  gas    145000   \n",
       "1      25500        2011      ford f-150       good          6  gas     88705   \n",
       "2       5500        2013  hyundai sonata   like new          4  gas    110000   \n",
       "3       1500        2003      ford f-150       fair          8  gas    181613   \n",
       "4      14900        2017    chrysler 200  excellent          4  gas     80903   \n",
       "...      ...         ...             ...        ...        ...  ...       ...   \n",
       "51520   9249        2013   nissan maxima   like new          6  gas     88136   \n",
       "51521   2700        2002     honda civic    salvage          4  gas    181500   \n",
       "51522   3950        2009  hyundai sonata  excellent          4  gas    128000   \n",
       "51523   7455        2013  toyota corolla       good          4  gas    139573   \n",
       "51524   6300        2014   nissan altima       good          4  gas    129000   \n",
       "\n",
       "      transmission    type paint_color  is_4wd date_posted  days_listed  \\\n",
       "0        automatic     SUV     unknown    True  2018-06-23           19   \n",
       "1        automatic  pickup       white    True  2018-10-19           50   \n",
       "2        automatic   sedan         red   False  2019-02-07           79   \n",
       "3        automatic  pickup     unknown   False  2019-03-22            9   \n",
       "4        automatic   sedan       black   False  2019-04-02           28   \n",
       "...            ...     ...         ...     ...         ...          ...   \n",
       "51520    automatic   sedan       black   False  2018-10-03           37   \n",
       "51521    automatic   sedan       white   False  2018-11-14           22   \n",
       "51522    automatic   sedan        blue   False  2018-11-15           32   \n",
       "51523    automatic   sedan       black   False  2018-07-02           71   \n",
       "51524    automatic   sedan     unknown   False  2018-06-05           10   \n",
       "\n",
       "       car_age  mileage_per_year  condition_cat  week_posted month_posted  \\\n",
       "0            7      18125.000000              2           25         June   \n",
       "1            7      11088.125000              2           42      October   \n",
       "2            6      15714.285714              4            6     February   \n",
       "3           16      10683.117647              1           12        March   \n",
       "4            2      26967.666667              3           14        April   \n",
       "...        ...               ...            ...          ...          ...   \n",
       "51520        5      14689.333333              4           40      October   \n",
       "51521       16      10676.470588              0           46     November   \n",
       "51522        9      12800.000000              3           46     November   \n",
       "51523        5      23262.166667              2           27         July   \n",
       "51524        4      25800.000000              2           23         June   \n",
       "\n",
       "       year_posted  \n",
       "0             2018  \n",
       "1             2018  \n",
       "2             2019  \n",
       "3             2019  \n",
       "4             2019  \n",
       "...            ...  \n",
       "51520         2018  \n",
       "51521         2018  \n",
       "51522         2018  \n",
       "51523         2018  \n",
       "51524         2018  \n",
       "\n",
       "[51525 rows x 19 columns]"
      ]
     },
     "execution_count": 14,
     "metadata": {},
     "output_type": "execute_result"
    }
   ],
   "source": [
    "# It might help to replace the condition values with something that can be manipulated more easily\n",
    "\n",
    "# I disagree, as coding the conditions to integers will make me forget which ones correspond to which strings, and I\n",
    "# Will have to keep going back to check. I will encode them later if it is truly needed\n",
    "df"
   ]
  },
  {
   "cell_type": "markdown",
   "metadata": {},
   "source": [
    "## Check clean data"
   ]
  },
  {
   "cell_type": "code",
   "execution_count": 15,
   "metadata": {},
   "outputs": [
    {
     "name": "stdout",
     "output_type": "stream",
     "text": [
      "<class 'pandas.core.frame.DataFrame'>\n",
      "RangeIndex: 51525 entries, 0 to 51524\n",
      "Data columns (total 19 columns):\n",
      "price               51525 non-null int64\n",
      "model_year          51525 non-null int64\n",
      "model               51525 non-null object\n",
      "condition           51525 non-null object\n",
      "cylinders           51525 non-null int64\n",
      "fuel                51525 non-null object\n",
      "odometer            51525 non-null int64\n",
      "transmission        51525 non-null object\n",
      "type                51525 non-null object\n",
      "paint_color         51525 non-null object\n",
      "is_4wd              51525 non-null bool\n",
      "date_posted         51525 non-null datetime64[ns]\n",
      "days_listed         51525 non-null int64\n",
      "car_age             51525 non-null int64\n",
      "mileage_per_year    51525 non-null float64\n",
      "condition_cat       51525 non-null int64\n",
      "week_posted         51525 non-null int64\n",
      "month_posted        51525 non-null object\n",
      "year_posted         51525 non-null int64\n",
      "dtypes: bool(1), datetime64[ns](1), float64(1), int64(9), object(7)\n",
      "memory usage: 7.1+ MB\n"
     ]
    }
   ],
   "source": [
    "# print the general/summary information about the DataFrame\n",
    "\n",
    "df.info()"
   ]
  },
  {
   "cell_type": "code",
   "execution_count": 16,
   "metadata": {},
   "outputs": [
    {
     "data": {
      "text/html": [
       "<div>\n",
       "<style scoped>\n",
       "    .dataframe tbody tr th:only-of-type {\n",
       "        vertical-align: middle;\n",
       "    }\n",
       "\n",
       "    .dataframe tbody tr th {\n",
       "        vertical-align: top;\n",
       "    }\n",
       "\n",
       "    .dataframe thead th {\n",
       "        text-align: right;\n",
       "    }\n",
       "</style>\n",
       "<table border=\"1\" class=\"dataframe\">\n",
       "  <thead>\n",
       "    <tr style=\"text-align: right;\">\n",
       "      <th></th>\n",
       "      <th>price</th>\n",
       "      <th>model_year</th>\n",
       "      <th>model</th>\n",
       "      <th>condition</th>\n",
       "      <th>cylinders</th>\n",
       "      <th>fuel</th>\n",
       "      <th>odometer</th>\n",
       "      <th>transmission</th>\n",
       "      <th>type</th>\n",
       "      <th>paint_color</th>\n",
       "      <th>is_4wd</th>\n",
       "      <th>date_posted</th>\n",
       "      <th>days_listed</th>\n",
       "      <th>car_age</th>\n",
       "      <th>mileage_per_year</th>\n",
       "      <th>condition_cat</th>\n",
       "      <th>week_posted</th>\n",
       "      <th>month_posted</th>\n",
       "      <th>year_posted</th>\n",
       "    </tr>\n",
       "  </thead>\n",
       "  <tbody>\n",
       "    <tr>\n",
       "      <td>count</td>\n",
       "      <td>51525.000000</td>\n",
       "      <td>51525.000000</td>\n",
       "      <td>51525</td>\n",
       "      <td>51525</td>\n",
       "      <td>51525.000000</td>\n",
       "      <td>51525</td>\n",
       "      <td>51525.000000</td>\n",
       "      <td>51525</td>\n",
       "      <td>51525</td>\n",
       "      <td>51525</td>\n",
       "      <td>51525</td>\n",
       "      <td>51525</td>\n",
       "      <td>51525.00000</td>\n",
       "      <td>51525.000000</td>\n",
       "      <td>51525.000000</td>\n",
       "      <td>51525.000000</td>\n",
       "      <td>51525.000000</td>\n",
       "      <td>51525</td>\n",
       "      <td>51525.000000</td>\n",
       "    </tr>\n",
       "    <tr>\n",
       "      <td>unique</td>\n",
       "      <td>NaN</td>\n",
       "      <td>NaN</td>\n",
       "      <td>100</td>\n",
       "      <td>6</td>\n",
       "      <td>NaN</td>\n",
       "      <td>5</td>\n",
       "      <td>NaN</td>\n",
       "      <td>3</td>\n",
       "      <td>13</td>\n",
       "      <td>13</td>\n",
       "      <td>2</td>\n",
       "      <td>354</td>\n",
       "      <td>NaN</td>\n",
       "      <td>NaN</td>\n",
       "      <td>NaN</td>\n",
       "      <td>NaN</td>\n",
       "      <td>NaN</td>\n",
       "      <td>12</td>\n",
       "      <td>NaN</td>\n",
       "    </tr>\n",
       "    <tr>\n",
       "      <td>top</td>\n",
       "      <td>NaN</td>\n",
       "      <td>NaN</td>\n",
       "      <td>ford f-150</td>\n",
       "      <td>excellent</td>\n",
       "      <td>NaN</td>\n",
       "      <td>gas</td>\n",
       "      <td>NaN</td>\n",
       "      <td>automatic</td>\n",
       "      <td>SUV</td>\n",
       "      <td>white</td>\n",
       "      <td>False</td>\n",
       "      <td>2019-03-17 00:00:00</td>\n",
       "      <td>NaN</td>\n",
       "      <td>NaN</td>\n",
       "      <td>NaN</td>\n",
       "      <td>NaN</td>\n",
       "      <td>NaN</td>\n",
       "      <td>October</td>\n",
       "      <td>NaN</td>\n",
       "    </tr>\n",
       "    <tr>\n",
       "      <td>freq</td>\n",
       "      <td>NaN</td>\n",
       "      <td>NaN</td>\n",
       "      <td>2796</td>\n",
       "      <td>24773</td>\n",
       "      <td>NaN</td>\n",
       "      <td>47288</td>\n",
       "      <td>NaN</td>\n",
       "      <td>46902</td>\n",
       "      <td>12405</td>\n",
       "      <td>10029</td>\n",
       "      <td>25953</td>\n",
       "      <td>186</td>\n",
       "      <td>NaN</td>\n",
       "      <td>NaN</td>\n",
       "      <td>NaN</td>\n",
       "      <td>NaN</td>\n",
       "      <td>NaN</td>\n",
       "      <td>4643</td>\n",
       "      <td>NaN</td>\n",
       "    </tr>\n",
       "    <tr>\n",
       "      <td>first</td>\n",
       "      <td>NaN</td>\n",
       "      <td>NaN</td>\n",
       "      <td>NaN</td>\n",
       "      <td>NaN</td>\n",
       "      <td>NaN</td>\n",
       "      <td>NaN</td>\n",
       "      <td>NaN</td>\n",
       "      <td>NaN</td>\n",
       "      <td>NaN</td>\n",
       "      <td>NaN</td>\n",
       "      <td>NaN</td>\n",
       "      <td>2018-05-01 00:00:00</td>\n",
       "      <td>NaN</td>\n",
       "      <td>NaN</td>\n",
       "      <td>NaN</td>\n",
       "      <td>NaN</td>\n",
       "      <td>NaN</td>\n",
       "      <td>NaN</td>\n",
       "      <td>NaN</td>\n",
       "    </tr>\n",
       "    <tr>\n",
       "      <td>last</td>\n",
       "      <td>NaN</td>\n",
       "      <td>NaN</td>\n",
       "      <td>NaN</td>\n",
       "      <td>NaN</td>\n",
       "      <td>NaN</td>\n",
       "      <td>NaN</td>\n",
       "      <td>NaN</td>\n",
       "      <td>NaN</td>\n",
       "      <td>NaN</td>\n",
       "      <td>NaN</td>\n",
       "      <td>NaN</td>\n",
       "      <td>2019-04-19 00:00:00</td>\n",
       "      <td>NaN</td>\n",
       "      <td>NaN</td>\n",
       "      <td>NaN</td>\n",
       "      <td>NaN</td>\n",
       "      <td>NaN</td>\n",
       "      <td>NaN</td>\n",
       "      <td>NaN</td>\n",
       "    </tr>\n",
       "    <tr>\n",
       "      <td>mean</td>\n",
       "      <td>12132.464920</td>\n",
       "      <td>2009.793557</td>\n",
       "      <td>NaN</td>\n",
       "      <td>NaN</td>\n",
       "      <td>6.121067</td>\n",
       "      <td>NaN</td>\n",
       "      <td>115199.007278</td>\n",
       "      <td>NaN</td>\n",
       "      <td>NaN</td>\n",
       "      <td>NaN</td>\n",
       "      <td>NaN</td>\n",
       "      <td>NaN</td>\n",
       "      <td>39.55476</td>\n",
       "      <td>8.513906</td>\n",
       "      <td>15378.480570</td>\n",
       "      <td>2.637535</td>\n",
       "      <td>26.873498</td>\n",
       "      <td>NaN</td>\n",
       "      <td>2018.307462</td>\n",
       "    </tr>\n",
       "    <tr>\n",
       "      <td>std</td>\n",
       "      <td>10040.803015</td>\n",
       "      <td>6.099381</td>\n",
       "      <td>NaN</td>\n",
       "      <td>NaN</td>\n",
       "      <td>1.657457</td>\n",
       "      <td>NaN</td>\n",
       "      <td>60484.868232</td>\n",
       "      <td>NaN</td>\n",
       "      <td>NaN</td>\n",
       "      <td>NaN</td>\n",
       "      <td>NaN</td>\n",
       "      <td>NaN</td>\n",
       "      <td>28.20427</td>\n",
       "      <td>6.112976</td>\n",
       "      <td>11808.751864</td>\n",
       "      <td>0.712447</td>\n",
       "      <td>15.138854</td>\n",
       "      <td>NaN</td>\n",
       "      <td>0.461447</td>\n",
       "    </tr>\n",
       "    <tr>\n",
       "      <td>min</td>\n",
       "      <td>1.000000</td>\n",
       "      <td>1908.000000</td>\n",
       "      <td>NaN</td>\n",
       "      <td>NaN</td>\n",
       "      <td>3.000000</td>\n",
       "      <td>NaN</td>\n",
       "      <td>0.000000</td>\n",
       "      <td>NaN</td>\n",
       "      <td>NaN</td>\n",
       "      <td>NaN</td>\n",
       "      <td>NaN</td>\n",
       "      <td>NaN</td>\n",
       "      <td>0.00000</td>\n",
       "      <td>0.000000</td>\n",
       "      <td>0.000000</td>\n",
       "      <td>0.000000</td>\n",
       "      <td>1.000000</td>\n",
       "      <td>NaN</td>\n",
       "      <td>2018.000000</td>\n",
       "    </tr>\n",
       "    <tr>\n",
       "      <td>25%</td>\n",
       "      <td>5000.000000</td>\n",
       "      <td>2007.000000</td>\n",
       "      <td>NaN</td>\n",
       "      <td>NaN</td>\n",
       "      <td>4.000000</td>\n",
       "      <td>NaN</td>\n",
       "      <td>75668.000000</td>\n",
       "      <td>NaN</td>\n",
       "      <td>NaN</td>\n",
       "      <td>NaN</td>\n",
       "      <td>NaN</td>\n",
       "      <td>NaN</td>\n",
       "      <td>19.00000</td>\n",
       "      <td>4.000000</td>\n",
       "      <td>9363.636364</td>\n",
       "      <td>2.000000</td>\n",
       "      <td>13.000000</td>\n",
       "      <td>NaN</td>\n",
       "      <td>2018.000000</td>\n",
       "    </tr>\n",
       "    <tr>\n",
       "      <td>50%</td>\n",
       "      <td>9000.000000</td>\n",
       "      <td>2011.000000</td>\n",
       "      <td>NaN</td>\n",
       "      <td>NaN</td>\n",
       "      <td>6.000000</td>\n",
       "      <td>NaN</td>\n",
       "      <td>110908.000000</td>\n",
       "      <td>NaN</td>\n",
       "      <td>NaN</td>\n",
       "      <td>NaN</td>\n",
       "      <td>NaN</td>\n",
       "      <td>NaN</td>\n",
       "      <td>33.00000</td>\n",
       "      <td>8.000000</td>\n",
       "      <td>13036.181818</td>\n",
       "      <td>3.000000</td>\n",
       "      <td>27.000000</td>\n",
       "      <td>NaN</td>\n",
       "      <td>2018.000000</td>\n",
       "    </tr>\n",
       "    <tr>\n",
       "      <td>75%</td>\n",
       "      <td>16839.000000</td>\n",
       "      <td>2014.000000</td>\n",
       "      <td>NaN</td>\n",
       "      <td>NaN</td>\n",
       "      <td>8.000000</td>\n",
       "      <td>NaN</td>\n",
       "      <td>147821.000000</td>\n",
       "      <td>NaN</td>\n",
       "      <td>NaN</td>\n",
       "      <td>NaN</td>\n",
       "      <td>NaN</td>\n",
       "      <td>NaN</td>\n",
       "      <td>53.00000</td>\n",
       "      <td>12.000000</td>\n",
       "      <td>18222.222222</td>\n",
       "      <td>3.000000</td>\n",
       "      <td>40.000000</td>\n",
       "      <td>NaN</td>\n",
       "      <td>2019.000000</td>\n",
       "    </tr>\n",
       "    <tr>\n",
       "      <td>max</td>\n",
       "      <td>375000.000000</td>\n",
       "      <td>2019.000000</td>\n",
       "      <td>NaN</td>\n",
       "      <td>NaN</td>\n",
       "      <td>12.000000</td>\n",
       "      <td>NaN</td>\n",
       "      <td>990000.000000</td>\n",
       "      <td>NaN</td>\n",
       "      <td>NaN</td>\n",
       "      <td>NaN</td>\n",
       "      <td>NaN</td>\n",
       "      <td>NaN</td>\n",
       "      <td>271.00000</td>\n",
       "      <td>110.000000</td>\n",
       "      <td>373200.000000</td>\n",
       "      <td>5.000000</td>\n",
       "      <td>52.000000</td>\n",
       "      <td>NaN</td>\n",
       "      <td>2019.000000</td>\n",
       "    </tr>\n",
       "  </tbody>\n",
       "</table>\n",
       "</div>"
      ],
      "text/plain": [
       "                price    model_year       model  condition     cylinders  \\\n",
       "count    51525.000000  51525.000000       51525      51525  51525.000000   \n",
       "unique            NaN           NaN         100          6           NaN   \n",
       "top               NaN           NaN  ford f-150  excellent           NaN   \n",
       "freq              NaN           NaN        2796      24773           NaN   \n",
       "first             NaN           NaN         NaN        NaN           NaN   \n",
       "last              NaN           NaN         NaN        NaN           NaN   \n",
       "mean     12132.464920   2009.793557         NaN        NaN      6.121067   \n",
       "std      10040.803015      6.099381         NaN        NaN      1.657457   \n",
       "min          1.000000   1908.000000         NaN        NaN      3.000000   \n",
       "25%       5000.000000   2007.000000         NaN        NaN      4.000000   \n",
       "50%       9000.000000   2011.000000         NaN        NaN      6.000000   \n",
       "75%      16839.000000   2014.000000         NaN        NaN      8.000000   \n",
       "max     375000.000000   2019.000000         NaN        NaN     12.000000   \n",
       "\n",
       "         fuel       odometer transmission   type paint_color is_4wd  \\\n",
       "count   51525   51525.000000        51525  51525       51525  51525   \n",
       "unique      5            NaN            3     13          13      2   \n",
       "top       gas            NaN    automatic    SUV       white  False   \n",
       "freq    47288            NaN        46902  12405       10029  25953   \n",
       "first     NaN            NaN          NaN    NaN         NaN    NaN   \n",
       "last      NaN            NaN          NaN    NaN         NaN    NaN   \n",
       "mean      NaN  115199.007278          NaN    NaN         NaN    NaN   \n",
       "std       NaN   60484.868232          NaN    NaN         NaN    NaN   \n",
       "min       NaN       0.000000          NaN    NaN         NaN    NaN   \n",
       "25%       NaN   75668.000000          NaN    NaN         NaN    NaN   \n",
       "50%       NaN  110908.000000          NaN    NaN         NaN    NaN   \n",
       "75%       NaN  147821.000000          NaN    NaN         NaN    NaN   \n",
       "max       NaN  990000.000000          NaN    NaN         NaN    NaN   \n",
       "\n",
       "                date_posted  days_listed       car_age  mileage_per_year  \\\n",
       "count                 51525  51525.00000  51525.000000      51525.000000   \n",
       "unique                  354          NaN           NaN               NaN   \n",
       "top     2019-03-17 00:00:00          NaN           NaN               NaN   \n",
       "freq                    186          NaN           NaN               NaN   \n",
       "first   2018-05-01 00:00:00          NaN           NaN               NaN   \n",
       "last    2019-04-19 00:00:00          NaN           NaN               NaN   \n",
       "mean                    NaN     39.55476      8.513906      15378.480570   \n",
       "std                     NaN     28.20427      6.112976      11808.751864   \n",
       "min                     NaN      0.00000      0.000000          0.000000   \n",
       "25%                     NaN     19.00000      4.000000       9363.636364   \n",
       "50%                     NaN     33.00000      8.000000      13036.181818   \n",
       "75%                     NaN     53.00000     12.000000      18222.222222   \n",
       "max                     NaN    271.00000    110.000000     373200.000000   \n",
       "\n",
       "        condition_cat   week_posted month_posted   year_posted  \n",
       "count    51525.000000  51525.000000        51525  51525.000000  \n",
       "unique            NaN           NaN           12           NaN  \n",
       "top               NaN           NaN      October           NaN  \n",
       "freq              NaN           NaN         4643           NaN  \n",
       "first             NaN           NaN          NaN           NaN  \n",
       "last              NaN           NaN          NaN           NaN  \n",
       "mean         2.637535     26.873498          NaN   2018.307462  \n",
       "std          0.712447     15.138854          NaN      0.461447  \n",
       "min          0.000000      1.000000          NaN   2018.000000  \n",
       "25%          2.000000     13.000000          NaN   2018.000000  \n",
       "50%          3.000000     27.000000          NaN   2018.000000  \n",
       "75%          3.000000     40.000000          NaN   2019.000000  \n",
       "max          5.000000     52.000000          NaN   2019.000000  "
      ]
     },
     "execution_count": 16,
     "metadata": {},
     "output_type": "execute_result"
    }
   ],
   "source": [
    "# print a sample of data\n",
    "\n",
    "df.describe(include='all')"
   ]
  },
  {
   "cell_type": "markdown",
   "metadata": {},
   "source": [
    "## Study core parameters\n",
    "\n",
    "The parameters are\n",
    "- Price\n",
    "- The vehicle's age when the ad was placed\n",
    "- Mileage\n",
    "- Number of cylinders\n",
    "- Condition"
   ]
  },
  {
   "cell_type": "code",
   "execution_count": 17,
   "metadata": {},
   "outputs": [
    {
     "data": {
      "image/png": "[encoded data removed]",
      "text/plain": [
       "<Figure size 432x288 with 2 Axes>"
      ]
     },
     "metadata": {
      "needs_background": "light"
     },
     "output_type": "display_data"
    },
    {
     "data": {
      "text/html": [
       "<div>\n",
       "<style scoped>\n",
       "    .dataframe tbody tr th:only-of-type {\n",
       "        vertical-align: middle;\n",
       "    }\n",
       "\n",
       "    .dataframe tbody tr th {\n",
       "        vertical-align: top;\n",
       "    }\n",
       "\n",
       "    .dataframe thead th {\n",
       "        text-align: right;\n",
       "    }\n",
       "</style>\n",
       "<table border=\"1\" class=\"dataframe\">\n",
       "  <thead>\n",
       "    <tr style=\"text-align: right;\">\n",
       "      <th></th>\n",
       "      <th>price</th>\n",
       "      <th>model_year</th>\n",
       "      <th>model</th>\n",
       "      <th>condition</th>\n",
       "      <th>odometer</th>\n",
       "      <th>type</th>\n",
       "      <th>days_listed</th>\n",
       "      <th>mileage_per_year</th>\n",
       "      <th>condition_cat</th>\n",
       "      <th>week_posted</th>\n",
       "      <th>month_posted</th>\n",
       "      <th>year_posted</th>\n",
       "    </tr>\n",
       "  </thead>\n",
       "  <tbody>\n",
       "    <tr>\n",
       "      <td>1309</td>\n",
       "      <td>189000</td>\n",
       "      <td>2014</td>\n",
       "      <td>ford f-150</td>\n",
       "      <td>good</td>\n",
       "      <td>151248</td>\n",
       "      <td>truck</td>\n",
       "      <td>56</td>\n",
       "      <td>25208.000000</td>\n",
       "      <td>2</td>\n",
       "      <td>9</td>\n",
       "      <td>March</td>\n",
       "      <td>2019</td>\n",
       "    </tr>\n",
       "    <tr>\n",
       "      <td>1326</td>\n",
       "      <td>79900</td>\n",
       "      <td>2008</td>\n",
       "      <td>ford f350</td>\n",
       "      <td>like new</td>\n",
       "      <td>10060</td>\n",
       "      <td>pickup</td>\n",
       "      <td>22</td>\n",
       "      <td>914.545455</td>\n",
       "      <td>4</td>\n",
       "      <td>29</td>\n",
       "      <td>July</td>\n",
       "      <td>2018</td>\n",
       "    </tr>\n",
       "    <tr>\n",
       "      <td>1668</td>\n",
       "      <td>189000</td>\n",
       "      <td>2014</td>\n",
       "      <td>ford f-150</td>\n",
       "      <td>good</td>\n",
       "      <td>151248</td>\n",
       "      <td>truck</td>\n",
       "      <td>21</td>\n",
       "      <td>25208.000000</td>\n",
       "      <td>2</td>\n",
       "      <td>12</td>\n",
       "      <td>March</td>\n",
       "      <td>2019</td>\n",
       "    </tr>\n",
       "  </tbody>\n",
       "</table>\n",
       "</div>"
      ],
      "text/plain": [
       "       price  model_year       model condition  odometer    type  days_listed  \\\n",
       "1309  189000        2014  ford f-150      good    151248   truck           56   \n",
       "1326   79900        2008   ford f350  like new     10060  pickup           22   \n",
       "1668  189000        2014  ford f-150      good    151248   truck           21   \n",
       "\n",
       "      mileage_per_year  condition_cat  week_posted month_posted  year_posted  \n",
       "1309      25208.000000              2            9        March         2019  \n",
       "1326        914.545455              4           29         July         2018  \n",
       "1668      25208.000000              2           12        March         2019  "
      ]
     },
     "metadata": {},
     "output_type": "display_data"
    },
    {
     "name": "stdout",
     "output_type": "stream",
     "text": [
      "(26, 12)\n"
     ]
    },
    {
     "data": {
      "text/html": [
       "<div>\n",
       "<style scoped>\n",
       "    .dataframe tbody tr th:only-of-type {\n",
       "        vertical-align: middle;\n",
       "    }\n",
       "\n",
       "    .dataframe tbody tr th {\n",
       "        vertical-align: top;\n",
       "    }\n",
       "\n",
       "    .dataframe thead th {\n",
       "        text-align: right;\n",
       "    }\n",
       "</style>\n",
       "<table border=\"1\" class=\"dataframe\">\n",
       "  <thead>\n",
       "    <tr style=\"text-align: right;\">\n",
       "      <th></th>\n",
       "      <th>price</th>\n",
       "      <th>model_year</th>\n",
       "      <th>model</th>\n",
       "      <th>condition</th>\n",
       "      <th>odometer</th>\n",
       "      <th>type</th>\n",
       "      <th>days_listed</th>\n",
       "      <th>mileage_per_year</th>\n",
       "      <th>condition_cat</th>\n",
       "      <th>week_posted</th>\n",
       "      <th>month_posted</th>\n",
       "      <th>year_posted</th>\n",
       "    </tr>\n",
       "  </thead>\n",
       "  <tbody>\n",
       "    <tr>\n",
       "      <td>count</td>\n",
       "      <td>26.000000</td>\n",
       "      <td>26.000000</td>\n",
       "      <td>26</td>\n",
       "      <td>26</td>\n",
       "      <td>26.000000</td>\n",
       "      <td>26</td>\n",
       "      <td>26.000000</td>\n",
       "      <td>26.000000</td>\n",
       "      <td>26.000000</td>\n",
       "      <td>26.000000</td>\n",
       "      <td>26</td>\n",
       "      <td>26.000000</td>\n",
       "    </tr>\n",
       "    <tr>\n",
       "      <td>unique</td>\n",
       "      <td>NaN</td>\n",
       "      <td>NaN</td>\n",
       "      <td>15</td>\n",
       "      <td>5</td>\n",
       "      <td>NaN</td>\n",
       "      <td>7</td>\n",
       "      <td>NaN</td>\n",
       "      <td>NaN</td>\n",
       "      <td>NaN</td>\n",
       "      <td>NaN</td>\n",
       "      <td>12</td>\n",
       "      <td>NaN</td>\n",
       "    </tr>\n",
       "    <tr>\n",
       "      <td>top</td>\n",
       "      <td>NaN</td>\n",
       "      <td>NaN</td>\n",
       "      <td>ford f-150</td>\n",
       "      <td>good</td>\n",
       "      <td>NaN</td>\n",
       "      <td>truck</td>\n",
       "      <td>NaN</td>\n",
       "      <td>NaN</td>\n",
       "      <td>NaN</td>\n",
       "      <td>NaN</td>\n",
       "      <td>March</td>\n",
       "      <td>NaN</td>\n",
       "    </tr>\n",
       "    <tr>\n",
       "      <td>freq</td>\n",
       "      <td>NaN</td>\n",
       "      <td>NaN</td>\n",
       "      <td>7</td>\n",
       "      <td>14</td>\n",
       "      <td>NaN</td>\n",
       "      <td>16</td>\n",
       "      <td>NaN</td>\n",
       "      <td>NaN</td>\n",
       "      <td>NaN</td>\n",
       "      <td>NaN</td>\n",
       "      <td>4</td>\n",
       "      <td>NaN</td>\n",
       "    </tr>\n",
       "    <tr>\n",
       "      <td>mean</td>\n",
       "      <td>143545.923077</td>\n",
       "      <td>2010.230769</td>\n",
       "      <td>NaN</td>\n",
       "      <td>NaN</td>\n",
       "      <td>106063.576923</td>\n",
       "      <td>NaN</td>\n",
       "      <td>39.192308</td>\n",
       "      <td>13478.439633</td>\n",
       "      <td>2.769231</td>\n",
       "      <td>25.192308</td>\n",
       "      <td>NaN</td>\n",
       "      <td>2018.346154</td>\n",
       "    </tr>\n",
       "    <tr>\n",
       "      <td>std</td>\n",
       "      <td>71683.148356</td>\n",
       "      <td>6.339134</td>\n",
       "      <td>NaN</td>\n",
       "      <td>NaN</td>\n",
       "      <td>74275.571572</td>\n",
       "      <td>NaN</td>\n",
       "      <td>23.270615</td>\n",
       "      <td>10004.522415</td>\n",
       "      <td>1.142198</td>\n",
       "      <td>14.656109</td>\n",
       "      <td>NaN</td>\n",
       "      <td>0.485165</td>\n",
       "    </tr>\n",
       "    <tr>\n",
       "      <td>min</td>\n",
       "      <td>76000.000000</td>\n",
       "      <td>1999.000000</td>\n",
       "      <td>NaN</td>\n",
       "      <td>NaN</td>\n",
       "      <td>35.000000</td>\n",
       "      <td>NaN</td>\n",
       "      <td>7.000000</td>\n",
       "      <td>1.842105</td>\n",
       "      <td>1.000000</td>\n",
       "      <td>4.000000</td>\n",
       "      <td>NaN</td>\n",
       "      <td>2018.000000</td>\n",
       "    </tr>\n",
       "    <tr>\n",
       "      <td>25%</td>\n",
       "      <td>90144.250000</td>\n",
       "      <td>2005.250000</td>\n",
       "      <td>NaN</td>\n",
       "      <td>NaN</td>\n",
       "      <td>9265.000000</td>\n",
       "      <td>NaN</td>\n",
       "      <td>21.250000</td>\n",
       "      <td>6460.421053</td>\n",
       "      <td>2.000000</td>\n",
       "      <td>12.250000</td>\n",
       "      <td>NaN</td>\n",
       "      <td>2018.000000</td>\n",
       "    </tr>\n",
       "    <tr>\n",
       "      <td>50%</td>\n",
       "      <td>123456.000000</td>\n",
       "      <td>2013.000000</td>\n",
       "      <td>NaN</td>\n",
       "      <td>NaN</td>\n",
       "      <td>129000.000000</td>\n",
       "      <td>NaN</td>\n",
       "      <td>32.000000</td>\n",
       "      <td>11284.060897</td>\n",
       "      <td>2.000000</td>\n",
       "      <td>26.000000</td>\n",
       "      <td>NaN</td>\n",
       "      <td>2018.000000</td>\n",
       "    </tr>\n",
       "    <tr>\n",
       "      <td>75%</td>\n",
       "      <td>189000.000000</td>\n",
       "      <td>2014.750000</td>\n",
       "      <td>NaN</td>\n",
       "      <td>NaN</td>\n",
       "      <td>151248.000000</td>\n",
       "      <td>NaN</td>\n",
       "      <td>54.500000</td>\n",
       "      <td>25208.000000</td>\n",
       "      <td>3.750000</td>\n",
       "      <td>35.500000</td>\n",
       "      <td>NaN</td>\n",
       "      <td>2019.000000</td>\n",
       "    </tr>\n",
       "    <tr>\n",
       "      <td>max</td>\n",
       "      <td>375000.000000</td>\n",
       "      <td>2019.000000</td>\n",
       "      <td>NaN</td>\n",
       "      <td>NaN</td>\n",
       "      <td>249000.000000</td>\n",
       "      <td>NaN</td>\n",
       "      <td>102.000000</td>\n",
       "      <td>32142.857143</td>\n",
       "      <td>5.000000</td>\n",
       "      <td>52.000000</td>\n",
       "      <td>NaN</td>\n",
       "      <td>2019.000000</td>\n",
       "    </tr>\n",
       "  </tbody>\n",
       "</table>\n",
       "</div>"
      ],
      "text/plain": [
       "                price   model_year       model condition       odometer  \\\n",
       "count       26.000000    26.000000          26        26      26.000000   \n",
       "unique            NaN          NaN          15         5            NaN   \n",
       "top               NaN          NaN  ford f-150      good            NaN   \n",
       "freq              NaN          NaN           7        14            NaN   \n",
       "mean    143545.923077  2010.230769         NaN       NaN  106063.576923   \n",
       "std      71683.148356     6.339134         NaN       NaN   74275.571572   \n",
       "min      76000.000000  1999.000000         NaN       NaN      35.000000   \n",
       "25%      90144.250000  2005.250000         NaN       NaN    9265.000000   \n",
       "50%     123456.000000  2013.000000         NaN       NaN  129000.000000   \n",
       "75%     189000.000000  2014.750000         NaN       NaN  151248.000000   \n",
       "max     375000.000000  2019.000000         NaN       NaN  249000.000000   \n",
       "\n",
       "         type  days_listed  mileage_per_year  condition_cat  week_posted  \\\n",
       "count      26    26.000000         26.000000      26.000000    26.000000   \n",
       "unique      7          NaN               NaN            NaN          NaN   \n",
       "top     truck          NaN               NaN            NaN          NaN   \n",
       "freq       16          NaN               NaN            NaN          NaN   \n",
       "mean      NaN    39.192308      13478.439633       2.769231    25.192308   \n",
       "std       NaN    23.270615      10004.522415       1.142198    14.656109   \n",
       "min       NaN     7.000000          1.842105       1.000000     4.000000   \n",
       "25%       NaN    21.250000       6460.421053       2.000000    12.250000   \n",
       "50%       NaN    32.000000      11284.060897       2.000000    26.000000   \n",
       "75%       NaN    54.500000      25208.000000       3.750000    35.500000   \n",
       "max       NaN   102.000000      32142.857143       5.000000    52.000000   \n",
       "\n",
       "       month_posted  year_posted  \n",
       "count            26    26.000000  \n",
       "unique           12          NaN  \n",
       "top           March          NaN  \n",
       "freq              4          NaN  \n",
       "mean            NaN  2018.346154  \n",
       "std             NaN     0.485165  \n",
       "min             NaN  2018.000000  \n",
       "25%             NaN  2018.000000  \n",
       "50%             NaN  2018.000000  \n",
       "75%             NaN  2019.000000  \n",
       "max             NaN  2019.000000  "
      ]
     },
     "execution_count": 17,
     "metadata": {},
     "output_type": "execute_result"
    }
   ],
   "source": [
    "# price\n",
    "\n",
    "plt.subplot(1, 2, 1)\n",
    "df['price'].hist()\n",
    "plt.subplot(1, 2, 2)\n",
    "df['price'].plot(kind='box')\n",
    "plt.tight_layout()\n",
    "plt.show()\n",
    "\n",
    "display(df[df['price'] > 75000].drop(['cylinders', 'fuel', 'transmission', 'paint_color', 'is_4wd', 'date_posted', 'car_age'], axis=1).head(3))\n",
    "print(df[df['price'] > 75000].drop(['cylinders', 'fuel', 'transmission', 'paint_color', 'is_4wd', 'date_posted', 'car_age'], axis=1).shape)\n",
    "df[df['price'] > 75000].drop(['cylinders', 'fuel', 'transmission', 'paint_color', 'is_4wd', 'date_posted', 'car_age'], axis=1).describe(include='all')"
   ]
  },
  {
   "cell_type": "markdown",
   "metadata": {},
   "source": [
    "* by inspecting the price and the attributes of the cars with a price > 100000, it can be justified that we can \n",
    "* drop the outliers. After a price of ~75000, the most frequent car is a ford f-150 with good condition and ~120,000 miles\n",
    "* This price is way to high in reality and may skew the results of our analysis"
   ]
  },
  {
   "cell_type": "code",
   "execution_count": 18,
   "metadata": {},
   "outputs": [
    {
     "data": {
      "image/png": "[encoded data removed]",
      "text/plain": [
       "<Figure size 432x288 with 2 Axes>"
      ]
     },
     "metadata": {
      "needs_background": "light"
     },
     "output_type": "display_data"
    },
    {
     "data": {
      "text/html": [
       "<div>\n",
       "<style scoped>\n",
       "    .dataframe tbody tr th:only-of-type {\n",
       "        vertical-align: middle;\n",
       "    }\n",
       "\n",
       "    .dataframe tbody tr th {\n",
       "        vertical-align: top;\n",
       "    }\n",
       "\n",
       "    .dataframe thead th {\n",
       "        text-align: right;\n",
       "    }\n",
       "</style>\n",
       "<table border=\"1\" class=\"dataframe\">\n",
       "  <thead>\n",
       "    <tr style=\"text-align: right;\">\n",
       "      <th></th>\n",
       "      <th>price</th>\n",
       "      <th>model_year</th>\n",
       "      <th>model</th>\n",
       "      <th>condition</th>\n",
       "      <th>cylinders</th>\n",
       "      <th>fuel</th>\n",
       "      <th>odometer</th>\n",
       "      <th>transmission</th>\n",
       "      <th>type</th>\n",
       "      <th>paint_color</th>\n",
       "      <th>is_4wd</th>\n",
       "      <th>date_posted</th>\n",
       "      <th>days_listed</th>\n",
       "      <th>car_age</th>\n",
       "      <th>mileage_per_year</th>\n",
       "      <th>condition_cat</th>\n",
       "      <th>week_posted</th>\n",
       "      <th>month_posted</th>\n",
       "      <th>year_posted</th>\n",
       "    </tr>\n",
       "  </thead>\n",
       "  <tbody>\n",
       "    <tr>\n",
       "      <td>10018</td>\n",
       "      <td>23900</td>\n",
       "      <td>1955</td>\n",
       "      <td>ford f250</td>\n",
       "      <td>excellent</td>\n",
       "      <td>6</td>\n",
       "      <td>gas</td>\n",
       "      <td>47180</td>\n",
       "      <td>manual</td>\n",
       "      <td>truck</td>\n",
       "      <td>blue</td>\n",
       "      <td>False</td>\n",
       "      <td>2018-12-22</td>\n",
       "      <td>61</td>\n",
       "      <td>63</td>\n",
       "      <td>737.187500</td>\n",
       "      <td>3</td>\n",
       "      <td>51</td>\n",
       "      <td>December</td>\n",
       "      <td>2018</td>\n",
       "    </tr>\n",
       "    <tr>\n",
       "      <td>14752</td>\n",
       "      <td>15000</td>\n",
       "      <td>1954</td>\n",
       "      <td>ford f-150</td>\n",
       "      <td>excellent</td>\n",
       "      <td>8</td>\n",
       "      <td>gas</td>\n",
       "      <td>3565</td>\n",
       "      <td>manual</td>\n",
       "      <td>pickup</td>\n",
       "      <td>black</td>\n",
       "      <td>False</td>\n",
       "      <td>2019-02-16</td>\n",
       "      <td>13</td>\n",
       "      <td>65</td>\n",
       "      <td>54.015152</td>\n",
       "      <td>3</td>\n",
       "      <td>7</td>\n",
       "      <td>February</td>\n",
       "      <td>2019</td>\n",
       "    </tr>\n",
       "    <tr>\n",
       "      <td>22595</td>\n",
       "      <td>21000</td>\n",
       "      <td>1948</td>\n",
       "      <td>chevrolet impala</td>\n",
       "      <td>like new</td>\n",
       "      <td>8</td>\n",
       "      <td>gas</td>\n",
       "      <td>4000</td>\n",
       "      <td>automatic</td>\n",
       "      <td>sedan</td>\n",
       "      <td>red</td>\n",
       "      <td>False</td>\n",
       "      <td>2019-01-18</td>\n",
       "      <td>24</td>\n",
       "      <td>71</td>\n",
       "      <td>55.555556</td>\n",
       "      <td>4</td>\n",
       "      <td>3</td>\n",
       "      <td>January</td>\n",
       "      <td>2019</td>\n",
       "    </tr>\n",
       "    <tr>\n",
       "      <td>33906</td>\n",
       "      <td>12995</td>\n",
       "      <td>1908</td>\n",
       "      <td>gmc yukon</td>\n",
       "      <td>good</td>\n",
       "      <td>8</td>\n",
       "      <td>gas</td>\n",
       "      <td>169328</td>\n",
       "      <td>automatic</td>\n",
       "      <td>SUV</td>\n",
       "      <td>black</td>\n",
       "      <td>False</td>\n",
       "      <td>2018-07-06</td>\n",
       "      <td>34</td>\n",
       "      <td>110</td>\n",
       "      <td>1525.477477</td>\n",
       "      <td>2</td>\n",
       "      <td>27</td>\n",
       "      <td>July</td>\n",
       "      <td>2018</td>\n",
       "    </tr>\n",
       "    <tr>\n",
       "      <td>33907</td>\n",
       "      <td>12995</td>\n",
       "      <td>1908</td>\n",
       "      <td>cadillac escalade</td>\n",
       "      <td>excellent</td>\n",
       "      <td>8</td>\n",
       "      <td>gas</td>\n",
       "      <td>104230</td>\n",
       "      <td>automatic</td>\n",
       "      <td>SUV</td>\n",
       "      <td>white</td>\n",
       "      <td>False</td>\n",
       "      <td>2018-06-24</td>\n",
       "      <td>25</td>\n",
       "      <td>110</td>\n",
       "      <td>939.009009</td>\n",
       "      <td>3</td>\n",
       "      <td>25</td>\n",
       "      <td>June</td>\n",
       "      <td>2018</td>\n",
       "    </tr>\n",
       "    <tr>\n",
       "      <td>34713</td>\n",
       "      <td>5000</td>\n",
       "      <td>1936</td>\n",
       "      <td>ford f-150</td>\n",
       "      <td>excellent</td>\n",
       "      <td>6</td>\n",
       "      <td>gas</td>\n",
       "      <td>30000</td>\n",
       "      <td>manual</td>\n",
       "      <td>pickup</td>\n",
       "      <td>purple</td>\n",
       "      <td>False</td>\n",
       "      <td>2018-11-22</td>\n",
       "      <td>10</td>\n",
       "      <td>82</td>\n",
       "      <td>361.445783</td>\n",
       "      <td>3</td>\n",
       "      <td>47</td>\n",
       "      <td>November</td>\n",
       "      <td>2018</td>\n",
       "    </tr>\n",
       "    <tr>\n",
       "      <td>36582</td>\n",
       "      <td>44900</td>\n",
       "      <td>1949</td>\n",
       "      <td>chevrolet suburban</td>\n",
       "      <td>good</td>\n",
       "      <td>8</td>\n",
       "      <td>gas</td>\n",
       "      <td>1800</td>\n",
       "      <td>automatic</td>\n",
       "      <td>wagon</td>\n",
       "      <td>orange</td>\n",
       "      <td>False</td>\n",
       "      <td>2018-08-19</td>\n",
       "      <td>10</td>\n",
       "      <td>69</td>\n",
       "      <td>25.714286</td>\n",
       "      <td>2</td>\n",
       "      <td>33</td>\n",
       "      <td>August</td>\n",
       "      <td>2018</td>\n",
       "    </tr>\n",
       "    <tr>\n",
       "      <td>45694</td>\n",
       "      <td>18000</td>\n",
       "      <td>1929</td>\n",
       "      <td>ford f-150</td>\n",
       "      <td>good</td>\n",
       "      <td>8</td>\n",
       "      <td>gas</td>\n",
       "      <td>129000</td>\n",
       "      <td>manual</td>\n",
       "      <td>other</td>\n",
       "      <td>silver</td>\n",
       "      <td>False</td>\n",
       "      <td>2018-11-18</td>\n",
       "      <td>59</td>\n",
       "      <td>89</td>\n",
       "      <td>1433.333333</td>\n",
       "      <td>2</td>\n",
       "      <td>46</td>\n",
       "      <td>November</td>\n",
       "      <td>2018</td>\n",
       "    </tr>\n",
       "  </tbody>\n",
       "</table>\n",
       "</div>"
      ],
      "text/plain": [
       "       price  model_year               model  condition  cylinders fuel  \\\n",
       "10018  23900        1955           ford f250  excellent          6  gas   \n",
       "14752  15000        1954          ford f-150  excellent          8  gas   \n",
       "22595  21000        1948    chevrolet impala   like new          8  gas   \n",
       "33906  12995        1908           gmc yukon       good          8  gas   \n",
       "33907  12995        1908   cadillac escalade  excellent          8  gas   \n",
       "34713   5000        1936          ford f-150  excellent          6  gas   \n",
       "36582  44900        1949  chevrolet suburban       good          8  gas   \n",
       "45694  18000        1929          ford f-150       good          8  gas   \n",
       "\n",
       "       odometer transmission    type paint_color  is_4wd date_posted  \\\n",
       "10018     47180       manual   truck        blue   False  2018-12-22   \n",
       "14752      3565       manual  pickup       black   False  2019-02-16   \n",
       "22595      4000    automatic   sedan         red   False  2019-01-18   \n",
       "33906    169328    automatic     SUV       black   False  2018-07-06   \n",
       "33907    104230    automatic     SUV       white   False  2018-06-24   \n",
       "34713     30000       manual  pickup      purple   False  2018-11-22   \n",
       "36582      1800    automatic   wagon      orange   False  2018-08-19   \n",
       "45694    129000       manual   other      silver   False  2018-11-18   \n",
       "\n",
       "       days_listed  car_age  mileage_per_year  condition_cat  week_posted  \\\n",
       "10018           61       63        737.187500              3           51   \n",
       "14752           13       65         54.015152              3            7   \n",
       "22595           24       71         55.555556              4            3   \n",
       "33906           34      110       1525.477477              2           27   \n",
       "33907           25      110        939.009009              3           25   \n",
       "34713           10       82        361.445783              3           47   \n",
       "36582           10       69         25.714286              2           33   \n",
       "45694           59       89       1433.333333              2           46   \n",
       "\n",
       "      month_posted  year_posted  \n",
       "10018     December         2018  \n",
       "14752     February         2019  \n",
       "22595      January         2019  \n",
       "33906         July         2018  \n",
       "33907         June         2018  \n",
       "34713     November         2018  \n",
       "36582       August         2018  \n",
       "45694     November         2018  "
      ]
     },
     "execution_count": 18,
     "metadata": {},
     "output_type": "execute_result"
    }
   ],
   "source": [
    "# vehicle age\n",
    "\n",
    "plt.subplot(1, 2, 1)\n",
    "df['car_age'].hist()\n",
    "plt.subplot(1, 2, 2)\n",
    "df['car_age'].plot(kind='box')\n",
    "plt.tight_layout()\n",
    "plt.show()\n",
    "\n",
    "df[df['car_age'] > 60]\n",
    "\n",
    "# there are very few amount of cars that are significantly old, but there is only one car (1908 gmc yukon) that doesn't exist\n",
    "# we can drop this row and keep the rest"
   ]
  },
  {
   "cell_type": "code",
   "execution_count": 19,
   "metadata": {
    "scrolled": false
   },
   "outputs": [
    {
     "data": {
      "image/png": "[encoded data removed]",
      "text/plain": [
       "<Figure size 432x288 with 2 Axes>"
      ]
     },
     "metadata": {
      "needs_background": "light"
     },
     "output_type": "display_data"
    },
    {
     "name": "stdout",
     "output_type": "stream",
     "text": [
      "Stats for price where odometer > 300,000 \n",
      "---\n",
      "Mean: 6890.839721254355 \n",
      "Std: 6115.863680187818\n"
     ]
    },
    {
     "data": {
      "image/png": "[encoded data removed]",
      "text/plain": [
       "<Figure size 432x288 with 1 Axes>"
      ]
     },
     "metadata": {
      "needs_background": "light"
     },
     "output_type": "display_data"
    }
   ],
   "source": [
    "# mileage\n",
    "\n",
    "plt.subplot(1, 2, 1)\n",
    "df['odometer'].hist()\n",
    "plt.subplot(1, 2, 2)\n",
    "df['odometer'].plot(kind='box')\n",
    "plt.tight_layout()\n",
    "plt.show()\n",
    "\n",
    "print('Stats for price where odometer > 300,000', '\\n---')\n",
    "print('Mean:', df[(df['odometer'] > 300000)]['price'].mean(), '\\nStd:', df[df['odometer'] > 300000]['price'].std())\n",
    "df[(df['odometer'] > 300000)]['price'].plot(kind='box')\n",
    "plt.title('Price Outliers For Odometer Outliers')\n",
    "plt.show()\n",
    "\n",
    "# It seems like there are a lot of outliers for the odometer column, but the values make sense because cars are allowed\n",
    "# to have a high odometer. Looking at the mean and std of the price where the odometer is an outlier matches the real-life\n",
    "# value that we'd expect for the car. When we look at the price where the odometer is considered and outlier, \n",
    "# there are only 6 prices that don't make sense with the high odometer number. \n",
    "# We can remove these 6 rows and keep the rest"
   ]
  },
  {
   "cell_type": "code",
   "execution_count": 20,
   "metadata": {},
   "outputs": [
    {
     "data": {
      "image/png": "[encoded data removed]",
      "text/plain": [
       "<Figure size 432x288 with 2 Axes>"
      ]
     },
     "metadata": {
      "needs_background": "light"
     },
     "output_type": "display_data"
    },
    {
     "data": {
      "text/plain": [
       "3        34\n",
       "4     15499\n",
       "5       294\n",
       "6     17435\n",
       "8     17712\n",
       "10      549\n",
       "12        2\n",
       "Name: cylinders, dtype: int64"
      ]
     },
     "execution_count": 20,
     "metadata": {},
     "output_type": "execute_result"
    }
   ],
   "source": [
    "# number of cylinders\n",
    "\n",
    "plt.subplot(1, 2, 1)\n",
    "df['cylinders'].hist()\n",
    "plt.subplot(1, 2, 2)\n",
    "df['cylinders'].plot(kind='box')\n",
    "plt.tight_layout()\n",
    "plt.show()\n",
    "\n",
    "df['cylinders'].value_counts().sort_index()\n",
    "\n",
    "# there are no outliers in the cylinders column and the values make sense"
   ]
  },
  {
   "cell_type": "code",
   "execution_count": 21,
   "metadata": {},
   "outputs": [
    {
     "data": {
      "text/plain": [
       "excellent    24773\n",
       "good         20145\n",
       "like new      4742\n",
       "fair          1607\n",
       "new            143\n",
       "salvage        115\n",
       "Name: condition, dtype: int64"
      ]
     },
     "metadata": {},
     "output_type": "display_data"
    },
    {
     "data": {
      "image/png": "[encoded data removed]",
      "text/plain": [
       "<Figure size 432x288 with 1 Axes>"
      ]
     },
     "metadata": {
      "needs_background": "light"
     },
     "output_type": "display_data"
    }
   ],
   "source": [
    "# condition\n",
    "\n",
    "display(df['condition'].value_counts())\n",
    "df[df['condition'].isin(['salvage', 'new'])]['price'].plot(kind='box')\n",
    "plt.title('Price Where Condition is Salvage or New')\n",
    "plt.show()\n",
    "\n",
    "# there is nothing out of place in the condition column"
   ]
  },
  {
   "cell_type": "markdown",
   "metadata": {},
   "source": [
    "* Determine the lower limits for outliers\n",
    "\n",
    "* With price in mind, there are no columns that have lower outliers"
   ]
  },
  {
   "cell_type": "markdown",
   "metadata": {},
   "source": [
    "* Determine the upper limits for outliers\n",
    "\n",
    "* for the car price, we can drop all rows > 75,000\n",
    "* for car age, we can drop all rows (there is just one) with car_age > 100\n",
    "* for mileage, we can drop all rows where odometer > 300,000 and price > 17,000\n",
    "* for cylinders and condition, there is no action to be taken"
   ]
  },
  {
   "cell_type": "code",
   "execution_count": 24,
   "metadata": {},
   "outputs": [
    {
     "name": "stdout",
     "output_type": "stream",
     "text": [
      "Dropped rows: 339\n",
      "(51186, 19)\n"
     ]
    },
    {
     "data": {
      "text/html": [
       "<div>\n",
       "<style scoped>\n",
       "    .dataframe tbody tr th:only-of-type {\n",
       "        vertical-align: middle;\n",
       "    }\n",
       "\n",
       "    .dataframe tbody tr th {\n",
       "        vertical-align: top;\n",
       "    }\n",
       "\n",
       "    .dataframe thead th {\n",
       "        text-align: right;\n",
       "    }\n",
       "</style>\n",
       "<table border=\"1\" class=\"dataframe\">\n",
       "  <thead>\n",
       "    <tr style=\"text-align: right;\">\n",
       "      <th></th>\n",
       "      <th>price</th>\n",
       "      <th>model_year</th>\n",
       "      <th>model</th>\n",
       "      <th>condition</th>\n",
       "      <th>cylinders</th>\n",
       "      <th>fuel</th>\n",
       "      <th>odometer</th>\n",
       "      <th>transmission</th>\n",
       "      <th>type</th>\n",
       "      <th>paint_color</th>\n",
       "      <th>is_4wd</th>\n",
       "      <th>date_posted</th>\n",
       "      <th>days_listed</th>\n",
       "      <th>car_age</th>\n",
       "      <th>mileage_per_year</th>\n",
       "      <th>condition_cat</th>\n",
       "      <th>week_posted</th>\n",
       "      <th>month_posted</th>\n",
       "      <th>year_posted</th>\n",
       "    </tr>\n",
       "  </thead>\n",
       "  <tbody>\n",
       "    <tr>\n",
       "      <td>0</td>\n",
       "      <td>9400</td>\n",
       "      <td>2011</td>\n",
       "      <td>bmw x5</td>\n",
       "      <td>good</td>\n",
       "      <td>6</td>\n",
       "      <td>gas</td>\n",
       "      <td>145000</td>\n",
       "      <td>automatic</td>\n",
       "      <td>SUV</td>\n",
       "      <td>unknown</td>\n",
       "      <td>True</td>\n",
       "      <td>2018-06-23</td>\n",
       "      <td>19</td>\n",
       "      <td>7</td>\n",
       "      <td>18125.000000</td>\n",
       "      <td>2</td>\n",
       "      <td>25</td>\n",
       "      <td>June</td>\n",
       "      <td>2018</td>\n",
       "    </tr>\n",
       "    <tr>\n",
       "      <td>1</td>\n",
       "      <td>25500</td>\n",
       "      <td>2011</td>\n",
       "      <td>ford f-150</td>\n",
       "      <td>good</td>\n",
       "      <td>6</td>\n",
       "      <td>gas</td>\n",
       "      <td>88705</td>\n",
       "      <td>automatic</td>\n",
       "      <td>pickup</td>\n",
       "      <td>white</td>\n",
       "      <td>True</td>\n",
       "      <td>2018-10-19</td>\n",
       "      <td>50</td>\n",
       "      <td>7</td>\n",
       "      <td>11088.125000</td>\n",
       "      <td>2</td>\n",
       "      <td>42</td>\n",
       "      <td>October</td>\n",
       "      <td>2018</td>\n",
       "    </tr>\n",
       "    <tr>\n",
       "      <td>2</td>\n",
       "      <td>5500</td>\n",
       "      <td>2013</td>\n",
       "      <td>hyundai sonata</td>\n",
       "      <td>like new</td>\n",
       "      <td>4</td>\n",
       "      <td>gas</td>\n",
       "      <td>110000</td>\n",
       "      <td>automatic</td>\n",
       "      <td>sedan</td>\n",
       "      <td>red</td>\n",
       "      <td>False</td>\n",
       "      <td>2019-02-07</td>\n",
       "      <td>79</td>\n",
       "      <td>6</td>\n",
       "      <td>15714.285714</td>\n",
       "      <td>4</td>\n",
       "      <td>6</td>\n",
       "      <td>February</td>\n",
       "      <td>2019</td>\n",
       "    </tr>\n",
       "  </tbody>\n",
       "</table>\n",
       "</div>"
      ],
      "text/plain": [
       "   price  model_year           model condition  cylinders fuel  odometer  \\\n",
       "0   9400        2011          bmw x5      good          6  gas    145000   \n",
       "1  25500        2011      ford f-150      good          6  gas     88705   \n",
       "2   5500        2013  hyundai sonata  like new          4  gas    110000   \n",
       "\n",
       "  transmission    type paint_color  is_4wd date_posted  days_listed  car_age  \\\n",
       "0    automatic     SUV     unknown    True  2018-06-23           19        7   \n",
       "1    automatic  pickup       white    True  2018-10-19           50        7   \n",
       "2    automatic   sedan         red   False  2019-02-07           79        6   \n",
       "\n",
       "   mileage_per_year  condition_cat  week_posted month_posted  year_posted  \n",
       "0      18125.000000              2           25         June         2018  \n",
       "1      11088.125000              2           42      October         2018  \n",
       "2      15714.285714              4            6     February         2019  "
      ]
     },
     "execution_count": 24,
     "metadata": {},
     "output_type": "execute_result"
    }
   ],
   "source": [
    "# Store data without outliers in a separate DataFrame\n",
    "\n",
    "df_clean = df[(df['price'] < 75000) & (df['car_age'] < 100) & (df['odometer'] < 300000)]\n",
    "print('Dropped rows:', df.shape[0] - df_clean.shape[0])\n",
    "print(df_clean.shape)\n",
    "df_clean.head(3)"
   ]
  },
  {
   "cell_type": "markdown",
   "metadata": {},
   "source": [
    "## Study core parameters without outliers"
   ]
  },
  {
   "cell_type": "code",
   "execution_count": 25,
   "metadata": {
    "scrolled": false
   },
   "outputs": [
    {
     "data": {
      "image/png": "[encoded data removed]",
      "text/plain": [
       "<Figure size 720x216 with 2 Axes>"
      ]
     },
     "metadata": {
      "needs_background": "light"
     },
     "output_type": "display_data"
    },
    {
     "data": {
      "image/png": "[encoded data removed]",
      "text/plain": [
       "<Figure size 720x216 with 2 Axes>"
      ]
     },
     "metadata": {
      "needs_background": "light"
     },
     "output_type": "display_data"
    },
    {
     "data": {
      "image/png": "[encoded data removed]",
      "text/plain": [
       "<Figure size 720x216 with 2 Axes>"
      ]
     },
     "metadata": {
      "needs_background": "light"
     },
     "output_type": "display_data"
    },
    {
     "data": {
      "image/png": "[encoded data removed]",
      "text/plain": [
       "<Figure size 720x216 with 2 Axes>"
      ]
     },
     "metadata": {
      "needs_background": "light"
     },
     "output_type": "display_data"
    },
    {
     "data": {
      "image/png": "[encoded data removed]",
      "text/plain": [
       "<Figure size 720x216 with 2 Axes>"
      ]
     },
     "metadata": {
      "needs_background": "light"
     },
     "output_type": "display_data"
    },
    {
     "data": {
      "image/png": "[encoded data removed]",
      "text/plain": [
       "<Figure size 720x216 with 2 Axes>"
      ]
     },
     "metadata": {
      "needs_background": "light"
     },
     "output_type": "display_data"
    },
    {
     "data": {
      "image/png": "[encoded data removed]",
      "text/plain": [
       "<Figure size 720x216 with 2 Axes>"
      ]
     },
     "metadata": {
      "needs_background": "light"
     },
     "output_type": "display_data"
    },
    {
     "data": {
      "image/png": "[encoded data removed]",
      "text/plain": [
       "<Figure size 720x216 with 2 Axes>"
      ]
     },
     "metadata": {
      "needs_background": "light"
     },
     "output_type": "display_data"
    },
    {
     "data": {
      "image/png": "[encoded data removed]",
      "text/plain": [
       "<Figure size 720x216 with 2 Axes>"
      ]
     },
     "metadata": {
      "needs_background": "light"
     },
     "output_type": "display_data"
    },
    {
     "data": {
      "image/png": "[encoded data removed]",
      "text/plain": [
       "<Figure size 720x216 with 2 Axes>"
      ]
     },
     "metadata": {
      "needs_background": "light"
     },
     "output_type": "display_data"
    }
   ],
   "source": [
    "# the data makes more sense in real-life context now that we've filtered it. Skewed, fake, or false data can distort our \n",
    "# analysis, and now that we've filtered the outliers and data that doesn't make sense, the distributions\n",
    "# of each column make more sense\n",
    "\n",
    "for i, col in enumerate(df_clean.columns):\n",
    "    if df_clean[col].dtype in [int, float]:\n",
    "        \n",
    "        plt.figure(figsize=(10,3))\n",
    "        plt.subplot(1, 2, 1)\n",
    "        df_clean[col].hist()\n",
    "        plt.title(col)\n",
    "        plt.xticks(rotation=35)\n",
    "        \n",
    "        plt.subplot(1, 2, 2)\n",
    "        df_clean[col].plot(kind='box', vert=False)\n",
    "        plt.tight_layout()\n",
    "        plt.xticks(rotation=35)\n",
    "        plt.show()"
   ]
  },
  {
   "cell_type": "code",
   "execution_count": 26,
   "metadata": {},
   "outputs": [
    {
     "data": {
      "text/html": [
       "<div>\n",
       "<style scoped>\n",
       "    .dataframe tbody tr th:only-of-type {\n",
       "        vertical-align: middle;\n",
       "    }\n",
       "\n",
       "    .dataframe tbody tr th {\n",
       "        vertical-align: top;\n",
       "    }\n",
       "\n",
       "    .dataframe thead th {\n",
       "        text-align: right;\n",
       "    }\n",
       "</style>\n",
       "<table border=\"1\" class=\"dataframe\">\n",
       "  <thead>\n",
       "    <tr style=\"text-align: right;\">\n",
       "      <th></th>\n",
       "      <th>price</th>\n",
       "      <th>model_year</th>\n",
       "      <th>model</th>\n",
       "      <th>condition</th>\n",
       "      <th>cylinders</th>\n",
       "      <th>fuel</th>\n",
       "      <th>odometer</th>\n",
       "      <th>transmission</th>\n",
       "      <th>type</th>\n",
       "      <th>paint_color</th>\n",
       "      <th>is_4wd</th>\n",
       "      <th>date_posted</th>\n",
       "      <th>days_listed</th>\n",
       "      <th>car_age</th>\n",
       "      <th>mileage_per_year</th>\n",
       "      <th>condition_cat</th>\n",
       "      <th>week_posted</th>\n",
       "      <th>month_posted</th>\n",
       "      <th>year_posted</th>\n",
       "    </tr>\n",
       "  </thead>\n",
       "  <tbody>\n",
       "    <tr>\n",
       "      <td>0</td>\n",
       "      <td>9400</td>\n",
       "      <td>2011</td>\n",
       "      <td>bmw x5</td>\n",
       "      <td>good</td>\n",
       "      <td>6</td>\n",
       "      <td>gas</td>\n",
       "      <td>145000</td>\n",
       "      <td>automatic</td>\n",
       "      <td>SUV</td>\n",
       "      <td>unknown</td>\n",
       "      <td>True</td>\n",
       "      <td>2018-06-23</td>\n",
       "      <td>19</td>\n",
       "      <td>7</td>\n",
       "      <td>18125.000</td>\n",
       "      <td>2</td>\n",
       "      <td>25</td>\n",
       "      <td>June</td>\n",
       "      <td>2018</td>\n",
       "    </tr>\n",
       "    <tr>\n",
       "      <td>1</td>\n",
       "      <td>25500</td>\n",
       "      <td>2011</td>\n",
       "      <td>ford f-150</td>\n",
       "      <td>good</td>\n",
       "      <td>6</td>\n",
       "      <td>gas</td>\n",
       "      <td>88705</td>\n",
       "      <td>automatic</td>\n",
       "      <td>pickup</td>\n",
       "      <td>white</td>\n",
       "      <td>True</td>\n",
       "      <td>2018-10-19</td>\n",
       "      <td>50</td>\n",
       "      <td>7</td>\n",
       "      <td>11088.125</td>\n",
       "      <td>2</td>\n",
       "      <td>42</td>\n",
       "      <td>October</td>\n",
       "      <td>2018</td>\n",
       "    </tr>\n",
       "  </tbody>\n",
       "</table>\n",
       "</div>"
      ],
      "text/plain": [
       "   price  model_year       model condition  cylinders fuel  odometer  \\\n",
       "0   9400        2011      bmw x5      good          6  gas    145000   \n",
       "1  25500        2011  ford f-150      good          6  gas     88705   \n",
       "\n",
       "  transmission    type paint_color  is_4wd date_posted  days_listed  car_age  \\\n",
       "0    automatic     SUV     unknown    True  2018-06-23           19        7   \n",
       "1    automatic  pickup       white    True  2018-10-19           50        7   \n",
       "\n",
       "   mileage_per_year  condition_cat  week_posted month_posted  year_posted  \n",
       "0         18125.000              2           25         June         2018  \n",
       "1         11088.125              2           42      October         2018  "
      ]
     },
     "execution_count": 26,
     "metadata": {},
     "output_type": "execute_result"
    }
   ],
   "source": [
    "df_clean.head(2)"
   ]
  },
  {
   "cell_type": "code",
   "execution_count": 27,
   "metadata": {},
   "outputs": [
    {
     "name": "stdout",
     "output_type": "stream",
     "text": [
      "Mean and Std for Days Listed\n",
      "---\n",
      "39.55618723869808 33.0\n",
      "\n",
      "Longer than 150 days listed\n",
      "---\n"
     ]
    },
    {
     "data": {
      "text/plain": [
       "ford f-150                  10\n",
       "chevrolet silverado 1500     9\n",
       "chevrolet silverado          8\n",
       "dodge grand caravan          7\n",
       "gmc sierra 1500              6\n",
       "Name: model, dtype: int64"
      ]
     },
     "metadata": {},
     "output_type": "display_data"
    },
    {
     "name": "stdout",
     "output_type": "stream",
     "text": [
      "\n",
      "Shorter than 7 days listed\n",
      "---\n"
     ]
    },
    {
     "data": {
      "text/plain": [
       "ford f-150                  136\n",
       "chevrolet silverado 1500     99\n",
       "ram 1500                     78\n",
       "honda accord                 61\n",
       "chevrolet silverado          60\n",
       "Name: model, dtype: int64"
      ]
     },
     "metadata": {},
     "output_type": "display_data"
    }
   ],
   "source": [
    "print('Mean and Std for Days Listed\\n---')\n",
    "print(df_clean['days_listed'].mean(), df_clean['days_listed'].median())\n",
    "\n",
    "# looking at the histogram for days listed, it seems like after 150 days there are very little cars that sold\n",
    "# we will use 100 and 150 for abnormally long times to sell. Since the majority of cars are sold in under 25 days, there\n",
    "# aren't any values that would be abnormally low. For this reason, we will look at cars that sold in under a week\n",
    "\n",
    "print('\\nLonger than 150 days listed\\n---')\n",
    "display(df[(df['days_listed'] > 150)]['model'].value_counts().head())\n",
    "print('\\nShorter than 7 days listed\\n---')\n",
    "display(df[(df['days_listed'] < 7)]['model'].value_counts().head())\n",
    "\n",
    "# It seems like the chevy silverado (base edition) and the toyota camry and prius were the models that were listed the\n",
    "# longest, while the ram 1500, honda accord, and  chevy silverado 2500hd were sold the quickest. \n",
    "# the chevy silverado 1500 and the ford f-150 were both sold quickly and slowly"
   ]
  },
  {
   "cell_type": "markdown",
   "metadata": {},
   "source": [
    "## Average price per each type of vehicle"
   ]
  },
  {
   "cell_type": "code",
   "execution_count": 28,
   "metadata": {},
   "outputs": [
    {
     "data": {
      "text/html": [
       "<div>\n",
       "<style scoped>\n",
       "    .dataframe tbody tr th:only-of-type {\n",
       "        vertical-align: middle;\n",
       "    }\n",
       "\n",
       "    .dataframe tbody tr th {\n",
       "        vertical-align: top;\n",
       "    }\n",
       "\n",
       "    .dataframe thead th {\n",
       "        text-align: right;\n",
       "    }\n",
       "</style>\n",
       "<table border=\"1\" class=\"dataframe\">\n",
       "  <thead>\n",
       "    <tr style=\"text-align: right;\">\n",
       "      <th></th>\n",
       "      <th>mean price</th>\n",
       "      <th>count</th>\n",
       "    </tr>\n",
       "    <tr>\n",
       "      <th>type</th>\n",
       "      <th></th>\n",
       "      <th></th>\n",
       "    </tr>\n",
       "  </thead>\n",
       "  <tbody>\n",
       "    <tr>\n",
       "      <td>SUV</td>\n",
       "      <td>11151.095600</td>\n",
       "      <td>12364</td>\n",
       "    </tr>\n",
       "    <tr>\n",
       "      <td>truck</td>\n",
       "      <td>16643.238525</td>\n",
       "      <td>12200</td>\n",
       "    </tr>\n",
       "  </tbody>\n",
       "</table>\n",
       "</div>"
      ],
      "text/plain": [
       "         mean price  count\n",
       "type                      \n",
       "SUV    11151.095600  12364\n",
       "truck  16643.238525  12200"
      ]
     },
     "metadata": {},
     "output_type": "display_data"
    },
    {
     "data": {
      "image/png": "[encoded data removed]",
      "text/plain": [
       "<Figure size 432x288 with 1 Axes>"
      ]
     },
     "metadata": {
      "needs_background": "light"
     },
     "output_type": "display_data"
    }
   ],
   "source": [
    "ads = df_clean[['type', 'price']].groupby('type').agg(['mean', 'count']).rename(columns={'mean': 'mean price'})\n",
    "ads.columns = ads.columns.droplevel()\n",
    "ads = ads.sort_values('count', ascending=False).head(2)\n",
    "display(ads)\n",
    "ads.plot(kind='bar')\n",
    "plt.show()\n",
    "\n",
    "# trucks and suv's have the highest number of ads"
   ]
  },
  {
   "cell_type": "markdown",
   "metadata": {},
   "source": [
    "## Price factors"
   ]
  },
  {
   "cell_type": "code",
   "execution_count": 29,
   "metadata": {
    "scrolled": false
   },
   "outputs": [
    {
     "data": {
      "image/png": "[encoded data removed]",
      "text/plain": [
       "<Figure size 864x360 with 2 Axes>"
      ]
     },
     "metadata": {
      "needs_background": "light"
     },
     "output_type": "display_data"
    },
    {
     "data": {
      "image/png": "[encoded data removed]",
      "text/plain": [
       "<Figure size 864x360 with 2 Axes>"
      ]
     },
     "metadata": {
      "needs_background": "light"
     },
     "output_type": "display_data"
    },
    {
     "data": {
      "image/png": "[encoded data removed]",
      "text/plain": [
       "<Figure size 864x360 with 2 Axes>"
      ]
     },
     "metadata": {
      "needs_background": "light"
     },
     "output_type": "display_data"
    },
    {
     "data": {
      "image/png": "[encoded data removed]",
      "text/plain": [
       "<Figure size 864x360 with 2 Axes>"
      ]
     },
     "metadata": {
      "needs_background": "light"
     },
     "output_type": "display_data"
    }
   ],
   "source": [
    "# we are interested in seeing how each qualitative variable interacts with price, so we are going to \n",
    "# subset our data to SUV's and trucks and see the boxplot for price for each column\n",
    "\n",
    "# df_popular = df_clean[df_clean['type'].isin(['truck', 'SUV'])]\n",
    "df_truck = df_clean[df_clean['type'] == 'truck']\n",
    "df_suv = df_clean[df_clean['type'] == 'SUV']\n",
    "\n",
    "\n",
    "# Condition\n",
    "plt.figure(figsize=(12,5))\n",
    "plt.subplot(1, 2, 1)\n",
    "sns.boxplot(x=\"condition\", y=\"price\", \n",
    "            data=df_truck, order=[x for x in df_truck.groupby('condition')['price'].median().sort_values(ascending=False).index if df_truck['condition'].value_counts()[x] >= 25])\n",
    "plt.xticks(rotation=45)\n",
    "plt.title('Truck Condition vs Price')\n",
    "\n",
    "plt.subplot(1, 2, 2)\n",
    "sns.boxplot(x=\"condition\", y=\"price\", \n",
    "            data=df_suv, order=[x for x in df_truck.groupby('condition')['price'].median().sort_values(ascending=False).index if df_truck['condition'].value_counts()[x] >= 25])\n",
    "plt.xticks(rotation=45)\n",
    "plt.title('SUV Condition vs Price')\n",
    "plt.tight_layout()\n",
    "plt.show()\n",
    "\n",
    "\n",
    "# Transmission\n",
    "plt.figure(figsize=(12,5))\n",
    "plt.subplot(1, 2, 1)\n",
    "sns.boxplot(x=\"transmission\", y=\"price\", \n",
    "            data=df_truck, order=[x for x in df_truck.groupby('transmission')['price'].median().sort_values(ascending=False).index if df_truck['transmission'].value_counts()[x] >= 25])\n",
    "plt.xticks(rotation=45)\n",
    "plt.title('Truck Transmission vs Price')\n",
    "\n",
    "plt.subplot(1, 2, 2)\n",
    "sns.boxplot(x=\"transmission\", y=\"price\", \n",
    "            data=df_suv, order=[x for x in df_truck.groupby('transmission')['price'].median().sort_values(ascending=False).index if df_truck['transmission'].value_counts()[x] >= 25])\n",
    "plt.xticks(rotation=45)\n",
    "plt.title('SUV Transmission vs Price')\n",
    "plt.tight_layout()\n",
    "plt.show()\n",
    "\n",
    "\n",
    "# Fuel\n",
    "plt.figure(figsize=(12,5))\n",
    "plt.subplot(1, 2, 1)\n",
    "sns.boxplot(x=\"fuel\", y=\"price\", \n",
    "            data=df_truck, order=[x for x in df_truck.groupby('fuel')['price'].median().sort_values(ascending=False).index if df_truck['fuel'].value_counts()[x] >= 25])\n",
    "plt.xticks(rotation=45)\n",
    "plt.title('Truck Fuel vs Price')\n",
    "\n",
    "plt.subplot(1, 2, 2)\n",
    "sns.boxplot(x=\"fuel\", y=\"price\", \n",
    "            data=df_suv, order=[x for x in df_truck.groupby('fuel')['price'].median().sort_values(ascending=False).index if df_truck['fuel'].value_counts()[x] >= 25])\n",
    "plt.xticks(rotation=45)\n",
    "plt.title('SUV Fuel vs Price')\n",
    "plt.tight_layout()\n",
    "plt.show()\n",
    "\n",
    "\n",
    "# Paint Color\n",
    "colors = {\n",
    "    c: c for c in df_suv['paint_color'].unique() if c not in ['unknown', 'custom']\n",
    "}\n",
    "colors['unknown'] = 'whitesmoke'\n",
    "colors['custom'] = 'whitesmoke'\n",
    "colors['brown'] = 'saddlebrown'\n",
    "\n",
    "plt.figure(figsize=(12,5))\n",
    "plt.subplot(1, 2, 1)\n",
    "sns.boxplot(x=\"paint_color\", y=\"price\", \n",
    "            data=df_truck, order=[x for x in df_truck.groupby('paint_color')['price'].median().sort_values(ascending=False).index if df_truck['paint_color'].value_counts()[x] >= 25],\n",
    "           palette=colors)\n",
    "plt.xticks(rotation=45)\n",
    "plt.title('Truck Paint Color vs Price')\n",
    "\n",
    "plt.subplot(1, 2, 2)\n",
    "sns.boxplot(x=\"paint_color\", y=\"price\", \n",
    "            data=df_suv, order=[x for x in df_suv.groupby('paint_color')['price'].median().sort_values(ascending=False).index if df_suv['paint_color'].value_counts()[x] >= 25],\n",
    "           palette=colors)\n",
    "plt.xticks(rotation=45)\n",
    "plt.title('SUV Paint Color vs Price')\n",
    "plt.tight_layout()\n",
    "plt.show()"
   ]
  },
  {
   "cell_type": "markdown",
   "metadata": {},
   "source": [
    "* Only the categories with more than 50 observations were kept and displayed in the boxplots\n",
    "<br><br>\n",
    "* Our findings from the plot - a comparison of SUV's and trucks:\n",
    "    * The truck condition is more strongly correlated with price than SUV condition.\n",
    "        * They follow the same category order of rising price\n",
    "    * Automatic trucks are the most expensive trucks, while manual SUV's are the most expensive SUV's\n",
    "    * Diesel is the most expensive type of car, with the gap being smaller for SUV's than trucks\n",
    "    * SUV's and trucks both have different orders of colors that are the most expensive\n",
    "        * Black, white, and grey are both in the top 5 for both types of cars"
   ]
  },
  {
   "cell_type": "code",
   "execution_count": 30,
   "metadata": {},
   "outputs": [
    {
     "data": {
      "image/png": "[encoded data removed]",
      "text/plain": [
       "<Figure size 576x936 with 4 Axes>"
      ]
     },
     "metadata": {
      "needs_background": "light"
     },
     "output_type": "display_data"
    }
   ],
   "source": [
    "import seaborn as sns\n",
    "\n",
    "plt.figure(figsize=(8, 13))\n",
    "plt.subplot(2, 1, 1)\n",
    "sns.heatmap(df_suv.corr(), annot=True, cmap='cividis', fmt='.2f')\n",
    "plt.title('Price Correlation SUV')\n",
    "plt.xticks(rotation=45)\n",
    "\n",
    "plt.subplot(2, 1, 2)\n",
    "sns.heatmap(df_truck.corr(), annot=True, cmap='cividis', fmt='.2f')\n",
    "plt.title('Price Correlation Truck')\n",
    "plt.xticks(rotation=45)\n",
    "\n",
    "plt.tight_layout()\n",
    "plt.show()"
   ]
  },
  {
   "cell_type": "markdown",
   "metadata": {},
   "source": [
    "* it seems like there is only ever a mildly positive or negative correlation between price and the other quantitative columns\n",
    "* model year and odometer/car age have the highest and lowest correlation with price, respectively, for both truck and SUV"
   ]
  },
  {
   "cell_type": "markdown",
   "metadata": {},
   "source": [
    "## General conclusion\n",
    "\n",
    "[List your important conclusions in this final section, make sure they include those that led you to the way you processed and analyzed the data. Cover the missing values, duplicates, outliers and possible reasons and solutions for problematic artifacts that you had to address. Don't forget to remove all bracketed comments before submitting your project.]"
   ]
  },
  {
   "cell_type": "markdown",
   "metadata": {},
   "source": [
    "* After loading the dataset, the most apparent thing about it was the number of values that were missing.\n",
    "* Of the original ~50,000 rows, only ~30,000 were left after we dropped the rows with missing values.\n",
    "* This wasn't a big problem, as we were able to conduct our analysis accordingly on the ~30,000 rows\n",
    "<br><br>\n",
    "* I tackled the outliers next, because examining the distributions of each of the variables showed a great number of outliers\n",
    "* The columns that were filtered:\n",
    "    * for the car price, we dropped all rows > 75,000\n",
    "    * for car age, we dropped all rows (there was just one) where the age of the car > 100\n",
    "    * for mileage, we dropped all rows where the mileage > 300,000\n",
    "* looking at the distributions after removing the outliers revealed a more compact graph that would ensure better analysis\n",
    "<br><br>\n",
    "* Next, I examined what the makeup of cars were when they sold either very quickly or slowly.\n",
    "* Looking at the model of the car, some were shown to sell the quickest and the slowest\n",
    "    * The chevy silverado (base edition) and the toyota camry and prius were the models that were sold the slowest\n",
    "    * The ram 1500, honda accord, and  chevy silverado 2500hd were sold the quickest. \n",
    "    * the chevy silverado 1500 and the ford f-150 were both sold quickly and slowly\n",
    "<br><br>\n",
    "* The last step was drilling down and seeing the exact interaction between each variable and the price, \n",
    "* since we are interested in seeing which factors influence the price of a vehicle.\n",
    "* The truck and the SUV were the most popular type of cars, so we subsetted our data to analyze on these types of cars\n",
    "* In summary, our findings from the plots - in each of the categories, these labels move positively with the prices:\n",
    "    * condition: like new has the highest median price\n",
    "    * transmission: automatic has the highest price, but not by a lot\n",
    "    * fuel: diesel cars are significantly more expensive than gas cars\n",
    "    * color: there isn't one particular color that is more expensive than the rest\n",
    "* with regards to the numerical categories, there was only ever a mildly positive or negative correlation \n",
    "* between price and the other quantitative columns.\n",
    "* model year and odometer have the highest and lowest correlation with price, respectively\n",
    "<br><br>\n",
    "* Overall, we could have made a stronger prediction of price if we had more attributes related to cars. \n",
    "* With the data we did have, there seemed to be the strongest association \n",
    "* between (\"like-new condition\", \"diesel fuel\", \"SUV and truck types\", \"year of the car\", \"odometer\") and the price of the car"
   ]
  },
  {
   "cell_type": "code",
   "execution_count": null,
   "metadata": {},
   "outputs": [],
   "source": []
  }
 ],
 "metadata": {
  "ExecuteTimeLog": [
   {
    "duration": 828,
    "start_time": "2021-11-16T09:21:11.304Z"
   },
   {
    "duration": 893,
    "start_time": "2021-11-16T09:21:17.728Z"
   },
   {
    "duration": 1150,
    "start_time": "2021-11-16T09:21:29.568Z"
   },
   {
    "duration": 3,
    "start_time": "2021-11-16T09:24:14.495Z"
   },
   {
    "duration": 120,
    "start_time": "2021-11-16T09:24:46.630Z"
   },
   {
    "duration": 3,
    "start_time": "2021-11-16T09:28:27.882Z"
   },
   {
    "duration": 4,
    "start_time": "2021-11-16T09:29:54.281Z"
   },
   {
    "duration": 3,
    "start_time": "2021-11-16T09:30:45.936Z"
   },
   {
    "duration": 4,
    "start_time": "2021-11-16T09:31:06.300Z"
   },
   {
    "duration": 113,
    "start_time": "2021-11-16T09:31:37.208Z"
   },
   {
    "duration": 143,
    "start_time": "2021-11-16T09:31:48.656Z"
   },
   {
    "duration": 98,
    "start_time": "2021-11-16T09:31:55.678Z"
   },
   {
    "duration": 3,
    "start_time": "2021-11-16T09:32:08.535Z"
   },
   {
    "duration": 111,
    "start_time": "2021-11-16T09:32:10.120Z"
   },
   {
    "duration": 3,
    "start_time": "2021-11-16T09:32:15.732Z"
   },
   {
    "duration": 4,
    "start_time": "2021-11-16T09:32:29.423Z"
   },
   {
    "duration": 3,
    "start_time": "2021-11-16T10:03:03.074Z"
   },
   {
    "duration": 3,
    "start_time": "2021-11-16T10:10:01.288Z"
   },
   {
    "duration": 3,
    "start_time": "2021-11-16T10:10:46.923Z"
   },
   {
    "duration": 121,
    "start_time": "2021-11-16T10:37:46.494Z"
   },
   {
    "duration": 125,
    "start_time": "2021-11-16T10:38:20.632Z"
   },
   {
    "duration": 112,
    "start_time": "2021-11-16T10:46:53.001Z"
   },
   {
    "duration": 110,
    "start_time": "2021-11-16T10:48:25.775Z"
   },
   {
    "duration": 3,
    "start_time": "2021-11-16T10:50:18.720Z"
   },
   {
    "duration": 4,
    "start_time": "2021-11-16T10:50:37.649Z"
   },
   {
    "duration": 2,
    "start_time": "2021-11-16T10:50:51.884Z"
   },
   {
    "duration": 3,
    "start_time": "2021-11-16T10:51:56.237Z"
   },
   {
    "duration": 101,
    "start_time": "2021-11-16T10:53:13.791Z"
   },
   {
    "duration": 3,
    "start_time": "2021-11-16T10:55:59.186Z"
   },
   {
    "duration": 3,
    "start_time": "2021-11-16T10:56:10.751Z"
   },
   {
    "duration": 3,
    "start_time": "2021-11-16T10:56:49.038Z"
   },
   {
    "duration": 3,
    "start_time": "2021-11-16T10:56:49.174Z"
   },
   {
    "duration": 4,
    "start_time": "2021-11-16T10:56:49.414Z"
   },
   {
    "duration": 3,
    "start_time": "2021-11-16T10:56:49.680Z"
   },
   {
    "duration": 3,
    "start_time": "2021-11-16T10:56:50.370Z"
   },
   {
    "duration": 114,
    "start_time": "2021-11-16T10:59:34.518Z"
   },
   {
    "duration": 3,
    "start_time": "2021-11-16T11:01:41.201Z"
   },
   {
    "duration": 116,
    "start_time": "2021-11-16T11:01:48.754Z"
   },
   {
    "duration": 3,
    "start_time": "2021-11-16T11:02:16.685Z"
   },
   {
    "duration": 3,
    "start_time": "2021-11-16T11:02:19.479Z"
   },
   {
    "duration": 3,
    "start_time": "2021-11-16T11:02:47.067Z"
   },
   {
    "duration": 3,
    "start_time": "2021-11-16T11:02:49.353Z"
   },
   {
    "duration": 3,
    "start_time": "2021-11-16T11:03:07.835Z"
   },
   {
    "duration": 3,
    "start_time": "2021-11-16T11:03:07.953Z"
   },
   {
    "duration": 112,
    "start_time": "2021-11-16T11:07:52.072Z"
   },
   {
    "duration": 187,
    "start_time": "2021-11-16T11:09:23.468Z"
   },
   {
    "duration": 4,
    "start_time": "2021-11-16T11:10:01.455Z"
   },
   {
    "duration": 3,
    "start_time": "2021-11-16T11:10:05.069Z"
   },
   {
    "duration": 4,
    "start_time": "2021-11-16T11:10:13.376Z"
   },
   {
    "duration": 3,
    "start_time": "2021-11-16T11:10:14.434Z"
   },
   {
    "duration": 3,
    "start_time": "2021-11-16T11:10:22.853Z"
   },
   {
    "duration": 4,
    "start_time": "2021-11-16T11:27:29.279Z"
   },
   {
    "duration": 4,
    "start_time": "2021-11-16T11:29:08.919Z"
   },
   {
    "duration": 118,
    "start_time": "2021-11-16T11:29:46.703Z"
   },
   {
    "duration": 437,
    "start_time": "2021-11-16T11:36:02.181Z"
   },
   {
    "duration": 157,
    "start_time": "2021-11-16T11:36:14.388Z"
   },
   {
    "duration": 207,
    "start_time": "2021-11-16T11:47:15.898Z"
   },
   {
    "duration": 3,
    "start_time": "2021-11-16T11:53:52.092Z"
   },
   {
    "duration": 3,
    "start_time": "2021-11-16T11:53:52.236Z"
   },
   {
    "duration": 3,
    "start_time": "2021-11-16T11:59:12.005Z"
   },
   {
    "duration": 112,
    "start_time": "2021-11-16T12:00:33.446Z"
   },
   {
    "duration": 3,
    "start_time": "2021-11-16T12:02:14.453Z"
   },
   {
    "duration": 3,
    "start_time": "2021-11-16T12:02:39.512Z"
   },
   {
    "duration": 106,
    "start_time": "2021-11-16T12:03:03.460Z"
   },
   {
    "duration": 852,
    "start_time": "2022-02-19T19:37:34.368Z"
   },
   {
    "duration": 452,
    "start_time": "2022-02-20T03:30:24.801Z"
   },
   {
    "duration": 376,
    "start_time": "2022-02-20T03:30:50.037Z"
   },
   {
    "duration": 137,
    "start_time": "2022-02-20T03:33:48.237Z"
   },
   {
    "duration": 126,
    "start_time": "2022-02-20T03:33:57.784Z"
   },
   {
    "duration": 26,
    "start_time": "2022-02-20T03:36:23.256Z"
   },
   {
    "duration": 53,
    "start_time": "2022-02-20T03:36:47.686Z"
   },
   {
    "duration": 778,
    "start_time": "2022-02-20T17:59:13.576Z"
   },
   {
    "duration": 103,
    "start_time": "2022-02-20T17:59:16.990Z"
   },
   {
    "duration": 24,
    "start_time": "2022-02-20T17:59:25.680Z"
   },
   {
    "duration": 2,
    "start_time": "2022-02-20T18:02:55.674Z"
   },
   {
    "duration": 329,
    "start_time": "2022-02-20T18:03:12.388Z"
   },
   {
    "duration": 263,
    "start_time": "2022-02-20T18:03:51.188Z"
   },
   {
    "duration": 105,
    "start_time": "2022-02-20T18:03:54.800Z"
   },
   {
    "duration": 3,
    "start_time": "2022-02-20T18:11:07.889Z"
   },
   {
    "duration": 2,
    "start_time": "2022-02-20T18:11:10.665Z"
   },
   {
    "duration": 3,
    "start_time": "2022-02-20T18:11:11.535Z"
   },
   {
    "duration": 3,
    "start_time": "2022-02-20T18:15:30.354Z"
   },
   {
    "duration": 26,
    "start_time": "2022-02-20T18:16:01.933Z"
   },
   {
    "duration": 41,
    "start_time": "2022-02-20T18:16:39.100Z"
   },
   {
    "duration": 52,
    "start_time": "2022-02-20T18:17:18.232Z"
   },
   {
    "duration": 3,
    "start_time": "2022-02-20T18:17:22.526Z"
   },
   {
    "duration": 141,
    "start_time": "2022-02-20T18:17:22.533Z"
   },
   {
    "duration": 22,
    "start_time": "2022-02-20T18:17:22.676Z"
   },
   {
    "duration": 107,
    "start_time": "2022-02-20T18:17:22.701Z"
   },
   {
    "duration": 3,
    "start_time": "2022-02-20T18:17:22.810Z"
   },
   {
    "duration": 25,
    "start_time": "2022-02-20T18:17:22.815Z"
   },
   {
    "duration": 21,
    "start_time": "2022-02-20T18:17:22.841Z"
   },
   {
    "duration": 10,
    "start_time": "2022-02-20T18:17:22.864Z"
   },
   {
    "duration": 74,
    "start_time": "2022-02-20T18:17:22.877Z"
   },
   {
    "duration": 3,
    "start_time": "2022-02-20T18:17:22.953Z"
   },
   {
    "duration": 8,
    "start_time": "2022-02-20T18:17:22.957Z"
   },
   {
    "duration": 7,
    "start_time": "2022-02-20T18:17:22.969Z"
   },
   {
    "duration": 8,
    "start_time": "2022-02-20T18:17:22.978Z"
   },
   {
    "duration": 13,
    "start_time": "2022-02-20T18:17:22.988Z"
   },
   {
    "duration": 8,
    "start_time": "2022-02-20T18:17:23.003Z"
   },
   {
    "duration": 6,
    "start_time": "2022-02-20T18:17:23.013Z"
   },
   {
    "duration": 12,
    "start_time": "2022-02-20T18:17:23.020Z"
   },
   {
    "duration": 14,
    "start_time": "2022-02-20T18:17:23.034Z"
   },
   {
    "duration": 8,
    "start_time": "2022-02-20T18:17:23.050Z"
   },
   {
    "duration": 21,
    "start_time": "2022-02-20T18:17:23.059Z"
   },
   {
    "duration": 11,
    "start_time": "2022-02-20T18:17:23.082Z"
   },
   {
    "duration": 18,
    "start_time": "2022-02-20T18:17:23.095Z"
   },
   {
    "duration": 19,
    "start_time": "2022-02-20T18:17:23.115Z"
   },
   {
    "duration": 13,
    "start_time": "2022-02-20T18:17:23.137Z"
   },
   {
    "duration": 3,
    "start_time": "2022-02-20T18:20:29.010Z"
   },
   {
    "duration": 35,
    "start_time": "2022-02-20T18:22:10.992Z"
   },
   {
    "duration": 2,
    "start_time": "2022-02-20T18:22:48.083Z"
   },
   {
    "duration": 8,
    "start_time": "2022-02-20T18:23:28.305Z"
   },
   {
    "duration": 94,
    "start_time": "2022-02-20T18:24:29.403Z"
   },
   {
    "duration": 4,
    "start_time": "2022-02-20T18:24:33.000Z"
   },
   {
    "duration": 25,
    "start_time": "2022-02-20T18:24:42.993Z"
   },
   {
    "duration": 7,
    "start_time": "2022-02-20T18:25:07.733Z"
   },
   {
    "duration": 4,
    "start_time": "2022-02-20T18:25:08.254Z"
   },
   {
    "duration": 26,
    "start_time": "2022-02-20T18:25:08.795Z"
   },
   {
    "duration": 3,
    "start_time": "2022-02-20T18:25:16.873Z"
   },
   {
    "duration": 113,
    "start_time": "2022-02-20T18:25:16.881Z"
   },
   {
    "duration": 24,
    "start_time": "2022-02-20T18:25:16.996Z"
   },
   {
    "duration": 122,
    "start_time": "2022-02-20T18:25:17.022Z"
   },
   {
    "duration": 3,
    "start_time": "2022-02-20T18:25:17.147Z"
   },
   {
    "duration": 17,
    "start_time": "2022-02-20T18:25:17.152Z"
   },
   {
    "duration": 3,
    "start_time": "2022-02-20T18:25:17.172Z"
   },
   {
    "duration": 6,
    "start_time": "2022-02-20T18:25:17.177Z"
   },
   {
    "duration": 88,
    "start_time": "2022-02-20T18:25:17.186Z"
   },
   {
    "duration": 34,
    "start_time": "2022-02-20T18:25:17.277Z"
   },
   {
    "duration": 2,
    "start_time": "2022-02-20T18:25:17.314Z"
   },
   {
    "duration": 12,
    "start_time": "2022-02-20T18:25:17.318Z"
   },
   {
    "duration": 5,
    "start_time": "2022-02-20T18:25:17.332Z"
   },
   {
    "duration": 57,
    "start_time": "2022-02-20T18:25:17.339Z"
   },
   {
    "duration": 3,
    "start_time": "2022-02-20T18:25:17.399Z"
   },
   {
    "duration": 7,
    "start_time": "2022-02-20T18:25:17.404Z"
   },
   {
    "duration": 8,
    "start_time": "2022-02-20T18:25:17.413Z"
   },
   {
    "duration": 8,
    "start_time": "2022-02-20T18:25:17.423Z"
   },
   {
    "duration": 6,
    "start_time": "2022-02-20T18:25:17.433Z"
   },
   {
    "duration": 7,
    "start_time": "2022-02-20T18:25:17.441Z"
   },
   {
    "duration": 3,
    "start_time": "2022-02-20T18:25:17.470Z"
   },
   {
    "duration": 9,
    "start_time": "2022-02-20T18:25:17.476Z"
   },
   {
    "duration": 9,
    "start_time": "2022-02-20T18:25:17.489Z"
   },
   {
    "duration": 8,
    "start_time": "2022-02-20T18:25:17.501Z"
   },
   {
    "duration": 6,
    "start_time": "2022-02-20T18:25:17.512Z"
   },
   {
    "duration": 26,
    "start_time": "2022-02-20T18:29:47.794Z"
   },
   {
    "duration": 17,
    "start_time": "2022-02-20T18:29:54.756Z"
   },
   {
    "duration": 78,
    "start_time": "2022-02-20T18:30:05.447Z"
   },
   {
    "duration": 227,
    "start_time": "2022-02-20T18:31:25.880Z"
   },
   {
    "duration": 334,
    "start_time": "2022-02-20T18:31:39.772Z"
   },
   {
    "duration": 258,
    "start_time": "2022-02-20T18:31:48.899Z"
   },
   {
    "duration": 166,
    "start_time": "2022-02-20T18:31:54.475Z"
   },
   {
    "duration": 153,
    "start_time": "2022-02-20T18:34:16.580Z"
   },
   {
    "duration": 279,
    "start_time": "2022-02-20T18:34:31.355Z"
   },
   {
    "duration": 85,
    "start_time": "2022-02-20T18:34:34.717Z"
   },
   {
    "duration": 204,
    "start_time": "2022-02-20T18:34:37.185Z"
   },
   {
    "duration": 168,
    "start_time": "2022-02-20T18:37:45.843Z"
   },
   {
    "duration": 288,
    "start_time": "2022-02-20T18:37:53.303Z"
   },
   {
    "duration": 162,
    "start_time": "2022-02-20T18:37:59.678Z"
   },
   {
    "duration": 155,
    "start_time": "2022-02-20T18:38:04.818Z"
   },
   {
    "duration": 6,
    "start_time": "2022-02-20T18:38:20.378Z"
   },
   {
    "duration": 276,
    "start_time": "2022-02-20T18:38:55.405Z"
   },
   {
    "duration": 161,
    "start_time": "2022-02-20T18:39:17.824Z"
   },
   {
    "duration": 5,
    "start_time": "2022-02-20T20:55:31.652Z"
   },
   {
    "duration": 217,
    "start_time": "2022-02-20T20:55:35.789Z"
   },
   {
    "duration": 265,
    "start_time": "2022-02-20T20:56:00.174Z"
   },
   {
    "duration": 346,
    "start_time": "2022-02-20T20:56:04.692Z"
   },
   {
    "duration": 87,
    "start_time": "2022-02-20T20:56:51.006Z"
   },
   {
    "duration": 342,
    "start_time": "2022-02-20T20:56:53.990Z"
   },
   {
    "duration": 625,
    "start_time": "2022-02-20T20:57:09.187Z"
   },
   {
    "duration": 331,
    "start_time": "2022-02-20T20:57:17.170Z"
   },
   {
    "duration": 564,
    "start_time": "2022-02-20T20:57:25.619Z"
   },
   {
    "duration": 268,
    "start_time": "2022-02-20T20:57:35.948Z"
   },
   {
    "duration": 274,
    "start_time": "2022-02-20T20:57:48.629Z"
   },
   {
    "duration": 286,
    "start_time": "2022-02-20T20:58:17.961Z"
   },
   {
    "duration": 198,
    "start_time": "2022-02-20T20:58:27.217Z"
   },
   {
    "duration": 362,
    "start_time": "2022-02-20T20:58:32.794Z"
   },
   {
    "duration": 343,
    "start_time": "2022-02-20T20:58:42.453Z"
   },
   {
    "duration": 161,
    "start_time": "2022-02-20T20:58:55.284Z"
   },
   {
    "duration": 159,
    "start_time": "2022-02-20T20:59:21.474Z"
   },
   {
    "duration": 340,
    "start_time": "2022-02-20T20:59:27.591Z"
   },
   {
    "duration": 332,
    "start_time": "2022-02-20T20:59:37.881Z"
   },
   {
    "duration": 341,
    "start_time": "2022-02-20T20:59:45.235Z"
   },
   {
    "duration": 493,
    "start_time": "2022-02-20T21:01:28.200Z"
   },
   {
    "duration": 359,
    "start_time": "2022-02-20T21:01:40.858Z"
   },
   {
    "duration": 357,
    "start_time": "2022-02-20T21:01:44.180Z"
   },
   {
    "duration": 332,
    "start_time": "2022-02-20T21:01:50.036Z"
   },
   {
    "duration": 403,
    "start_time": "2022-02-20T21:01:52.107Z"
   },
   {
    "duration": 481,
    "start_time": "2022-02-20T21:01:59.017Z"
   },
   {
    "duration": 280,
    "start_time": "2022-02-20T21:04:49.201Z"
   },
   {
    "duration": 6563,
    "start_time": "2022-02-20T21:05:10.164Z"
   },
   {
    "duration": 4237,
    "start_time": "2022-02-20T21:05:58.465Z"
   },
   {
    "duration": 5142,
    "start_time": "2022-02-20T21:06:24.724Z"
   },
   {
    "duration": 22342,
    "start_time": "2022-02-20T21:06:54.682Z"
   },
   {
    "duration": 476,
    "start_time": "2022-02-20T21:07:35.135Z"
   },
   {
    "duration": 480,
    "start_time": "2022-02-20T21:08:21.546Z"
   },
   {
    "duration": 475,
    "start_time": "2022-02-20T21:08:47.486Z"
   },
   {
    "duration": 478,
    "start_time": "2022-02-20T21:08:51.585Z"
   },
   {
    "duration": 511,
    "start_time": "2022-02-20T21:09:32.026Z"
   },
   {
    "duration": 512,
    "start_time": "2022-02-20T21:11:23.923Z"
   },
   {
    "duration": 518,
    "start_time": "2022-02-20T21:11:35.313Z"
   },
   {
    "duration": 536,
    "start_time": "2022-02-20T21:12:00.364Z"
   },
   {
    "duration": 534,
    "start_time": "2022-02-20T21:12:16.758Z"
   },
   {
    "duration": 526,
    "start_time": "2022-02-20T21:12:34.521Z"
   },
   {
    "duration": 565,
    "start_time": "2022-02-20T21:14:14.967Z"
   },
   {
    "duration": 515,
    "start_time": "2022-02-20T21:14:21.824Z"
   },
   {
    "duration": 541,
    "start_time": "2022-02-20T21:14:48.185Z"
   },
   {
    "duration": 503,
    "start_time": "2022-02-20T21:18:38.342Z"
   },
   {
    "duration": 540,
    "start_time": "2022-02-20T21:18:45.558Z"
   },
   {
    "duration": 529,
    "start_time": "2022-02-20T21:19:11.249Z"
   },
   {
    "duration": 525,
    "start_time": "2022-02-20T21:19:40.280Z"
   },
   {
    "duration": 522,
    "start_time": "2022-02-20T21:19:51.781Z"
   },
   {
    "duration": 508,
    "start_time": "2022-02-20T21:20:29.210Z"
   },
   {
    "duration": 505,
    "start_time": "2022-02-20T21:22:00.805Z"
   },
   {
    "duration": 495,
    "start_time": "2022-02-20T21:23:13.803Z"
   },
   {
    "duration": 502,
    "start_time": "2022-02-20T21:23:47.872Z"
   },
   {
    "duration": 520,
    "start_time": "2022-02-20T21:24:08.500Z"
   },
   {
    "duration": 516,
    "start_time": "2022-02-20T21:24:15.553Z"
   },
   {
    "duration": 498,
    "start_time": "2022-02-20T21:24:26.142Z"
   },
   {
    "duration": 484,
    "start_time": "2022-02-20T21:24:55.316Z"
   },
   {
    "duration": 483,
    "start_time": "2022-02-20T21:24:58.021Z"
   },
   {
    "duration": 505,
    "start_time": "2022-02-20T21:25:02.339Z"
   },
   {
    "duration": 129,
    "start_time": "2022-02-20T21:25:25.357Z"
   },
   {
    "duration": 762,
    "start_time": "2022-02-20T21:25:28.357Z"
   },
   {
    "duration": 1090,
    "start_time": "2022-02-20T21:25:35.224Z"
   },
   {
    "duration": 531,
    "start_time": "2022-02-20T21:25:44.375Z"
   },
   {
    "duration": 614,
    "start_time": "2022-02-20T21:25:54.119Z"
   },
   {
    "duration": 647,
    "start_time": "2022-02-20T21:26:20.588Z"
   },
   {
    "duration": 654,
    "start_time": "2022-02-20T21:26:47.891Z"
   },
   {
    "duration": 87,
    "start_time": "2022-02-20T21:27:51.480Z"
   },
   {
    "duration": 648,
    "start_time": "2022-02-20T21:27:54.095Z"
   },
   {
    "duration": 640,
    "start_time": "2022-02-20T21:28:16.113Z"
   },
   {
    "duration": 629,
    "start_time": "2022-02-20T21:28:21.642Z"
   },
   {
    "duration": 666,
    "start_time": "2022-02-20T21:28:46.269Z"
   },
   {
    "duration": 620,
    "start_time": "2022-02-20T21:28:56.542Z"
   },
   {
    "duration": 642,
    "start_time": "2022-02-20T21:29:13.009Z"
   },
   {
    "duration": 637,
    "start_time": "2022-02-20T21:30:28.907Z"
   },
   {
    "duration": 620,
    "start_time": "2022-02-20T21:31:32.642Z"
   },
   {
    "duration": 482,
    "start_time": "2022-02-20T21:32:01.412Z"
   },
   {
    "duration": 500,
    "start_time": "2022-02-20T21:32:08.373Z"
   },
   {
    "duration": 498,
    "start_time": "2022-02-20T21:32:23.873Z"
   },
   {
    "duration": 495,
    "start_time": "2022-02-20T21:32:49.762Z"
   },
   {
    "duration": 14029,
    "start_time": "2022-02-20T21:34:33.700Z"
   },
   {
    "duration": 489,
    "start_time": "2022-02-20T21:34:58.588Z"
   },
   {
    "duration": 686,
    "start_time": "2022-02-20T21:35:33.516Z"
   },
   {
    "duration": 105,
    "start_time": "2022-02-20T21:35:34.204Z"
   },
   {
    "duration": 20,
    "start_time": "2022-02-20T21:35:34.311Z"
   },
   {
    "duration": 92,
    "start_time": "2022-02-20T21:35:34.333Z"
   },
   {
    "duration": 3,
    "start_time": "2022-02-20T21:35:34.426Z"
   },
   {
    "duration": 5,
    "start_time": "2022-02-20T21:35:34.430Z"
   },
   {
    "duration": 7,
    "start_time": "2022-02-20T21:35:34.436Z"
   },
   {
    "duration": 5,
    "start_time": "2022-02-20T21:35:34.444Z"
   },
   {
    "duration": 63,
    "start_time": "2022-02-20T21:35:34.452Z"
   },
   {
    "duration": 31,
    "start_time": "2022-02-20T21:35:34.517Z"
   },
   {
    "duration": 2,
    "start_time": "2022-02-20T21:35:34.550Z"
   },
   {
    "duration": 12,
    "start_time": "2022-02-20T21:35:34.554Z"
   },
   {
    "duration": 3,
    "start_time": "2022-02-20T21:35:34.568Z"
   },
   {
    "duration": 25,
    "start_time": "2022-02-20T21:35:34.573Z"
   },
   {
    "duration": 16,
    "start_time": "2022-02-20T21:35:34.600Z"
   },
   {
    "duration": 79,
    "start_time": "2022-02-20T21:35:34.617Z"
   },
   {
    "duration": 539,
    "start_time": "2022-02-20T21:35:34.698Z"
   },
   {
    "duration": 500,
    "start_time": "2022-02-20T21:35:35.239Z"
   },
   {
    "duration": 803,
    "start_time": "2022-02-20T21:35:35.741Z"
   },
   {
    "duration": 480,
    "start_time": "2022-02-20T21:35:36.545Z"
   },
   {
    "duration": 971,
    "start_time": "2022-02-20T21:36:10.043Z"
   },
   {
    "duration": 114,
    "start_time": "2022-02-20T21:36:11.016Z"
   },
   {
    "duration": 23,
    "start_time": "2022-02-20T21:36:11.133Z"
   },
   {
    "duration": 109,
    "start_time": "2022-02-20T21:36:11.169Z"
   },
   {
    "duration": 2,
    "start_time": "2022-02-20T21:36:11.281Z"
   },
   {
    "duration": 8,
    "start_time": "2022-02-20T21:36:11.284Z"
   },
   {
    "duration": 6,
    "start_time": "2022-02-20T21:36:11.294Z"
   },
   {
    "duration": 6,
    "start_time": "2022-02-20T21:36:11.301Z"
   },
   {
    "duration": 85,
    "start_time": "2022-02-20T21:36:11.310Z"
   },
   {
    "duration": 31,
    "start_time": "2022-02-20T21:36:11.397Z"
   },
   {
    "duration": 2,
    "start_time": "2022-02-20T21:36:11.429Z"
   },
   {
    "duration": 11,
    "start_time": "2022-02-20T21:36:11.433Z"
   },
   {
    "duration": 25,
    "start_time": "2022-02-20T21:36:11.445Z"
   },
   {
    "duration": 25,
    "start_time": "2022-02-20T21:36:11.472Z"
   },
   {
    "duration": 17,
    "start_time": "2022-02-20T21:36:11.499Z"
   },
   {
    "duration": 104,
    "start_time": "2022-02-20T21:36:11.518Z"
   },
   {
    "duration": 548,
    "start_time": "2022-02-20T21:36:11.624Z"
   },
   {
    "duration": 527,
    "start_time": "2022-02-20T21:36:12.173Z"
   },
   {
    "duration": 698,
    "start_time": "2022-02-20T21:36:12.702Z"
   },
   {
    "duration": 495,
    "start_time": "2022-02-20T21:36:13.402Z"
   },
   {
    "duration": 15,
    "start_time": "2022-02-20T21:36:13.898Z"
   },
   {
    "duration": 35522,
    "start_time": "2022-02-20T21:36:13.914Z"
   },
   {
    "duration": -1087,
    "start_time": "2022-02-20T21:36:50.525Z"
   },
   {
    "duration": -1088,
    "start_time": "2022-02-20T21:36:50.527Z"
   },
   {
    "duration": -1092,
    "start_time": "2022-02-20T21:36:50.532Z"
   },
   {
    "duration": 10,
    "start_time": "2022-02-20T21:36:50.132Z"
   },
   {
    "duration": 263,
    "start_time": "2022-02-20T21:36:52.580Z"
   },
   {
    "duration": 8,
    "start_time": "2022-02-20T21:36:55.460Z"
   },
   {
    "duration": 9,
    "start_time": "2022-02-20T21:37:02.343Z"
   },
   {
    "duration": 28,
    "start_time": "2022-02-20T21:37:48.499Z"
   },
   {
    "duration": 177,
    "start_time": "2022-02-20T21:37:58.140Z"
   },
   {
    "duration": 187,
    "start_time": "2022-02-20T21:38:29.136Z"
   },
   {
    "duration": 173,
    "start_time": "2022-02-20T21:38:42.962Z"
   },
   {
    "duration": 2,
    "start_time": "2022-02-20T21:39:40.291Z"
   },
   {
    "duration": 2,
    "start_time": "2022-02-20T21:43:16.476Z"
   },
   {
    "duration": 11,
    "start_time": "2022-02-20T21:44:49.491Z"
   },
   {
    "duration": 33,
    "start_time": "2022-02-20T21:45:01.296Z"
   },
   {
    "duration": 14,
    "start_time": "2022-02-20T21:45:11.905Z"
   },
   {
    "duration": 14,
    "start_time": "2022-02-20T21:45:21.996Z"
   },
   {
    "duration": 24,
    "start_time": "2022-02-20T21:46:09.854Z"
   },
   {
    "duration": 239,
    "start_time": "2022-02-20T21:46:19.977Z"
   },
   {
    "duration": 23,
    "start_time": "2022-02-20T21:46:35.710Z"
   },
   {
    "duration": -856,
    "start_time": "2022-02-20T21:49:27.693Z"
   },
   {
    "duration": 5,
    "start_time": "2022-02-20T21:49:28.974Z"
   },
   {
    "duration": 5,
    "start_time": "2022-02-20T21:49:34.231Z"
   },
   {
    "duration": 5,
    "start_time": "2022-02-20T21:49:38.619Z"
   },
   {
    "duration": 6277,
    "start_time": "2022-02-20T21:50:10.406Z"
   },
   {
    "duration": 4118,
    "start_time": "2022-02-20T21:50:22.735Z"
   },
   {
    "duration": 244,
    "start_time": "2022-02-20T21:50:56.189Z"
   },
   {
    "duration": 680,
    "start_time": "2022-02-20T21:51:03.329Z"
   },
   {
    "duration": 4,
    "start_time": "2022-02-20T21:52:42.200Z"
   },
   {
    "duration": 682,
    "start_time": "2022-02-20T21:52:49.236Z"
   },
   {
    "duration": 112,
    "start_time": "2022-02-20T21:52:49.920Z"
   },
   {
    "duration": 22,
    "start_time": "2022-02-20T21:52:50.034Z"
   },
   {
    "duration": 112,
    "start_time": "2022-02-20T21:52:50.058Z"
   },
   {
    "duration": 2,
    "start_time": "2022-02-20T21:52:50.172Z"
   },
   {
    "duration": 11,
    "start_time": "2022-02-20T21:52:50.176Z"
   },
   {
    "duration": 5,
    "start_time": "2022-02-20T21:52:50.188Z"
   },
   {
    "duration": 11,
    "start_time": "2022-02-20T21:52:50.194Z"
   },
   {
    "duration": 78,
    "start_time": "2022-02-20T21:52:50.208Z"
   },
   {
    "duration": 34,
    "start_time": "2022-02-20T21:52:50.289Z"
   },
   {
    "duration": 2,
    "start_time": "2022-02-20T21:52:50.325Z"
   },
   {
    "duration": 22,
    "start_time": "2022-02-20T21:52:50.329Z"
   },
   {
    "duration": 16,
    "start_time": "2022-02-20T21:52:50.353Z"
   },
   {
    "duration": 34,
    "start_time": "2022-02-20T21:52:50.371Z"
   },
   {
    "duration": 16,
    "start_time": "2022-02-20T21:52:50.406Z"
   },
   {
    "duration": 91,
    "start_time": "2022-02-20T21:52:50.424Z"
   },
   {
    "duration": 553,
    "start_time": "2022-02-20T21:52:50.517Z"
   },
   {
    "duration": 522,
    "start_time": "2022-02-20T21:52:51.072Z"
   },
   {
    "duration": 743,
    "start_time": "2022-02-20T21:52:51.595Z"
   },
   {
    "duration": 471,
    "start_time": "2022-02-20T21:52:52.340Z"
   },
   {
    "duration": 185,
    "start_time": "2022-02-20T21:52:52.812Z"
   },
   {
    "duration": 2,
    "start_time": "2022-02-20T21:52:52.999Z"
   },
   {
    "duration": 13,
    "start_time": "2022-02-20T21:52:53.003Z"
   },
   {
    "duration": 28,
    "start_time": "2022-02-20T21:52:53.018Z"
   },
   {
    "duration": 225,
    "start_time": "2022-02-20T21:52:53.048Z"
   },
   {
    "duration": 4001,
    "start_time": "2022-02-20T21:52:53.275Z"
   },
   {
    "duration": 4072,
    "start_time": "2022-02-20T21:53:13.773Z"
   },
   {
    "duration": 224,
    "start_time": "2022-02-20T21:53:17.847Z"
   },
   {
    "duration": 225,
    "start_time": "2022-02-20T21:54:04.713Z"
   },
   {
    "duration": 22,
    "start_time": "2022-02-20T21:54:27.563Z"
   },
   {
    "duration": 212,
    "start_time": "2022-02-20T21:54:30.406Z"
   },
   {
    "duration": 4016,
    "start_time": "2022-02-20T21:54:31.373Z"
   },
   {
    "duration": 23,
    "start_time": "2022-02-20T21:55:47.806Z"
   },
   {
    "duration": 6154,
    "start_time": "2022-02-20T21:56:10.757Z"
   },
   {
    "duration": 3511,
    "start_time": "2022-02-20T21:56:19.003Z"
   },
   {
    "duration": 3256,
    "start_time": "2022-02-20T21:56:53.615Z"
   },
   {
    "duration": 4389,
    "start_time": "2022-02-20T21:57:00.080Z"
   },
   {
    "duration": 3975,
    "start_time": "2022-02-20T21:57:13.007Z"
   },
   {
    "duration": 3949,
    "start_time": "2022-02-20T21:57:20.754Z"
   },
   {
    "duration": 4103,
    "start_time": "2022-02-20T21:59:12.223Z"
   },
   {
    "duration": 216,
    "start_time": "2022-02-20T22:02:25.581Z"
   },
   {
    "duration": 6,
    "start_time": "2022-02-20T22:03:05.075Z"
   },
   {
    "duration": 5,
    "start_time": "2022-02-20T22:05:27.060Z"
   },
   {
    "duration": 6,
    "start_time": "2022-02-20T22:05:33.901Z"
   },
   {
    "duration": 29,
    "start_time": "2022-02-20T22:07:35.220Z"
   },
   {
    "duration": 63,
    "start_time": "2022-02-20T22:09:30.782Z"
   },
   {
    "duration": 47,
    "start_time": "2022-02-20T22:09:54.663Z"
   },
   {
    "duration": 58,
    "start_time": "2022-02-20T22:10:17.287Z"
   },
   {
    "duration": 56,
    "start_time": "2022-02-20T22:10:27.339Z"
   },
   {
    "duration": 47,
    "start_time": "2022-02-20T22:13:59.606Z"
   },
   {
    "duration": 86,
    "start_time": "2022-02-20T22:15:19.331Z"
   },
   {
    "duration": 85,
    "start_time": "2022-02-20T22:15:33.405Z"
   },
   {
    "duration": 103,
    "start_time": "2022-02-20T22:15:42.381Z"
   },
   {
    "duration": 84,
    "start_time": "2022-02-20T22:15:51.359Z"
   },
   {
    "duration": 87,
    "start_time": "2022-02-20T22:16:01.850Z"
   },
   {
    "duration": 88,
    "start_time": "2022-02-20T22:16:08.424Z"
   },
   {
    "duration": 256,
    "start_time": "2022-02-20T22:17:44.149Z"
   },
   {
    "duration": 157,
    "start_time": "2022-02-20T22:17:55.063Z"
   },
   {
    "duration": 177,
    "start_time": "2022-02-20T22:18:08.015Z"
   },
   {
    "duration": 163,
    "start_time": "2022-02-20T22:18:16.184Z"
   },
   {
    "duration": 300,
    "start_time": "2022-02-20T22:19:32.084Z"
   },
   {
    "duration": 646,
    "start_time": "2022-02-20T22:19:50.299Z"
   },
   {
    "duration": 576,
    "start_time": "2022-02-20T22:20:00.892Z"
   },
   {
    "duration": 331,
    "start_time": "2022-02-20T22:20:07.143Z"
   },
   {
    "duration": 563,
    "start_time": "2022-02-20T22:20:43.043Z"
   },
   {
    "duration": 322,
    "start_time": "2022-02-20T22:21:18.769Z"
   },
   {
    "duration": 322,
    "start_time": "2022-02-20T22:21:27.361Z"
   },
   {
    "duration": 327,
    "start_time": "2022-02-20T22:21:33.863Z"
   },
   {
    "duration": 314,
    "start_time": "2022-02-20T22:21:47.086Z"
   },
   {
    "duration": 27,
    "start_time": "2022-02-20T22:24:45.275Z"
   },
   {
    "duration": 306,
    "start_time": "2022-02-20T22:24:54.620Z"
   },
   {
    "duration": 8,
    "start_time": "2022-02-20T22:25:36.600Z"
   },
   {
    "duration": 26,
    "start_time": "2022-02-20T22:25:44.797Z"
   },
   {
    "duration": 10,
    "start_time": "2022-02-20T22:26:00.042Z"
   },
   {
    "duration": 27,
    "start_time": "2022-02-20T22:26:08.171Z"
   },
   {
    "duration": 11,
    "start_time": "2022-02-20T22:26:49.882Z"
   },
   {
    "duration": 10,
    "start_time": "2022-02-20T22:26:52.618Z"
   },
   {
    "duration": 14,
    "start_time": "2022-02-20T22:27:09.931Z"
   },
   {
    "duration": 268,
    "start_time": "2022-02-20T22:28:51.823Z"
   },
   {
    "duration": 1285,
    "start_time": "2022-02-20T22:29:01.289Z"
   },
   {
    "duration": 548,
    "start_time": "2022-02-20T22:29:47.152Z"
   },
   {
    "duration": 25,
    "start_time": "2022-02-20T22:30:02.543Z"
   },
   {
    "duration": 13,
    "start_time": "2022-02-20T22:30:42.285Z"
   },
   {
    "duration": 15,
    "start_time": "2022-02-20T22:30:48.898Z"
   },
   {
    "duration": 284,
    "start_time": "2022-02-20T22:31:02.405Z"
   },
   {
    "duration": 17,
    "start_time": "2022-02-20T22:31:19.866Z"
   },
   {
    "duration": 18,
    "start_time": "2022-02-20T22:32:12.792Z"
   },
   {
    "duration": 17,
    "start_time": "2022-02-20T22:32:49.268Z"
   },
   {
    "duration": 17,
    "start_time": "2022-02-20T22:32:55.821Z"
   },
   {
    "duration": 16,
    "start_time": "2022-02-20T22:32:59.508Z"
   },
   {
    "duration": 18,
    "start_time": "2022-02-20T22:34:43.180Z"
   },
   {
    "duration": 18,
    "start_time": "2022-02-20T22:35:16.797Z"
   },
   {
    "duration": 19,
    "start_time": "2022-02-20T22:35:27.939Z"
   },
   {
    "duration": 18,
    "start_time": "2022-02-20T22:35:35.356Z"
   },
   {
    "duration": 18,
    "start_time": "2022-02-20T22:35:43.107Z"
   },
   {
    "duration": 18,
    "start_time": "2022-02-20T22:35:46.905Z"
   },
   {
    "duration": 111,
    "start_time": "2022-02-20T22:36:02.227Z"
   },
   {
    "duration": 19,
    "start_time": "2022-02-20T22:36:04.284Z"
   },
   {
    "duration": 19,
    "start_time": "2022-02-20T22:37:51.280Z"
   },
   {
    "duration": 251,
    "start_time": "2022-02-20T22:38:14.443Z"
   },
   {
    "duration": 17,
    "start_time": "2022-02-20T22:39:25.347Z"
   },
   {
    "duration": 15,
    "start_time": "2022-02-20T22:39:29.940Z"
   },
   {
    "duration": 14,
    "start_time": "2022-02-20T22:39:45.438Z"
   },
   {
    "duration": 21,
    "start_time": "2022-02-20T22:39:48.914Z"
   },
   {
    "duration": 22,
    "start_time": "2022-02-20T22:40:20.898Z"
   },
   {
    "duration": 20,
    "start_time": "2022-02-20T22:40:39.766Z"
   },
   {
    "duration": 20,
    "start_time": "2022-02-20T22:40:55.895Z"
   },
   {
    "duration": 215,
    "start_time": "2022-02-20T22:41:01.951Z"
   },
   {
    "duration": 218,
    "start_time": "2022-02-20T22:43:45.612Z"
   },
   {
    "duration": 206,
    "start_time": "2022-02-20T22:43:49.891Z"
   },
   {
    "duration": 206,
    "start_time": "2022-02-20T22:44:14.237Z"
   },
   {
    "duration": 363,
    "start_time": "2022-02-20T22:46:39.487Z"
   },
   {
    "duration": 628,
    "start_time": "2022-02-20T22:46:53.263Z"
   },
   {
    "duration": 595,
    "start_time": "2022-02-20T22:47:23.004Z"
   },
   {
    "duration": 639,
    "start_time": "2022-02-20T22:47:41.964Z"
   },
   {
    "duration": 728,
    "start_time": "2022-02-20T22:47:47.832Z"
   },
   {
    "duration": 581,
    "start_time": "2022-02-20T22:47:56.890Z"
   },
   {
    "duration": 680,
    "start_time": "2022-02-20T22:48:41.030Z"
   },
   {
    "duration": 669,
    "start_time": "2022-02-20T22:48:59.422Z"
   },
   {
    "duration": 14,
    "start_time": "2022-02-20T22:49:17.519Z"
   },
   {
    "duration": 17,
    "start_time": "2022-02-20T22:52:51.770Z"
   },
   {
    "duration": 16,
    "start_time": "2022-02-20T22:53:03.325Z"
   },
   {
    "duration": 17,
    "start_time": "2022-02-20T22:53:24.894Z"
   },
   {
    "duration": 175,
    "start_time": "2022-02-20T22:53:36.455Z"
   },
   {
    "duration": 17,
    "start_time": "2022-02-20T22:54:21.197Z"
   },
   {
    "duration": 3545,
    "start_time": "2022-02-20T22:55:05.561Z"
   },
   {
    "duration": 420,
    "start_time": "2022-02-20T22:55:19.557Z"
   },
   {
    "duration": 443,
    "start_time": "2022-02-20T22:55:41.310Z"
   },
   {
    "duration": 815,
    "start_time": "2022-02-20T22:55:53.293Z"
   },
   {
    "duration": 733,
    "start_time": "2022-02-20T22:56:29.077Z"
   },
   {
    "duration": 747,
    "start_time": "2022-02-20T22:56:31.869Z"
   },
   {
    "duration": 452,
    "start_time": "2022-02-20T22:56:45.399Z"
   },
   {
    "duration": 452,
    "start_time": "2022-02-20T22:57:12.403Z"
   },
   {
    "duration": 27,
    "start_time": "2022-02-20T22:57:56.423Z"
   },
   {
    "duration": 470,
    "start_time": "2022-02-20T22:58:12.235Z"
   },
   {
    "duration": 292,
    "start_time": "2022-02-20T22:58:36.516Z"
   },
   {
    "duration": 329,
    "start_time": "2022-02-20T22:58:50.164Z"
   },
   {
    "duration": 305,
    "start_time": "2022-02-20T22:58:53.952Z"
   },
   {
    "duration": 671,
    "start_time": "2022-02-20T22:59:07.186Z"
   },
   {
    "duration": 787,
    "start_time": "2022-02-20T22:59:37.956Z"
   },
   {
    "duration": 831,
    "start_time": "2022-02-20T23:00:02.510Z"
   },
   {
    "duration": 743,
    "start_time": "2022-02-20T23:00:12.831Z"
   },
   {
    "duration": 1365,
    "start_time": "2022-02-20T23:00:25.008Z"
   },
   {
    "duration": 949,
    "start_time": "2022-02-20T23:00:33.377Z"
   },
   {
    "duration": 1230,
    "start_time": "2022-02-20T23:01:02.053Z"
   },
   {
    "duration": 1196,
    "start_time": "2022-02-20T23:02:21.039Z"
   },
   {
    "duration": 283,
    "start_time": "2022-02-20T23:04:23.395Z"
   },
   {
    "duration": 1393,
    "start_time": "2022-02-20T23:04:35.910Z"
   },
   {
    "duration": 1254,
    "start_time": "2022-02-20T23:05:01.690Z"
   },
   {
    "duration": 1214,
    "start_time": "2022-02-20T23:05:17.850Z"
   },
   {
    "duration": 1416,
    "start_time": "2022-02-20T23:05:50.297Z"
   },
   {
    "duration": 2,
    "start_time": "2022-02-20T23:10:16.695Z"
   },
   {
    "duration": 652,
    "start_time": "2022-02-20T23:10:32.158Z"
   },
   {
    "duration": 3,
    "start_time": "2022-02-20T23:35:24.907Z"
   },
   {
    "duration": 3,
    "start_time": "2022-02-20T23:39:43.102Z"
   },
   {
    "duration": 670,
    "start_time": "2022-02-20T23:39:51.209Z"
   },
   {
    "duration": 122,
    "start_time": "2022-02-20T23:39:51.881Z"
   },
   {
    "duration": 21,
    "start_time": "2022-02-20T23:39:52.006Z"
   },
   {
    "duration": 106,
    "start_time": "2022-02-20T23:39:52.029Z"
   },
   {
    "duration": 2,
    "start_time": "2022-02-20T23:39:52.137Z"
   },
   {
    "duration": 10,
    "start_time": "2022-02-20T23:39:52.140Z"
   },
   {
    "duration": 6,
    "start_time": "2022-02-20T23:39:52.151Z"
   },
   {
    "duration": 12,
    "start_time": "2022-02-20T23:39:52.158Z"
   },
   {
    "duration": 65,
    "start_time": "2022-02-20T23:39:52.173Z"
   },
   {
    "duration": 48,
    "start_time": "2022-02-20T23:39:52.241Z"
   },
   {
    "duration": 2,
    "start_time": "2022-02-20T23:39:52.291Z"
   },
   {
    "duration": 14,
    "start_time": "2022-02-20T23:39:52.295Z"
   },
   {
    "duration": 6,
    "start_time": "2022-02-20T23:39:52.311Z"
   },
   {
    "duration": 26,
    "start_time": "2022-02-20T23:39:52.319Z"
   },
   {
    "duration": 34,
    "start_time": "2022-02-20T23:39:52.347Z"
   },
   {
    "duration": 91,
    "start_time": "2022-02-20T23:39:52.383Z"
   },
   {
    "duration": 552,
    "start_time": "2022-02-20T23:39:52.476Z"
   },
   {
    "duration": 542,
    "start_time": "2022-02-20T23:39:53.030Z"
   },
   {
    "duration": 701,
    "start_time": "2022-02-20T23:39:53.574Z"
   },
   {
    "duration": 494,
    "start_time": "2022-02-20T23:39:54.277Z"
   },
   {
    "duration": 182,
    "start_time": "2022-02-20T23:39:54.773Z"
   },
   {
    "duration": 2,
    "start_time": "2022-02-20T23:39:54.957Z"
   },
   {
    "duration": 2,
    "start_time": "2022-02-20T23:39:54.969Z"
   },
   {
    "duration": 26,
    "start_time": "2022-02-20T23:39:54.973Z"
   },
   {
    "duration": 4206,
    "start_time": "2022-02-20T23:39:55.000Z"
   },
   {
    "duration": 13,
    "start_time": "2022-02-20T23:39:59.208Z"
   },
   {
    "duration": 21,
    "start_time": "2022-02-20T23:39:59.224Z"
   },
   {
    "duration": 245,
    "start_time": "2022-02-20T23:39:59.246Z"
   },
   {
    "duration": 339,
    "start_time": "2022-02-20T23:39:59.493Z"
   },
   {
    "duration": -811,
    "start_time": "2022-02-20T23:40:00.645Z"
   },
   {
    "duration": -816,
    "start_time": "2022-02-20T23:40:00.650Z"
   },
   {
    "duration": -817,
    "start_time": "2022-02-20T23:40:00.653Z"
   },
   {
    "duration": 1291,
    "start_time": "2022-02-20T23:40:23.577Z"
   },
   {
    "duration": 111,
    "start_time": "2022-02-20T23:40:24.870Z"
   },
   {
    "duration": 22,
    "start_time": "2022-02-20T23:40:24.983Z"
   },
   {
    "duration": 107,
    "start_time": "2022-02-20T23:40:25.007Z"
   },
   {
    "duration": 2,
    "start_time": "2022-02-20T23:40:25.115Z"
   },
   {
    "duration": 6,
    "start_time": "2022-02-20T23:40:25.119Z"
   },
   {
    "duration": 8,
    "start_time": "2022-02-20T23:40:25.126Z"
   },
   {
    "duration": 7,
    "start_time": "2022-02-20T23:40:25.137Z"
   },
   {
    "duration": 69,
    "start_time": "2022-02-20T23:40:25.146Z"
   },
   {
    "duration": 32,
    "start_time": "2022-02-20T23:40:25.216Z"
   },
   {
    "duration": 2,
    "start_time": "2022-02-20T23:40:25.250Z"
   },
   {
    "duration": 13,
    "start_time": "2022-02-20T23:40:25.254Z"
   },
   {
    "duration": 4,
    "start_time": "2022-02-20T23:40:25.269Z"
   },
   {
    "duration": 26,
    "start_time": "2022-02-20T23:40:25.275Z"
   },
   {
    "duration": 16,
    "start_time": "2022-02-20T23:40:25.303Z"
   },
   {
    "duration": 79,
    "start_time": "2022-02-20T23:40:25.321Z"
   },
   {
    "duration": 543,
    "start_time": "2022-02-20T23:40:25.401Z"
   },
   {
    "duration": 501,
    "start_time": "2022-02-20T23:40:25.945Z"
   },
   {
    "duration": 724,
    "start_time": "2022-02-20T23:40:26.448Z"
   },
   {
    "duration": 536,
    "start_time": "2022-02-20T23:40:27.174Z"
   },
   {
    "duration": 174,
    "start_time": "2022-02-20T23:40:27.712Z"
   },
   {
    "duration": 3,
    "start_time": "2022-02-20T23:40:27.887Z"
   },
   {
    "duration": 5,
    "start_time": "2022-02-20T23:40:27.892Z"
   },
   {
    "duration": 23,
    "start_time": "2022-02-20T23:40:27.899Z"
   },
   {
    "duration": 4279,
    "start_time": "2022-02-20T23:40:27.924Z"
   },
   {
    "duration": 14,
    "start_time": "2022-02-20T23:40:32.204Z"
   },
   {
    "duration": 31,
    "start_time": "2022-02-20T23:40:32.219Z"
   },
   {
    "duration": 222,
    "start_time": "2022-02-20T23:40:32.251Z"
   },
   {
    "duration": 1235,
    "start_time": "2022-02-20T23:40:32.475Z"
   },
   {
    "duration": 2,
    "start_time": "2022-02-20T23:40:33.712Z"
   },
   {
    "duration": 653,
    "start_time": "2022-02-20T23:40:33.716Z"
   },
   {
    "duration": 3,
    "start_time": "2022-02-20T23:40:34.370Z"
   },
   {
    "duration": 1474,
    "start_time": "2022-02-21T14:29:02.666Z"
   },
   {
    "duration": 144,
    "start_time": "2022-02-21T14:29:04.143Z"
   },
   {
    "duration": 28,
    "start_time": "2022-02-21T14:29:04.291Z"
   },
   {
    "duration": 160,
    "start_time": "2022-02-21T14:29:04.322Z"
   },
   {
    "duration": 3,
    "start_time": "2022-02-21T14:29:04.485Z"
   },
   {
    "duration": 8,
    "start_time": "2022-02-21T14:29:04.492Z"
   },
   {
    "duration": 5,
    "start_time": "2022-02-21T14:29:04.502Z"
   },
   {
    "duration": 3,
    "start_time": "2022-02-21T14:29:04.511Z"
   },
   {
    "duration": 120,
    "start_time": "2022-02-21T14:29:04.517Z"
   },
   {
    "duration": 60,
    "start_time": "2022-02-21T14:29:04.640Z"
   },
   {
    "duration": 3,
    "start_time": "2022-02-21T14:29:04.703Z"
   },
   {
    "duration": 20,
    "start_time": "2022-02-21T14:29:04.708Z"
   },
   {
    "duration": 5,
    "start_time": "2022-02-21T14:29:04.731Z"
   },
   {
    "duration": 55,
    "start_time": "2022-02-21T14:29:04.738Z"
   },
   {
    "duration": 21,
    "start_time": "2022-02-21T14:29:04.796Z"
   },
   {
    "duration": 133,
    "start_time": "2022-02-21T14:29:04.820Z"
   },
   {
    "duration": 679,
    "start_time": "2022-02-21T14:29:04.956Z"
   },
   {
    "duration": 689,
    "start_time": "2022-02-21T14:29:05.637Z"
   },
   {
    "duration": 895,
    "start_time": "2022-02-21T14:29:06.329Z"
   },
   {
    "duration": 726,
    "start_time": "2022-02-21T14:29:07.227Z"
   },
   {
    "duration": 242,
    "start_time": "2022-02-21T14:29:07.961Z"
   },
   {
    "duration": 3,
    "start_time": "2022-02-21T14:29:08.206Z"
   },
   {
    "duration": 3,
    "start_time": "2022-02-21T14:29:08.213Z"
   },
   {
    "duration": 62,
    "start_time": "2022-02-21T14:29:08.219Z"
   },
   {
    "duration": 5117,
    "start_time": "2022-02-21T14:29:08.284Z"
   },
   {
    "duration": 25,
    "start_time": "2022-02-21T14:29:13.403Z"
   },
   {
    "duration": 45,
    "start_time": "2022-02-21T14:29:13.430Z"
   },
   {
    "duration": 319,
    "start_time": "2022-02-21T14:29:13.478Z"
   },
   {
    "duration": 1717,
    "start_time": "2022-02-21T14:29:13.799Z"
   },
   {
    "duration": 2,
    "start_time": "2022-02-21T14:29:15.519Z"
   },
   {
    "duration": 839,
    "start_time": "2022-02-21T14:29:15.524Z"
   },
   {
    "duration": 4,
    "start_time": "2022-02-21T14:29:16.366Z"
   },
   {
    "duration": 1353,
    "start_time": "2022-03-01T19:11:50.025Z"
   },
   {
    "duration": 994,
    "start_time": "2022-03-01T19:11:54.432Z"
   },
   {
    "duration": 295,
    "start_time": "2022-03-01T19:11:55.428Z"
   },
   {
    "duration": 17,
    "start_time": "2022-03-01T19:11:55.724Z"
   },
   {
    "duration": 83,
    "start_time": "2022-03-01T19:11:55.742Z"
   },
   {
    "duration": 382,
    "start_time": "2022-03-01T19:11:55.826Z"
   },
   {
    "duration": 16,
    "start_time": "2022-03-01T19:11:59.604Z"
   },
   {
    "duration": 16,
    "start_time": "2022-03-01T19:12:29.928Z"
   },
   {
    "duration": 7,
    "start_time": "2022-03-01T19:23:19.130Z"
   },
   {
    "duration": 276,
    "start_time": "2022-03-01T19:33:32.844Z"
   },
   {
    "duration": 5,
    "start_time": "2022-03-01T19:34:26.193Z"
   },
   {
    "duration": 11,
    "start_time": "2022-03-01T19:34:47.970Z"
   },
   {
    "duration": 314,
    "start_time": "2022-03-01T19:34:52.641Z"
   },
   {
    "duration": 3,
    "start_time": "2022-03-01T19:35:01.593Z"
   },
   {
    "duration": 289,
    "start_time": "2022-03-01T19:35:01.598Z"
   },
   {
    "duration": 27,
    "start_time": "2022-03-01T19:35:01.890Z"
   },
   {
    "duration": 102,
    "start_time": "2022-03-01T19:35:01.920Z"
   },
   {
    "duration": 18,
    "start_time": "2022-03-01T19:35:02.024Z"
   },
   {
    "duration": 67,
    "start_time": "2022-03-01T19:35:02.043Z"
   },
   {
    "duration": 26,
    "start_time": "2022-03-01T19:35:02.112Z"
   },
   {
    "duration": 2,
    "start_time": "2022-03-01T19:35:02.140Z"
   },
   {
    "duration": 14,
    "start_time": "2022-03-01T19:35:02.144Z"
   },
   {
    "duration": 20,
    "start_time": "2022-03-01T19:35:02.159Z"
   },
   {
    "duration": 15,
    "start_time": "2022-03-01T19:35:02.180Z"
   },
   {
    "duration": 26,
    "start_time": "2022-03-01T19:35:02.197Z"
   },
   {
    "duration": 22,
    "start_time": "2022-03-01T19:35:55.536Z"
   },
   {
    "duration": 16,
    "start_time": "2022-03-01T19:38:26.990Z"
   },
   {
    "duration": 74,
    "start_time": "2022-03-01T19:38:27.008Z"
   },
   {
    "duration": 496,
    "start_time": "2022-03-01T19:38:27.084Z"
   },
   {
    "duration": 378,
    "start_time": "2022-03-01T19:38:27.582Z"
   },
   {
    "duration": 493,
    "start_time": "2022-03-01T19:38:27.961Z"
   },
   {
    "duration": 418,
    "start_time": "2022-03-01T19:38:28.455Z"
   },
   {
    "duration": 759,
    "start_time": "2022-03-01T19:38:28.875Z"
   },
   {
    "duration": -896,
    "start_time": "2022-03-01T19:38:30.532Z"
   },
   {
    "duration": -897,
    "start_time": "2022-03-01T19:38:30.534Z"
   },
   {
    "duration": -901,
    "start_time": "2022-03-01T19:38:30.539Z"
   },
   {
    "duration": -902,
    "start_time": "2022-03-01T19:38:30.541Z"
   },
   {
    "duration": -934,
    "start_time": "2022-03-01T19:38:30.573Z"
   },
   {
    "duration": -971,
    "start_time": "2022-03-01T19:38:30.611Z"
   },
   {
    "duration": -1091,
    "start_time": "2022-03-01T19:38:30.733Z"
   },
   {
    "duration": -1092,
    "start_time": "2022-03-01T19:38:30.735Z"
   },
   {
    "duration": -1096,
    "start_time": "2022-03-01T19:38:30.740Z"
   },
   {
    "duration": -1098,
    "start_time": "2022-03-01T19:38:30.742Z"
   },
   {
    "duration": -1099,
    "start_time": "2022-03-01T19:38:30.744Z"
   },
   {
    "duration": 3,
    "start_time": "2022-03-01T19:38:39.186Z"
   },
   {
    "duration": 258,
    "start_time": "2022-03-01T19:38:39.192Z"
   },
   {
    "duration": 16,
    "start_time": "2022-03-01T19:38:39.452Z"
   },
   {
    "duration": 83,
    "start_time": "2022-03-01T19:38:39.469Z"
   },
   {
    "duration": 15,
    "start_time": "2022-03-01T19:38:39.554Z"
   },
   {
    "duration": 59,
    "start_time": "2022-03-01T19:38:39.570Z"
   },
   {
    "duration": 23,
    "start_time": "2022-03-01T19:38:39.631Z"
   },
   {
    "duration": 2,
    "start_time": "2022-03-01T19:38:39.656Z"
   },
   {
    "duration": 7,
    "start_time": "2022-03-01T19:38:39.659Z"
   },
   {
    "duration": 3,
    "start_time": "2022-03-01T19:38:39.668Z"
   },
   {
    "duration": 7,
    "start_time": "2022-03-01T19:38:39.673Z"
   },
   {
    "duration": 40,
    "start_time": "2022-03-01T19:38:39.681Z"
   },
   {
    "duration": 21,
    "start_time": "2022-03-01T19:38:39.722Z"
   },
   {
    "duration": 1011,
    "start_time": "2022-03-01T19:40:58.110Z"
   },
   {
    "duration": 261,
    "start_time": "2022-03-01T19:40:59.122Z"
   },
   {
    "duration": 16,
    "start_time": "2022-03-01T19:40:59.385Z"
   },
   {
    "duration": 75,
    "start_time": "2022-03-01T19:40:59.403Z"
   },
   {
    "duration": 30,
    "start_time": "2022-03-01T19:40:59.479Z"
   },
   {
    "duration": 47,
    "start_time": "2022-03-01T19:40:59.510Z"
   },
   {
    "duration": 24,
    "start_time": "2022-03-01T19:40:59.559Z"
   },
   {
    "duration": 2,
    "start_time": "2022-03-01T19:40:59.585Z"
   },
   {
    "duration": 5,
    "start_time": "2022-03-01T19:40:59.605Z"
   },
   {
    "duration": 3,
    "start_time": "2022-03-01T19:40:59.611Z"
   },
   {
    "duration": 7,
    "start_time": "2022-03-01T19:40:59.616Z"
   },
   {
    "duration": 23,
    "start_time": "2022-03-01T19:40:59.624Z"
   },
   {
    "duration": 24,
    "start_time": "2022-03-01T19:40:59.649Z"
   },
   {
    "duration": 42,
    "start_time": "2022-03-01T19:40:59.675Z"
   },
   {
    "duration": 72,
    "start_time": "2022-03-01T19:40:59.718Z"
   },
   {
    "duration": 419,
    "start_time": "2022-03-01T19:40:59.791Z"
   },
   {
    "duration": 406,
    "start_time": "2022-03-01T19:41:00.211Z"
   },
   {
    "duration": 518,
    "start_time": "2022-03-01T19:41:00.619Z"
   },
   {
    "duration": 419,
    "start_time": "2022-03-01T19:41:01.139Z"
   },
   {
    "duration": 136,
    "start_time": "2022-03-01T19:41:01.559Z"
   },
   {
    "duration": 2,
    "start_time": "2022-03-01T19:41:01.696Z"
   },
   {
    "duration": 2,
    "start_time": "2022-03-01T19:41:01.705Z"
   },
   {
    "duration": 29,
    "start_time": "2022-03-01T19:41:01.710Z"
   },
   {
    "duration": 4516,
    "start_time": "2022-03-01T19:41:01.741Z"
   },
   {
    "duration": 11,
    "start_time": "2022-03-01T19:41:06.259Z"
   },
   {
    "duration": 14,
    "start_time": "2022-03-01T19:41:06.272Z"
   },
   {
    "duration": 164,
    "start_time": "2022-03-01T19:41:06.287Z"
   },
   {
    "duration": 938,
    "start_time": "2022-03-01T19:41:06.452Z"
   },
   {
    "duration": 2,
    "start_time": "2022-03-01T19:41:07.391Z"
   },
   {
    "duration": 683,
    "start_time": "2022-03-01T19:41:07.394Z"
   },
   {
    "duration": 2,
    "start_time": "2022-03-01T19:41:08.078Z"
   },
   {
    "duration": 3,
    "start_time": "2022-03-01T19:41:35.565Z"
   },
   {
    "duration": 253,
    "start_time": "2022-03-01T19:41:35.571Z"
   },
   {
    "duration": 18,
    "start_time": "2022-03-01T19:41:35.826Z"
   },
   {
    "duration": 82,
    "start_time": "2022-03-01T19:41:35.846Z"
   },
   {
    "duration": 17,
    "start_time": "2022-03-01T19:41:35.930Z"
   },
   {
    "duration": 62,
    "start_time": "2022-03-01T19:41:35.948Z"
   },
   {
    "duration": 25,
    "start_time": "2022-03-01T19:41:36.011Z"
   },
   {
    "duration": 4367,
    "start_time": "2022-03-01T19:44:55.294Z"
   },
   {
    "duration": 4341,
    "start_time": "2022-03-01T19:45:03.215Z"
   },
   {
    "duration": 4370,
    "start_time": "2022-03-01T19:51:12.271Z"
   },
   {
    "duration": 1984,
    "start_time": "2022-03-01T19:57:37.273Z"
   },
   {
    "duration": 1548,
    "start_time": "2022-03-01T19:57:51.459Z"
   },
   {
    "duration": 2000,
    "start_time": "2022-03-01T19:58:05.493Z"
   },
   {
    "duration": 12,
    "start_time": "2022-03-02T06:02:52.374Z"
   },
   {
    "duration": 2,
    "start_time": "2022-03-02T06:02:56.152Z"
   },
   {
    "duration": 323,
    "start_time": "2022-03-02T06:02:56.158Z"
   },
   {
    "duration": 17,
    "start_time": "2022-03-02T06:02:56.483Z"
   },
   {
    "duration": 75,
    "start_time": "2022-03-02T06:02:56.501Z"
   },
   {
    "duration": 16,
    "start_time": "2022-03-02T06:02:56.577Z"
   },
   {
    "duration": 48,
    "start_time": "2022-03-02T06:02:56.606Z"
   },
   {
    "duration": 24,
    "start_time": "2022-03-02T06:02:56.655Z"
   },
   {
    "duration": 2,
    "start_time": "2022-03-02T06:02:56.681Z"
   },
   {
    "duration": 24,
    "start_time": "2022-03-02T06:02:56.684Z"
   },
   {
    "duration": 4,
    "start_time": "2022-03-02T06:02:56.711Z"
   },
   {
    "duration": 7,
    "start_time": "2022-03-02T06:02:56.717Z"
   },
   {
    "duration": 23,
    "start_time": "2022-03-02T06:02:56.726Z"
   },
   {
    "duration": 22,
    "start_time": "2022-03-02T06:02:56.751Z"
   },
   {
    "duration": 43,
    "start_time": "2022-03-02T06:02:56.774Z"
   },
   {
    "duration": 89,
    "start_time": "2022-03-02T06:02:56.819Z"
   },
   {
    "duration": 424,
    "start_time": "2022-03-02T06:02:56.910Z"
   },
   {
    "duration": 477,
    "start_time": "2022-03-02T06:02:57.336Z"
   },
   {
    "duration": 482,
    "start_time": "2022-03-02T06:02:57.815Z"
   },
   {
    "duration": 342,
    "start_time": "2022-03-02T06:02:58.299Z"
   },
   {
    "duration": 133,
    "start_time": "2022-03-02T06:02:58.643Z"
   },
   {
    "duration": 2,
    "start_time": "2022-03-02T06:02:58.777Z"
   },
   {
    "duration": 4,
    "start_time": "2022-03-02T06:02:58.780Z"
   },
   {
    "duration": 29,
    "start_time": "2022-03-02T06:02:58.786Z"
   },
   {
    "duration": 3953,
    "start_time": "2022-03-02T06:02:58.816Z"
   },
   {
    "duration": 12,
    "start_time": "2022-03-02T06:03:02.771Z"
   },
   {
    "duration": 27,
    "start_time": "2022-03-02T06:03:02.784Z"
   },
   {
    "duration": 155,
    "start_time": "2022-03-02T06:03:02.812Z"
   },
   {
    "duration": 952,
    "start_time": "2022-03-02T06:03:02.970Z"
   },
   {
    "duration": 2,
    "start_time": "2022-03-02T06:03:03.924Z"
   },
   {
    "duration": 1344,
    "start_time": "2022-03-02T06:03:03.928Z"
   },
   {
    "duration": 11,
    "start_time": "2022-03-02T06:04:02.405Z"
   },
   {
    "duration": 21,
    "start_time": "2022-03-02T06:08:08.569Z"
   },
   {
    "duration": 12,
    "start_time": "2022-03-02T06:08:14.049Z"
   },
   {
    "duration": 3,
    "start_time": "2022-03-02T06:08:23.413Z"
   },
   {
    "duration": 263,
    "start_time": "2022-03-02T06:08:23.420Z"
   },
   {
    "duration": 20,
    "start_time": "2022-03-02T06:08:23.685Z"
   },
   {
    "duration": 82,
    "start_time": "2022-03-02T06:08:23.707Z"
   },
   {
    "duration": 37,
    "start_time": "2022-03-02T06:08:23.791Z"
   },
   {
    "duration": 369,
    "start_time": "2022-03-02T06:12:30.913Z"
   },
   {
    "duration": 22,
    "start_time": "2022-03-02T06:12:34.255Z"
   },
   {
    "duration": 29,
    "start_time": "2022-03-02T06:14:04.211Z"
   },
   {
    "duration": 29,
    "start_time": "2022-03-02T06:14:18.597Z"
   },
   {
    "duration": 30,
    "start_time": "2022-03-02T06:14:30.310Z"
   },
   {
    "duration": 7,
    "start_time": "2022-03-02T06:16:12.126Z"
   },
   {
    "duration": 8,
    "start_time": "2022-03-02T06:16:37.999Z"
   },
   {
    "duration": 9,
    "start_time": "2022-03-02T06:17:53.823Z"
   },
   {
    "duration": 10,
    "start_time": "2022-03-02T06:21:52.819Z"
   },
   {
    "duration": 96,
    "start_time": "2022-03-02T06:22:10.053Z"
   },
   {
    "duration": 507,
    "start_time": "2022-03-02T06:22:23.666Z"
   },
   {
    "duration": 482,
    "start_time": "2022-03-02T06:22:34.623Z"
   },
   {
    "duration": 10,
    "start_time": "2022-03-02T06:22:37.623Z"
   },
   {
    "duration": 9,
    "start_time": "2022-03-02T06:22:50.393Z"
   },
   {
    "duration": 10,
    "start_time": "2022-03-02T06:22:55.059Z"
   },
   {
    "duration": 11,
    "start_time": "2022-03-02T06:23:47.568Z"
   },
   {
    "duration": 10,
    "start_time": "2022-03-02T06:23:54.049Z"
   },
   {
    "duration": 7,
    "start_time": "2022-03-02T06:24:14.227Z"
   },
   {
    "duration": 7,
    "start_time": "2022-03-02T06:24:21.299Z"
   },
   {
    "duration": 7,
    "start_time": "2022-03-02T06:24:26.189Z"
   },
   {
    "duration": 7,
    "start_time": "2022-03-02T06:24:29.420Z"
   },
   {
    "duration": 7,
    "start_time": "2022-03-02T06:25:34.285Z"
   },
   {
    "duration": 10,
    "start_time": "2022-03-02T06:25:37.852Z"
   },
   {
    "duration": 7156,
    "start_time": "2022-03-02T06:27:02.248Z"
   },
   {
    "duration": 7195,
    "start_time": "2022-03-02T06:27:14.771Z"
   },
   {
    "duration": 19,
    "start_time": "2022-03-02T06:27:31.458Z"
   },
   {
    "duration": 17,
    "start_time": "2022-03-02T06:27:42.521Z"
   },
   {
    "duration": 18,
    "start_time": "2022-03-02T06:27:50.652Z"
   },
   {
    "duration": 15,
    "start_time": "2022-03-02T06:27:53.907Z"
   },
   {
    "duration": 22,
    "start_time": "2022-03-02T06:28:54.227Z"
   },
   {
    "duration": 21,
    "start_time": "2022-03-02T06:29:29.353Z"
   },
   {
    "duration": 23,
    "start_time": "2022-03-02T06:29:36.128Z"
   },
   {
    "duration": 1169,
    "start_time": "2022-03-02T06:32:00.691Z"
   },
   {
    "duration": 1214,
    "start_time": "2022-03-02T06:32:46.968Z"
   },
   {
    "duration": 1363,
    "start_time": "2022-03-02T06:32:53.710Z"
   },
   {
    "duration": 8207,
    "start_time": "2022-03-02T06:33:03.688Z"
   },
   {
    "duration": 7140,
    "start_time": "2022-03-02T06:33:27.467Z"
   },
   {
    "duration": 5,
    "start_time": "2022-03-02T06:33:40.291Z"
   },
   {
    "duration": 4,
    "start_time": "2022-03-02T06:33:46.556Z"
   },
   {
    "duration": 2168,
    "start_time": "2022-03-02T06:34:50.938Z"
   },
   {
    "duration": 5,
    "start_time": "2022-03-02T06:35:05.237Z"
   },
   {
    "duration": 669,
    "start_time": "2022-03-02T06:35:27.546Z"
   },
   {
    "duration": 8660,
    "start_time": "2022-03-02T06:36:48.591Z"
   },
   {
    "duration": 6836,
    "start_time": "2022-03-02T06:37:30.985Z"
   },
   {
    "duration": 12984,
    "start_time": "2022-03-02T06:37:44.139Z"
   },
   {
    "duration": 58,
    "start_time": "2022-03-02T06:37:57.125Z"
   },
   {
    "duration": 3,
    "start_time": "2022-03-02T06:44:28.000Z"
   },
   {
    "duration": 274,
    "start_time": "2022-03-02T06:44:28.006Z"
   },
   {
    "duration": 15,
    "start_time": "2022-03-02T06:44:28.282Z"
   },
   {
    "duration": 73,
    "start_time": "2022-03-02T06:44:28.299Z"
   },
   {
    "duration": 36,
    "start_time": "2022-03-02T06:44:28.373Z"
   },
   {
    "duration": 8,
    "start_time": "2022-03-02T06:44:28.411Z"
   },
   {
    "duration": 24,
    "start_time": "2022-03-02T06:44:28.420Z"
   },
   {
    "duration": 14,
    "start_time": "2022-03-02T06:44:32.474Z"
   },
   {
    "duration": 298,
    "start_time": "2022-03-02T06:44:42.924Z"
   },
   {
    "duration": 28,
    "start_time": "2022-03-02T06:44:47.060Z"
   },
   {
    "duration": 28,
    "start_time": "2022-03-02T06:44:51.146Z"
   },
   {
    "duration": 29,
    "start_time": "2022-03-02T06:44:56.612Z"
   },
   {
    "duration": 41,
    "start_time": "2022-03-02T06:45:14.108Z"
   },
   {
    "duration": 88,
    "start_time": "2022-03-02T06:45:51.255Z"
   },
   {
    "duration": 3,
    "start_time": "2022-03-02T06:46:25.288Z"
   },
   {
    "duration": 265,
    "start_time": "2022-03-02T06:46:25.294Z"
   },
   {
    "duration": 16,
    "start_time": "2022-03-02T06:46:25.560Z"
   },
   {
    "duration": 90,
    "start_time": "2022-03-02T06:46:25.578Z"
   },
   {
    "duration": 28,
    "start_time": "2022-03-02T06:46:25.670Z"
   },
   {
    "duration": 8,
    "start_time": "2022-03-02T06:46:25.705Z"
   },
   {
    "duration": 28,
    "start_time": "2022-03-02T06:46:25.714Z"
   },
   {
    "duration": 13184,
    "start_time": "2022-03-02T06:46:28.864Z"
   },
   {
    "duration": 3,
    "start_time": "2022-03-02T06:47:26.464Z"
   },
   {
    "duration": 262,
    "start_time": "2022-03-02T06:47:26.468Z"
   },
   {
    "duration": 16,
    "start_time": "2022-03-02T06:47:26.732Z"
   },
   {
    "duration": 81,
    "start_time": "2022-03-02T06:47:26.750Z"
   },
   {
    "duration": 28,
    "start_time": "2022-03-02T06:47:26.833Z"
   },
   {
    "duration": 10,
    "start_time": "2022-03-02T06:47:26.862Z"
   },
   {
    "duration": 43,
    "start_time": "2022-03-02T06:47:26.873Z"
   },
   {
    "duration": 142,
    "start_time": "2022-03-02T06:47:28.846Z"
   },
   {
    "duration": 25,
    "start_time": "2022-03-02T06:48:02.037Z"
   },
   {
    "duration": 1014,
    "start_time": "2022-03-02T06:49:15.116Z"
   },
   {
    "duration": 290,
    "start_time": "2022-03-02T06:49:16.132Z"
   },
   {
    "duration": 17,
    "start_time": "2022-03-02T06:49:16.423Z"
   },
   {
    "duration": 79,
    "start_time": "2022-03-02T06:49:16.442Z"
   },
   {
    "duration": 30,
    "start_time": "2022-03-02T06:49:16.523Z"
   },
   {
    "duration": 10,
    "start_time": "2022-03-02T06:49:16.555Z"
   },
   {
    "duration": 21,
    "start_time": "2022-03-02T06:49:16.567Z"
   },
   {
    "duration": 1782,
    "start_time": "2022-03-02T06:49:18.984Z"
   },
   {
    "duration": 3,
    "start_time": "2022-03-02T06:50:01.099Z"
   },
   {
    "duration": 263,
    "start_time": "2022-03-02T06:50:01.106Z"
   },
   {
    "duration": 17,
    "start_time": "2022-03-02T06:50:01.371Z"
   },
   {
    "duration": 82,
    "start_time": "2022-03-02T06:50:01.390Z"
   },
   {
    "duration": 39,
    "start_time": "2022-03-02T06:50:01.474Z"
   },
   {
    "duration": 9,
    "start_time": "2022-03-02T06:50:01.514Z"
   },
   {
    "duration": 25,
    "start_time": "2022-03-02T06:50:01.525Z"
   },
   {
    "duration": 3,
    "start_time": "2022-03-02T06:50:01.551Z"
   },
   {
    "duration": -74,
    "start_time": "2022-03-02T06:50:01.630Z"
   },
   {
    "duration": 1866,
    "start_time": "2022-03-02T06:50:06.478Z"
   },
   {
    "duration": 14899,
    "start_time": "2022-03-02T06:50:09.196Z"
   },
   {
    "duration": 2,
    "start_time": "2022-03-02T06:51:05.684Z"
   },
   {
    "duration": 277,
    "start_time": "2022-03-02T06:51:05.690Z"
   },
   {
    "duration": 18,
    "start_time": "2022-03-02T06:51:05.969Z"
   },
   {
    "duration": 88,
    "start_time": "2022-03-02T06:51:05.990Z"
   },
   {
    "duration": 42,
    "start_time": "2022-03-02T06:51:06.080Z"
   },
   {
    "duration": 9,
    "start_time": "2022-03-02T06:51:06.124Z"
   },
   {
    "duration": 21,
    "start_time": "2022-03-02T06:51:06.135Z"
   },
   {
    "duration": 2416,
    "start_time": "2022-03-02T06:51:06.158Z"
   },
   {
    "duration": 1010,
    "start_time": "2022-03-02T06:54:45.213Z"
   },
   {
    "duration": 305,
    "start_time": "2022-03-02T06:54:46.225Z"
   },
   {
    "duration": 17,
    "start_time": "2022-03-02T06:54:46.532Z"
   },
   {
    "duration": 87,
    "start_time": "2022-03-02T06:54:46.551Z"
   },
   {
    "duration": 30,
    "start_time": "2022-03-02T06:54:46.640Z"
   },
   {
    "duration": 21,
    "start_time": "2022-03-02T06:54:46.671Z"
   },
   {
    "duration": 1818,
    "start_time": "2022-03-02T06:54:46.693Z"
   },
   {
    "duration": 27,
    "start_time": "2022-03-02T06:54:48.513Z"
   },
   {
    "duration": 2,
    "start_time": "2022-03-02T06:54:48.541Z"
   },
   {
    "duration": 15,
    "start_time": "2022-03-02T06:54:48.545Z"
   },
   {
    "duration": 7,
    "start_time": "2022-03-02T06:54:48.561Z"
   },
   {
    "duration": 13,
    "start_time": "2022-03-02T06:54:48.569Z"
   },
   {
    "duration": 44,
    "start_time": "2022-03-02T06:54:48.583Z"
   },
   {
    "duration": 21,
    "start_time": "2022-03-02T06:54:48.628Z"
   },
   {
    "duration": 29,
    "start_time": "2022-03-02T06:54:48.650Z"
   },
   {
    "duration": 108,
    "start_time": "2022-03-02T06:54:48.680Z"
   },
   {
    "duration": 437,
    "start_time": "2022-03-02T06:54:48.789Z"
   },
   {
    "duration": 436,
    "start_time": "2022-03-02T06:54:49.227Z"
   },
   {
    "duration": 514,
    "start_time": "2022-03-02T06:54:49.664Z"
   },
   {
    "duration": 389,
    "start_time": "2022-03-02T06:54:50.179Z"
   },
   {
    "duration": 187,
    "start_time": "2022-03-02T06:54:50.569Z"
   },
   {
    "duration": 1,
    "start_time": "2022-03-02T06:54:50.758Z"
   },
   {
    "duration": 7,
    "start_time": "2022-03-02T06:54:50.763Z"
   },
   {
    "duration": 37,
    "start_time": "2022-03-02T06:54:50.771Z"
   },
   {
    "duration": 4157,
    "start_time": "2022-03-02T06:54:50.810Z"
   },
   {
    "duration": 13,
    "start_time": "2022-03-02T06:54:54.969Z"
   },
   {
    "duration": 29,
    "start_time": "2022-03-02T06:54:54.983Z"
   },
   {
    "duration": 166,
    "start_time": "2022-03-02T06:54:55.014Z"
   },
   {
    "duration": 894,
    "start_time": "2022-03-02T06:54:55.182Z"
   },
   {
    "duration": 2,
    "start_time": "2022-03-02T06:54:56.078Z"
   },
   {
    "duration": 1399,
    "start_time": "2022-03-02T06:54:56.081Z"
   },
   {
    "duration": 948,
    "start_time": "2022-03-02T06:59:06.481Z"
   },
   {
    "duration": 1104,
    "start_time": "2022-03-02T06:59:17.265Z"
   },
   {
    "duration": 1286,
    "start_time": "2022-03-02T06:59:36.683Z"
   },
   {
    "duration": 1242,
    "start_time": "2022-03-02T06:59:48.684Z"
   },
   {
    "duration": 1196,
    "start_time": "2022-03-02T07:00:39.114Z"
   },
   {
    "duration": 1316,
    "start_time": "2022-03-02T07:00:50.044Z"
   },
   {
    "duration": 1368,
    "start_time": "2022-03-02T07:01:41.179Z"
   },
   {
    "duration": 1256,
    "start_time": "2022-03-02T07:01:58.912Z"
   },
   {
    "duration": 1373,
    "start_time": "2022-03-02T07:02:08.032Z"
   },
   {
    "duration": 1275,
    "start_time": "2022-03-02T07:02:13.842Z"
   },
   {
    "duration": 1219,
    "start_time": "2022-03-02T07:02:25.009Z"
   },
   {
    "duration": 1231,
    "start_time": "2022-03-02T07:02:45.932Z"
   },
   {
    "duration": 1255,
    "start_time": "2022-03-02T07:03:00.753Z"
   },
   {
    "duration": 1261,
    "start_time": "2022-03-02T07:03:29.506Z"
   },
   {
    "duration": 1359,
    "start_time": "2022-03-02T07:03:50.533Z"
   },
   {
    "duration": 1218,
    "start_time": "2022-03-02T07:04:02.970Z"
   },
   {
    "duration": 1254,
    "start_time": "2022-03-02T07:04:10.112Z"
   },
   {
    "duration": 1231,
    "start_time": "2022-03-02T07:04:19.435Z"
   },
   {
    "duration": 1306,
    "start_time": "2022-03-02T07:04:24.094Z"
   },
   {
    "duration": 1312,
    "start_time": "2022-03-02T07:04:31.618Z"
   },
   {
    "duration": 1214,
    "start_time": "2022-03-02T07:05:18.501Z"
   },
   {
    "duration": 1454,
    "start_time": "2022-03-02T07:05:48.654Z"
   },
   {
    "duration": 1221,
    "start_time": "2022-03-02T07:11:18.564Z"
   },
   {
    "duration": 108,
    "start_time": "2022-03-02T07:11:28.085Z"
   },
   {
    "duration": 1376,
    "start_time": "2022-03-02T07:11:33.592Z"
   },
   {
    "duration": 1684,
    "start_time": "2022-03-02T07:13:29.526Z"
   },
   {
    "duration": 1608,
    "start_time": "2022-03-02T07:13:47.671Z"
   },
   {
    "duration": 2156,
    "start_time": "2022-03-02T07:14:32.286Z"
   },
   {
    "duration": 106,
    "start_time": "2022-03-02T07:16:14.568Z"
   },
   {
    "duration": 2200,
    "start_time": "2022-03-02T07:16:20.809Z"
   },
   {
    "duration": 2151,
    "start_time": "2022-03-02T07:16:34.644Z"
   },
   {
    "duration": 2849,
    "start_time": "2022-03-02T07:18:08.367Z"
   },
   {
    "duration": 2369,
    "start_time": "2022-03-02T07:18:31.678Z"
   },
   {
    "duration": 2339,
    "start_time": "2022-03-02T07:19:48.017Z"
   },
   {
    "duration": 2386,
    "start_time": "2022-03-02T07:19:57.422Z"
   },
   {
    "duration": 7,
    "start_time": "2022-03-02T07:23:43.099Z"
   },
   {
    "duration": 6,
    "start_time": "2022-03-02T07:23:50.444Z"
   },
   {
    "duration": 6,
    "start_time": "2022-03-02T07:24:04.286Z"
   },
   {
    "duration": 6,
    "start_time": "2022-03-02T07:24:10.456Z"
   },
   {
    "duration": 7,
    "start_time": "2022-03-02T07:24:22.984Z"
   },
   {
    "duration": 7,
    "start_time": "2022-03-02T07:24:27.272Z"
   },
   {
    "duration": 2564,
    "start_time": "2022-03-02T07:24:44.916Z"
   },
   {
    "duration": 2441,
    "start_time": "2022-03-02T07:25:07.834Z"
   },
   {
    "duration": 2343,
    "start_time": "2022-03-02T07:25:38.785Z"
   },
   {
    "duration": 2593,
    "start_time": "2022-03-02T07:26:22.746Z"
   },
   {
    "duration": 2607,
    "start_time": "2022-03-02T07:26:49.311Z"
   },
   {
    "duration": 1377,
    "start_time": "2022-03-02T07:31:54.494Z"
   },
   {
    "duration": 1532,
    "start_time": "2022-03-02T07:32:03.768Z"
   },
   {
    "duration": 1476,
    "start_time": "2022-03-02T07:32:12.125Z"
   },
   {
    "duration": 1579,
    "start_time": "2022-03-02T07:32:23.743Z"
   },
   {
    "duration": 1571,
    "start_time": "2022-03-02T07:32:35.505Z"
   },
   {
    "duration": 1509,
    "start_time": "2022-03-02T07:32:44.938Z"
   },
   {
    "duration": 1528,
    "start_time": "2022-03-02T07:32:57.700Z"
   },
   {
    "duration": 1591,
    "start_time": "2022-03-02T07:33:15.828Z"
   },
   {
    "duration": 1449,
    "start_time": "2022-03-02T07:33:31.720Z"
   },
   {
    "duration": 1540,
    "start_time": "2022-03-02T07:33:38.775Z"
   },
   {
    "duration": 1550,
    "start_time": "2022-03-02T07:33:48.627Z"
   },
   {
    "duration": 2474,
    "start_time": "2022-03-02T07:38:22.342Z"
   },
   {
    "duration": 2428,
    "start_time": "2022-03-02T07:38:36.027Z"
   },
   {
    "duration": 5,
    "start_time": "2022-03-02T07:39:02.032Z"
   },
   {
    "duration": 2374,
    "start_time": "2022-03-02T07:40:28.770Z"
   },
   {
    "duration": 2383,
    "start_time": "2022-03-02T07:41:50.227Z"
   },
   {
    "duration": 2321,
    "start_time": "2022-03-02T07:42:41.521Z"
   },
   {
    "duration": 413,
    "start_time": "2022-03-02T16:46:33.783Z"
   },
   {
    "duration": 290,
    "start_time": "2022-03-02T16:47:16.741Z"
   },
   {
    "duration": 1079,
    "start_time": "2022-03-02T16:47:20.301Z"
   },
   {
    "duration": 273,
    "start_time": "2022-03-02T16:47:21.381Z"
   },
   {
    "duration": 17,
    "start_time": "2022-03-02T16:47:21.656Z"
   },
   {
    "duration": 87,
    "start_time": "2022-03-02T16:47:21.675Z"
   },
   {
    "duration": 39,
    "start_time": "2022-03-02T16:47:21.763Z"
   },
   {
    "duration": 22,
    "start_time": "2022-03-02T16:47:21.803Z"
   },
   {
    "duration": 1858,
    "start_time": "2022-03-02T16:47:21.826Z"
   },
   {
    "duration": 32,
    "start_time": "2022-03-02T16:47:23.685Z"
   },
   {
    "duration": 2,
    "start_time": "2022-03-02T16:47:23.719Z"
   },
   {
    "duration": 10,
    "start_time": "2022-03-02T16:47:23.723Z"
   },
   {
    "duration": 3,
    "start_time": "2022-03-02T16:47:23.734Z"
   },
   {
    "duration": 8,
    "start_time": "2022-03-02T16:47:23.738Z"
   },
   {
    "duration": 55,
    "start_time": "2022-03-02T16:47:23.748Z"
   },
   {
    "duration": 21,
    "start_time": "2022-03-02T16:47:23.805Z"
   },
   {
    "duration": 30,
    "start_time": "2022-03-02T16:47:23.827Z"
   },
   {
    "duration": 113,
    "start_time": "2022-03-02T16:47:23.859Z"
   },
   {
    "duration": 414,
    "start_time": "2022-03-02T16:47:23.973Z"
   },
   {
    "duration": 403,
    "start_time": "2022-03-02T16:47:24.389Z"
   },
   {
    "duration": 509,
    "start_time": "2022-03-02T16:47:24.794Z"
   },
   {
    "duration": 386,
    "start_time": "2022-03-02T16:47:25.304Z"
   },
   {
    "duration": 194,
    "start_time": "2022-03-02T16:47:25.692Z"
   },
   {
    "duration": 2,
    "start_time": "2022-03-02T16:47:25.888Z"
   },
   {
    "duration": 2,
    "start_time": "2022-03-02T16:47:25.901Z"
   },
   {
    "duration": 22,
    "start_time": "2022-03-02T16:47:25.904Z"
   },
   {
    "duration": 4261,
    "start_time": "2022-03-02T16:47:25.927Z"
   },
   {
    "duration": 17,
    "start_time": "2022-03-02T16:47:30.190Z"
   },
   {
    "duration": 16,
    "start_time": "2022-03-02T16:47:30.210Z"
   },
   {
    "duration": 185,
    "start_time": "2022-03-02T16:47:30.227Z"
   },
   {
    "duration": 338,
    "start_time": "2022-03-02T16:47:30.414Z"
   },
   {
    "duration": -684,
    "start_time": "2022-03-02T16:47:31.438Z"
   },
   {
    "duration": -690,
    "start_time": "2022-03-02T16:47:31.445Z"
   },
   {
    "duration": -691,
    "start_time": "2022-03-02T16:47:31.447Z"
   },
   {
    "duration": 977,
    "start_time": "2022-03-02T16:47:46.646Z"
   },
   {
    "duration": 266,
    "start_time": "2022-03-02T16:47:47.624Z"
   },
   {
    "duration": 17,
    "start_time": "2022-03-02T16:47:47.892Z"
   },
   {
    "duration": 84,
    "start_time": "2022-03-02T16:47:47.911Z"
   },
   {
    "duration": 32,
    "start_time": "2022-03-02T16:47:47.997Z"
   },
   {
    "duration": 20,
    "start_time": "2022-03-02T16:47:48.031Z"
   },
   {
    "duration": 1821,
    "start_time": "2022-03-02T16:47:48.052Z"
   },
   {
    "duration": 34,
    "start_time": "2022-03-02T16:47:49.875Z"
   },
   {
    "duration": 1,
    "start_time": "2022-03-02T16:47:49.911Z"
   },
   {
    "duration": 30,
    "start_time": "2022-03-02T16:47:49.914Z"
   },
   {
    "duration": 17,
    "start_time": "2022-03-02T16:47:49.945Z"
   },
   {
    "duration": 25,
    "start_time": "2022-03-02T16:47:49.963Z"
   },
   {
    "duration": 47,
    "start_time": "2022-03-02T16:47:49.989Z"
   },
   {
    "duration": 23,
    "start_time": "2022-03-02T16:47:50.037Z"
   },
   {
    "duration": 39,
    "start_time": "2022-03-02T16:47:50.061Z"
   },
   {
    "duration": 94,
    "start_time": "2022-03-02T16:47:50.102Z"
   },
   {
    "duration": 415,
    "start_time": "2022-03-02T16:47:50.197Z"
   },
   {
    "duration": 397,
    "start_time": "2022-03-02T16:47:50.613Z"
   },
   {
    "duration": 506,
    "start_time": "2022-03-02T16:47:51.012Z"
   },
   {
    "duration": 415,
    "start_time": "2022-03-02T16:47:51.519Z"
   },
   {
    "duration": 196,
    "start_time": "2022-03-02T16:47:51.936Z"
   },
   {
    "duration": 2,
    "start_time": "2022-03-02T16:47:52.134Z"
   },
   {
    "duration": 2,
    "start_time": "2022-03-02T16:47:52.140Z"
   },
   {
    "duration": 24,
    "start_time": "2022-03-02T16:47:52.144Z"
   },
   {
    "duration": 4077,
    "start_time": "2022-03-02T16:47:52.169Z"
   },
   {
    "duration": 13,
    "start_time": "2022-03-02T16:47:56.247Z"
   },
   {
    "duration": 15,
    "start_time": "2022-03-02T16:47:56.261Z"
   },
   {
    "duration": 187,
    "start_time": "2022-03-02T16:47:56.278Z"
   },
   {
    "duration": 392,
    "start_time": "2022-03-02T16:47:56.467Z"
   },
   {
    "duration": -699,
    "start_time": "2022-03-02T16:47:57.559Z"
   },
   {
    "duration": -703,
    "start_time": "2022-03-02T16:47:57.564Z"
   },
   {
    "duration": 2560,
    "start_time": "2022-03-02T16:48:29.378Z"
   },
   {
    "duration": 2546,
    "start_time": "2022-03-02T16:49:18.972Z"
   },
   {
    "duration": 2,
    "start_time": "2022-03-02T16:49:21.520Z"
   },
   {
    "duration": 1728,
    "start_time": "2022-03-02T16:49:21.523Z"
   },
   {
    "duration": 2456,
    "start_time": "2022-03-02T16:58:01.950Z"
   },
   {
    "duration": 121,
    "start_time": "2022-03-02T18:22:12.142Z"
   },
   {
    "duration": 2215,
    "start_time": "2022-03-02T18:54:07.409Z"
   },
   {
    "duration": 2485,
    "start_time": "2022-03-02T18:54:20.239Z"
   },
   {
    "duration": 2453,
    "start_time": "2022-03-02T18:54:45.824Z"
   },
   {
    "duration": 9085,
    "start_time": "2022-03-02T18:55:49.997Z"
   },
   {
    "duration": 2373,
    "start_time": "2022-03-02T18:56:38.309Z"
   },
   {
    "duration": 2393,
    "start_time": "2022-03-02T18:57:30.608Z"
   },
   {
    "duration": 2305,
    "start_time": "2022-03-02T18:57:51.915Z"
   },
   {
    "duration": 2390,
    "start_time": "2022-03-02T18:58:14.920Z"
   },
   {
    "duration": 2251,
    "start_time": "2022-03-02T18:58:57.595Z"
   },
   {
    "duration": 2250,
    "start_time": "2022-03-02T19:00:23.234Z"
   },
   {
    "duration": 2256,
    "start_time": "2022-03-02T19:00:50.538Z"
   },
   {
    "duration": 9216,
    "start_time": "2022-03-02T19:01:21.899Z"
   },
   {
    "duration": 10161,
    "start_time": "2022-03-02T19:01:35.615Z"
   },
   {
    "duration": 2601,
    "start_time": "2022-03-02T19:01:46.497Z"
   },
   {
    "duration": 9439,
    "start_time": "2022-03-02T19:02:01.346Z"
   },
   {
    "duration": 2326,
    "start_time": "2022-03-02T19:02:21.533Z"
   },
   {
    "duration": 2405,
    "start_time": "2022-03-02T19:07:20.418Z"
   },
   {
    "duration": 2195,
    "start_time": "2022-03-02T19:09:52.345Z"
   },
   {
    "duration": 2002,
    "start_time": "2022-03-02T19:09:59.017Z"
   },
   {
    "duration": 1896,
    "start_time": "2022-03-02T19:10:15.660Z"
   },
   {
    "duration": 1958,
    "start_time": "2022-03-02T19:10:26.717Z"
   },
   {
    "duration": 990,
    "start_time": "2022-03-02T19:10:39.238Z"
   },
   {
    "duration": 276,
    "start_time": "2022-03-02T19:10:40.230Z"
   },
   {
    "duration": 17,
    "start_time": "2022-03-02T19:10:40.508Z"
   },
   {
    "duration": 87,
    "start_time": "2022-03-02T19:10:40.527Z"
   },
   {
    "duration": 33,
    "start_time": "2022-03-02T19:10:40.615Z"
   },
   {
    "duration": 20,
    "start_time": "2022-03-02T19:10:40.649Z"
   },
   {
    "duration": 1860,
    "start_time": "2022-03-02T19:10:40.671Z"
   },
   {
    "duration": 28,
    "start_time": "2022-03-02T19:10:42.533Z"
   },
   {
    "duration": 2,
    "start_time": "2022-03-02T19:10:42.563Z"
   },
   {
    "duration": 11,
    "start_time": "2022-03-02T19:10:42.568Z"
   },
   {
    "duration": 22,
    "start_time": "2022-03-02T19:10:42.581Z"
   },
   {
    "duration": 22,
    "start_time": "2022-03-02T19:10:42.605Z"
   },
   {
    "duration": 38,
    "start_time": "2022-03-02T19:10:42.629Z"
   },
   {
    "duration": 21,
    "start_time": "2022-03-02T19:10:42.669Z"
   },
   {
    "duration": 31,
    "start_time": "2022-03-02T19:10:42.691Z"
   },
   {
    "duration": 108,
    "start_time": "2022-03-02T19:10:42.724Z"
   },
   {
    "duration": 445,
    "start_time": "2022-03-02T19:10:42.834Z"
   },
   {
    "duration": 431,
    "start_time": "2022-03-02T19:10:43.280Z"
   },
   {
    "duration": 544,
    "start_time": "2022-03-02T19:10:43.712Z"
   },
   {
    "duration": 392,
    "start_time": "2022-03-02T19:10:44.257Z"
   },
   {
    "duration": 199,
    "start_time": "2022-03-02T19:10:44.651Z"
   },
   {
    "duration": 2,
    "start_time": "2022-03-02T19:10:44.852Z"
   },
   {
    "duration": 4,
    "start_time": "2022-03-02T19:10:44.856Z"
   },
   {
    "duration": 24,
    "start_time": "2022-03-02T19:10:44.861Z"
   },
   {
    "duration": 4087,
    "start_time": "2022-03-02T19:10:44.887Z"
   },
   {
    "duration": 12,
    "start_time": "2022-03-02T19:10:48.976Z"
   },
   {
    "duration": 23,
    "start_time": "2022-03-02T19:10:48.990Z"
   },
   {
    "duration": 169,
    "start_time": "2022-03-02T19:10:49.015Z"
   },
   {
    "duration": 2499,
    "start_time": "2022-03-02T19:10:49.186Z"
   },
   {
    "duration": 1752,
    "start_time": "2022-03-02T19:10:51.686Z"
   },
   {
    "duration": 1632,
    "start_time": "2022-03-02T19:11:16.792Z"
   },
   {
    "duration": 1421,
    "start_time": "2022-03-03T09:01:13.811Z"
   },
   {
    "duration": 274,
    "start_time": "2022-03-03T09:01:15.235Z"
   },
   {
    "duration": 28,
    "start_time": "2022-03-03T09:01:15.512Z"
   },
   {
    "duration": 132,
    "start_time": "2022-03-03T09:01:15.543Z"
   },
   {
    "duration": 47,
    "start_time": "2022-03-03T09:01:15.678Z"
   },
   {
    "duration": 56,
    "start_time": "2022-03-03T09:01:15.728Z"
   },
   {
    "duration": 2715,
    "start_time": "2022-03-03T09:01:15.786Z"
   },
   {
    "duration": 45,
    "start_time": "2022-03-03T09:01:18.507Z"
   },
   {
    "duration": 25,
    "start_time": "2022-03-03T09:01:18.557Z"
   },
   {
    "duration": 16,
    "start_time": "2022-03-03T09:01:18.585Z"
   },
   {
    "duration": 5,
    "start_time": "2022-03-03T09:01:18.603Z"
   },
   {
    "duration": 16,
    "start_time": "2022-03-03T09:01:18.611Z"
   },
   {
    "duration": 80,
    "start_time": "2022-03-03T09:01:18.630Z"
   },
   {
    "duration": 40,
    "start_time": "2022-03-03T09:01:18.713Z"
   },
   {
    "duration": 64,
    "start_time": "2022-03-03T09:01:18.756Z"
   },
   {
    "duration": 168,
    "start_time": "2022-03-03T09:01:18.822Z"
   },
   {
    "duration": 702,
    "start_time": "2022-03-03T09:01:18.993Z"
   },
   {
    "duration": 632,
    "start_time": "2022-03-03T09:01:19.698Z"
   },
   {
    "duration": 861,
    "start_time": "2022-03-03T09:01:20.332Z"
   },
   {
    "duration": 608,
    "start_time": "2022-03-03T09:01:21.195Z"
   },
   {
    "duration": 299,
    "start_time": "2022-03-03T09:01:21.806Z"
   },
   {
    "duration": 4,
    "start_time": "2022-03-03T09:01:22.107Z"
   },
   {
    "duration": 4,
    "start_time": "2022-03-03T09:01:22.116Z"
   },
   {
    "duration": 61,
    "start_time": "2022-03-03T09:01:22.123Z"
   },
   {
    "duration": 6208,
    "start_time": "2022-03-03T09:01:22.186Z"
   },
   {
    "duration": 22,
    "start_time": "2022-03-03T09:01:28.397Z"
   },
   {
    "duration": 34,
    "start_time": "2022-03-03T09:01:28.422Z"
   },
   {
    "duration": 311,
    "start_time": "2022-03-03T09:01:28.458Z"
   },
   {
    "duration": 3912,
    "start_time": "2022-03-03T09:01:28.771Z"
   },
   {
    "duration": 2843,
    "start_time": "2022-03-03T09:01:32.685Z"
   }
  ],
  "kernelspec": {
   "display_name": "Python 3 (ipykernel)",
   "language": "python",
   "name": "python3"
  },
  "language_info": {
   "codemirror_mode": {
    "name": "ipython",
    "version": 3
   },
   "file_extension": ".py",
   "mimetype": "text/x-python",
   "name": "python",
   "nbconvert_exporter": "python",
   "pygments_lexer": "ipython3",
   "version": "3.9.6"
  },
  "toc": {
   "base_numbering": 1,
   "nav_menu": {},
   "number_sections": true,
   "sideBar": true,
   "skip_h1_title": false,
   "title_cell": "Table of Contents",
   "title_sidebar": "Contents",
   "toc_cell": false,
   "toc_position": {
    "height": "calc(100% - 180px)",
    "left": "10px",
    "top": "150px",
    "width": "196px"
   },
   "toc_section_display": true,
   "toc_window_display": false
  }
 },
 "nbformat": 4,
 "nbformat_minor": 2
}
